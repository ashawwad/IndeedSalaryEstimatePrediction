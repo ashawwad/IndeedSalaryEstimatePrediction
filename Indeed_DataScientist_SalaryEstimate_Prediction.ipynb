{
 "cells": [
  {
   "cell_type": "markdown",
   "metadata": {},
   "source": [
    "## I have downloaded three data sets, one for Data Scientist Job posts that have an indeed estimated salary of 65000 dollars plus, another for Data Scientist Job Posts that have an indeed estimated salary of 90000 dollars plus and a third data set for Data Scientist Job Posts that have an indeed estimated salary of 145000 dollars plus. "
   ]
  },
  {
   "cell_type": "code",
   "execution_count": 42,
   "metadata": {
    "collapsed": false
   },
   "outputs": [],
   "source": [
    "import graphlab\n",
    "from graphlab import SFrame\n",
    "import pandas as pd\n",
    "indeed145kds = pd.read_csv('sample_df_indeed145k_datascientist.csv')\n",
    "indeed65kds = pd.read_csv('sample_df_indeed65k_datascientist.csv')\n",
    "indeed90kds = pd.read_csv('sample_df_indeed90k_datascientist.csv')\n",
    "indeed145kdssf = SFrame(data=indeed145kds)\n",
    "\n",
    "\n",
    "indeed65kdssf = SFrame(data=indeed65kds)\n",
    "indeed90kdssf = SFrame(data=indeed90kds)"
   ]
  },
  {
   "cell_type": "code",
   "execution_count": 43,
   "metadata": {
    "collapsed": true
   },
   "outputs": [],
   "source": [
    "indeed65kdssf ['originalestimate'] = '65k+'\n",
    "indeed90kdssf ['originalestimate'] = '90k+'\n",
    "indeed145kdssf ['originalestimate'] = '145k+'"
   ]
  },
  {
   "cell_type": "code",
   "execution_count": 4,
   "metadata": {
    "collapsed": true
   },
   "outputs": [],
   "source": []
  },
  {
   "cell_type": "code",
   "execution_count": 44,
   "metadata": {
    "collapsed": true
   },
   "outputs": [],
   "source": [
    "import graphlab as gl\n",
    "indeed90kdssf['word_count'] = graphlab.text_analytics.count_words(indeed90kdssf['summary'], delimiters=None) \n",
    "indeed90kdssf['job_word_count'] = graphlab.text_analytics.count_words(indeed90kdssf['job_title'], delimiters=None) \n",
    "indeed90kdssf['job_tfidf'] = graphlab.text_analytics.tf_idf(indeed90kdssf['job_word_count'])\n",
    "indeed90kdssf['1gram features'] = gl.text_analytics.count_ngrams(indeed90kdssf['summary'], 1)\n",
    "indeed90kdssf['2gram features'] = gl.text_analytics.count_ngrams(indeed90kdssf['summary'], 2)\n",
    "indeed90kdssf['3gram features'] = gl.text_analytics.count_ngrams(indeed90kdssf['summary'], 3)\n",
    "indeed90kdssf['tfidf'] =  graphlab.text_analytics.tf_idf(indeed90kdssf['word_count'])\n",
    "\n",
    "indeed65kdssf['word_count'] = graphlab.text_analytics.count_words(indeed65kdssf['summary'], delimiters=None) \n",
    "indeed65kdssf['job_word_count'] = graphlab.text_analytics.count_words(indeed65kdssf['job_title'], delimiters=None) \n",
    "indeed65kdssf['job_tfidf'] = graphlab.text_analytics.tf_idf(indeed65kdssf['job_word_count'])\n",
    "indeed65kdssf['1gram features'] = gl.text_analytics.count_ngrams(indeed65kdssf['summary'], 1)\n",
    "indeed65kdssf['2gram features'] = gl.text_analytics.count_ngrams(indeed65kdssf['summary'], 2)\n",
    "indeed65kdssf['3gram features'] = gl.text_analytics.count_ngrams(indeed65kdssf['summary'], 3)\n",
    "indeed65kdssf['tfidf'] =  graphlab.text_analytics.tf_idf(indeed65kdssf['word_count'])"
   ]
  },
  {
   "cell_type": "code",
   "execution_count": 252,
   "metadata": {
    "collapsed": true
   },
   "outputs": [],
   "source": [
    "#After saving indeed65kdssf and indeed90kdssf sframes, I have sampled one percent of the combined \n",
    "#(indeed90kdssf and indeed65kdssf) to get a 1% test set with the same distribution as the remaining 99% training set.\n",
    "#Then trained a Fast text model and a doc2vec model on the training set. The steps for training the Doc2vec\n",
    "# and Fast text model then inferring the average fast text vector and the doc2vec vector for each sample in the training and\n",
    "# test set are shown in the following IPYTHON NOTEBOOK that I have created.\n",
    "# link: \n",
    "# here I am loading the training set after computing the average fast text and Doc2vec vectors\n",
    "\n",
    "\n",
    "indeed65k_90k_dssf_train = pd.read_csv(\"indeed65k_90k_dssf_train.csv\")\n",
    "indeed65k_90k_dssf_test = pd.read_csv(\"indeed65k_90k_dssf_test.csv\")"
   ]
  },
  {
   "cell_type": "markdown",
   "metadata": {
    "collapsed": true
   },
   "source": [
    "## We have experiemnted with L1 and L2 penalties throughout model training and grid search and we found that setting L2 penalties to 10 or 100 yeilds the best results on the training set as well as on the Validation set. Therefore we only varied the L2_Penalty between taking a value of 10 or 100."
   ]
  },
  {
   "cell_type": "code",
   "execution_count": 91,
   "metadata": {
    "collapsed": false
   },
   "outputs": [
    {
     "name": "stdout",
     "output_type": "stream",
     "text": [
      "PROGRESS: Creating a validation set from 5 percent of training data. This may take a while.\n",
      "          You can set ``validation_set=None`` to disable validation tracking.\n",
      "\n"
     ]
    },
    {
     "data": {
      "text/html": [
       "<pre>Logistic regression:</pre>"
      ],
      "text/plain": [
       "Logistic regression:"
      ]
     },
     "metadata": {},
     "output_type": "display_data"
    },
    {
     "data": {
      "text/html": [
       "<pre>--------------------------------------------------------</pre>"
      ],
      "text/plain": [
       "--------------------------------------------------------"
      ]
     },
     "metadata": {},
     "output_type": "display_data"
    },
    {
     "data": {
      "text/html": [
       "<pre>Number of examples          : 53960</pre>"
      ],
      "text/plain": [
       "Number of examples          : 53960"
      ]
     },
     "metadata": {},
     "output_type": "display_data"
    },
    {
     "data": {
      "text/html": [
       "<pre>Number of classes           : 2</pre>"
      ],
      "text/plain": [
       "Number of classes           : 2"
      ]
     },
     "metadata": {},
     "output_type": "display_data"
    },
    {
     "data": {
      "text/html": [
       "<pre>Number of feature columns   : 1</pre>"
      ],
      "text/plain": [
       "Number of feature columns   : 1"
      ]
     },
     "metadata": {},
     "output_type": "display_data"
    },
    {
     "data": {
      "text/html": [
       "<pre>Number of unpacked features : 1</pre>"
      ],
      "text/plain": [
       "Number of unpacked features : 1"
      ]
     },
     "metadata": {},
     "output_type": "display_data"
    },
    {
     "data": {
      "text/html": [
       "<pre>Number of coefficients    : 4826</pre>"
      ],
      "text/plain": [
       "Number of coefficients    : 4826"
      ]
     },
     "metadata": {},
     "output_type": "display_data"
    },
    {
     "data": {
      "text/html": [
       "<pre>Starting L-BFGS</pre>"
      ],
      "text/plain": [
       "Starting L-BFGS"
      ]
     },
     "metadata": {},
     "output_type": "display_data"
    },
    {
     "data": {
      "text/html": [
       "<pre>--------------------------------------------------------</pre>"
      ],
      "text/plain": [
       "--------------------------------------------------------"
      ]
     },
     "metadata": {},
     "output_type": "display_data"
    },
    {
     "data": {
      "text/html": [
       "<pre>+-----------+----------+-----------+--------------+-------------------+---------------------+</pre>"
      ],
      "text/plain": [
       "+-----------+----------+-----------+--------------+-------------------+---------------------+"
      ]
     },
     "metadata": {},
     "output_type": "display_data"
    },
    {
     "data": {
      "text/html": [
       "<pre>| Iteration | Passes   | Step size | Elapsed Time | Training-accuracy | Validation-accuracy |</pre>"
      ],
      "text/plain": [
       "| Iteration | Passes   | Step size | Elapsed Time | Training-accuracy | Validation-accuracy |"
      ]
     },
     "metadata": {},
     "output_type": "display_data"
    },
    {
     "data": {
      "text/html": [
       "<pre>+-----------+----------+-----------+--------------+-------------------+---------------------+</pre>"
      ],
      "text/plain": [
       "+-----------+----------+-----------+--------------+-------------------+---------------------+"
      ]
     },
     "metadata": {},
     "output_type": "display_data"
    },
    {
     "data": {
      "text/html": [
       "<pre>| 1         | 4        | 0.000093  | 0.049035     | 0.904411          | 0.857342            |</pre>"
      ],
      "text/plain": [
       "| 1         | 4        | 0.000093  | 0.049035     | 0.904411          | 0.857342            |"
      ]
     },
     "metadata": {},
     "output_type": "display_data"
    },
    {
     "data": {
      "text/html": [
       "<pre>| 2         | 6        | 1.000000  | 0.078556     | 0.931245          | 0.921172            |</pre>"
      ],
      "text/plain": [
       "| 2         | 6        | 1.000000  | 0.078556     | 0.931245          | 0.921172            |"
      ]
     },
     "metadata": {},
     "output_type": "display_data"
    },
    {
     "data": {
      "text/html": [
       "<pre>| 3         | 7        | 1.000000  | 0.098070     | 0.931245          | 0.921172            |</pre>"
      ],
      "text/plain": [
       "| 3         | 7        | 1.000000  | 0.098070     | 0.931245          | 0.921172            |"
      ]
     },
     "metadata": {},
     "output_type": "display_data"
    },
    {
     "data": {
      "text/html": [
       "<pre>| 4         | 8        | 1.000000  | 0.148105     | 0.903688          | 0.896756            |</pre>"
      ],
      "text/plain": [
       "| 4         | 8        | 1.000000  | 0.148105     | 0.903688          | 0.896756            |"
      ]
     },
     "metadata": {},
     "output_type": "display_data"
    },
    {
     "data": {
      "text/html": [
       "<pre>| 5         | 9        | 1.000000  | 0.168620     | 0.922572          | 0.911754            |</pre>"
      ],
      "text/plain": [
       "| 5         | 9        | 1.000000  | 0.168620     | 0.922572          | 0.911754            |"
      ]
     },
     "metadata": {},
     "output_type": "display_data"
    },
    {
     "data": {
      "text/html": [
       "<pre>| 6         | 10       | 1.000000  | 0.187132     | 0.922832          | 0.912103            |</pre>"
      ],
      "text/plain": [
       "| 6         | 10       | 1.000000  | 0.187132     | 0.922832          | 0.912103            |"
      ]
     },
     "metadata": {},
     "output_type": "display_data"
    },
    {
     "data": {
      "text/html": [
       "<pre>| 11        | 16       | 1.000000  | 0.320727     | 0.922572          | 0.911754            |</pre>"
      ],
      "text/plain": [
       "| 11        | 16       | 1.000000  | 0.320727     | 0.922572          | 0.911754            |"
      ]
     },
     "metadata": {},
     "output_type": "display_data"
    },
    {
     "data": {
      "text/html": [
       "<pre>+-----------+----------+-----------+--------------+-------------------+---------------------+</pre>"
      ],
      "text/plain": [
       "+-----------+----------+-----------+--------------+-------------------+---------------------+"
      ]
     },
     "metadata": {},
     "output_type": "display_data"
    },
    {
     "data": {
      "text/html": [
       "<pre>SUCCESS: Optimal solution found.</pre>"
      ],
      "text/plain": [
       "SUCCESS: Optimal solution found."
      ]
     },
     "metadata": {},
     "output_type": "display_data"
    },
    {
     "data": {
      "text/html": [
       "<pre></pre>"
      ],
      "text/plain": []
     },
     "metadata": {},
     "output_type": "display_data"
    },
    {
     "name": "stdout",
     "output_type": "stream",
     "text": [
      "PROGRESS: Creating a validation set from 5 percent of training data. This may take a while.\n",
      "          You can set ``validation_set=None`` to disable validation tracking.\n",
      "\n"
     ]
    },
    {
     "data": {
      "text/html": [
       "<pre>Logistic regression:</pre>"
      ],
      "text/plain": [
       "Logistic regression:"
      ]
     },
     "metadata": {},
     "output_type": "display_data"
    },
    {
     "data": {
      "text/html": [
       "<pre>--------------------------------------------------------</pre>"
      ],
      "text/plain": [
       "--------------------------------------------------------"
      ]
     },
     "metadata": {},
     "output_type": "display_data"
    },
    {
     "data": {
      "text/html": [
       "<pre>Number of examples          : 53938</pre>"
      ],
      "text/plain": [
       "Number of examples          : 53938"
      ]
     },
     "metadata": {},
     "output_type": "display_data"
    },
    {
     "data": {
      "text/html": [
       "<pre>Number of classes           : 2</pre>"
      ],
      "text/plain": [
       "Number of classes           : 2"
      ]
     },
     "metadata": {},
     "output_type": "display_data"
    },
    {
     "data": {
      "text/html": [
       "<pre>Number of feature columns   : 1</pre>"
      ],
      "text/plain": [
       "Number of feature columns   : 1"
      ]
     },
     "metadata": {},
     "output_type": "display_data"
    },
    {
     "data": {
      "text/html": [
       "<pre>Number of unpacked features : 1</pre>"
      ],
      "text/plain": [
       "Number of unpacked features : 1"
      ]
     },
     "metadata": {},
     "output_type": "display_data"
    },
    {
     "data": {
      "text/html": [
       "<pre>Number of coefficients    : 4824</pre>"
      ],
      "text/plain": [
       "Number of coefficients    : 4824"
      ]
     },
     "metadata": {},
     "output_type": "display_data"
    },
    {
     "data": {
      "text/html": [
       "<pre>Starting L-BFGS</pre>"
      ],
      "text/plain": [
       "Starting L-BFGS"
      ]
     },
     "metadata": {},
     "output_type": "display_data"
    },
    {
     "data": {
      "text/html": [
       "<pre>--------------------------------------------------------</pre>"
      ],
      "text/plain": [
       "--------------------------------------------------------"
      ]
     },
     "metadata": {},
     "output_type": "display_data"
    },
    {
     "data": {
      "text/html": [
       "<pre>+-----------+----------+-----------+--------------+-------------------+---------------------+</pre>"
      ],
      "text/plain": [
       "+-----------+----------+-----------+--------------+-------------------+---------------------+"
      ]
     },
     "metadata": {},
     "output_type": "display_data"
    },
    {
     "data": {
      "text/html": [
       "<pre>| Iteration | Passes   | Step size | Elapsed Time | Training-accuracy | Validation-accuracy |</pre>"
      ],
      "text/plain": [
       "| Iteration | Passes   | Step size | Elapsed Time | Training-accuracy | Validation-accuracy |"
      ]
     },
     "metadata": {},
     "output_type": "display_data"
    },
    {
     "data": {
      "text/html": [
       "<pre>+-----------+----------+-----------+--------------+-------------------+---------------------+</pre>"
      ],
      "text/plain": [
       "+-----------+----------+-----------+--------------+-------------------+---------------------+"
      ]
     },
     "metadata": {},
     "output_type": "display_data"
    },
    {
     "data": {
      "text/html": [
       "<pre>| 1         | 4        | 0.000093  | 0.039528     | 0.905150          | 0.845967            |</pre>"
      ],
      "text/plain": [
       "| 1         | 4        | 0.000093  | 0.039528     | 0.905150          | 0.845967            |"
      ]
     },
     "metadata": {},
     "output_type": "display_data"
    },
    {
     "data": {
      "text/html": [
       "<pre>| 2         | 6        | 1.000000  | 0.068048     | 0.931495          | 0.921772            |</pre>"
      ],
      "text/plain": [
       "| 2         | 6        | 1.000000  | 0.068048     | 0.931495          | 0.921772            |"
      ]
     },
     "metadata": {},
     "output_type": "display_data"
    },
    {
     "data": {
      "text/html": [
       "<pre>| 3         | 7        | 1.000000  | 0.089564     | 0.931495          | 0.921772            |</pre>"
      ],
      "text/plain": [
       "| 3         | 7        | 1.000000  | 0.089564     | 0.931495          | 0.921772            |"
      ]
     },
     "metadata": {},
     "output_type": "display_data"
    },
    {
     "data": {
      "text/html": [
       "<pre>| 4         | 8        | 1.000000  | 0.108076     | 0.904464          | 0.892696            |</pre>"
      ],
      "text/plain": [
       "| 4         | 8        | 1.000000  | 0.108076     | 0.904464          | 0.892696            |"
      ]
     },
     "metadata": {},
     "output_type": "display_data"
    },
    {
     "data": {
      "text/html": [
       "<pre>| 5         | 9        | 1.000000  | 0.126590     | 0.922615          | 0.908619            |</pre>"
      ],
      "text/plain": [
       "| 5         | 9        | 1.000000  | 0.126590     | 0.922615          | 0.908619            |"
      ]
     },
     "metadata": {},
     "output_type": "display_data"
    },
    {
     "data": {
      "text/html": [
       "<pre>| 6         | 10       | 1.000000  | 0.154610     | 0.931273          | 0.921772            |</pre>"
      ],
      "text/plain": [
       "| 6         | 10       | 1.000000  | 0.154610     | 0.931273          | 0.921772            |"
      ]
     },
     "metadata": {},
     "output_type": "display_data"
    },
    {
     "data": {
      "text/html": [
       "<pre>| 11        | 18       | 1.000000  | 0.306717     | 0.931273          | 0.921772            |</pre>"
      ],
      "text/plain": [
       "| 11        | 18       | 1.000000  | 0.306717     | 0.931273          | 0.921772            |"
      ]
     },
     "metadata": {},
     "output_type": "display_data"
    },
    {
     "data": {
      "text/html": [
       "<pre>+-----------+----------+-----------+--------------+-------------------+---------------------+</pre>"
      ],
      "text/plain": [
       "+-----------+----------+-----------+--------------+-------------------+---------------------+"
      ]
     },
     "metadata": {},
     "output_type": "display_data"
    },
    {
     "data": {
      "text/html": [
       "<pre>SUCCESS: Optimal solution found.</pre>"
      ],
      "text/plain": [
       "SUCCESS: Optimal solution found."
      ]
     },
     "metadata": {},
     "output_type": "display_data"
    },
    {
     "data": {
      "text/html": [
       "<pre></pre>"
      ],
      "text/plain": []
     },
     "metadata": {},
     "output_type": "display_data"
    }
   ],
   "source": [
    "#Training our classification Model and Fetaure Engineering\n",
    "featureset1 = ['1gram features']\n",
    "featureset2 = ['1gram features','2gram features']\n",
    "featureset3 = ['1gram features','2gram features','3gram features']\n",
    "featureset4 = ['1gram features','2gram features','3gram features','city']\n",
    "featureset5 = ['1gram features','2gram features','3gram features','city','job_tfidf']\n",
    "featureset6 = ['1gram features','2gram features','3gram features','city','job_tfidf','location']\n",
    "featureset7 = ['1gram features','2gram features','3gram features','city','job_tfidf','location','company_name']\n",
    "featureset8 = ['1gram features','2gram features','3gram features','city','job_tfidf','location','company_name','AvgFTVector']\n",
    "featureset9 = ['1gram features','2gram features','3gram features','city','job_tfidf','location','company_name','AvgFTVector','job_title']\n",
    "featureset10 = ['1gram features','2gram features','3gram features','city','job_tfidf','location','company_name','AvgFTVector','job_title','D2Vector']\n",
    "model_65_90_FeatureSet1_l2_10 = graphlab.logistic_classifier.create(indeed65k_90k_dssf_train, target='IndeedSalaryEstimate', features=featureset1,max_iterations=1000,class_weights = 'auto',\n",
    "                                                          l2_penalty=10)\n",
    "model_65_90_FeatureSet1_l2_100 = graphlab.logistic_classifier.create(indeed65k_90k_dssf_train, target='IndeedSalaryEstimate', features=featureset1,max_iterations=1000,class_weights = 'auto',\n",
    "                                                          l2_penalty=100)"
   ]
  },
  {
   "cell_type": "code",
   "execution_count": 92,
   "metadata": {
    "collapsed": false
   },
   "outputs": [
    {
     "name": "stdout",
     "output_type": "stream",
     "text": [
      "fscore\n",
      "0.72\n",
      "testacc\n",
      "0.926829268293\n",
      "precision\n",
      "0.620689655172\n",
      "recall\n",
      "0.857142857143\n"
     ]
    }
   ],
   "source": [
    "#Fscore, Accuracy, Precision, Recall when L2_Penalty = 10 and Featureset 1 was used.\n",
    "indeed65k_90k_dssf_test['predictions'] = model_65_90_FeatureSet1_l2_10.predict(indeed65k_90k_dssf_test)\n",
    "\n",
    "finaltestfscore = graphlab.evaluation.f1_score(indeed65k_90k_dssf_test['IndeedSalaryEstimate'], indeed65k_90k_dssf_test['predictions'],average = 'macro')\n",
    "finaltestaccuracy = graphlab.evaluation.accuracy(indeed65k_90k_dssf_test['IndeedSalaryEstimate'], indeed65k_90k_dssf_test['predictions'],average = 'macro')\n",
    "finaltestprecision = graphlab.evaluation.precision(indeed65k_90k_dssf_test['IndeedSalaryEstimate'], indeed65k_90k_dssf_test['predictions'],average = 'macro')\n",
    "finaltestrecall = graphlab.evaluation.recall(indeed65k_90k_dssf_test['IndeedSalaryEstimate'], indeed65k_90k_dssf_test['predictions'],average = 'macro')\n",
    "\n",
    "print \"fscore\"\n",
    "print finaltestfscore\n",
    "print \"testacc\"\n",
    "print finaltestaccuracy\n",
    "\n",
    "print \"precision\"\n",
    "print finaltestprecision\n",
    "\n",
    "print \"recall\"\n",
    "print finaltestrecall"
   ]
  },
  {
   "cell_type": "code",
   "execution_count": 93,
   "metadata": {
    "collapsed": false
   },
   "outputs": [
    {
     "name": "stdout",
     "output_type": "stream",
     "text": [
      "fscore\n",
      "0.739726027397\n",
      "testacc\n",
      "0.933797909408\n",
      "precision\n",
      "0.650602409639\n",
      "recall\n",
      "0.857142857143\n"
     ]
    }
   ],
   "source": [
    "\n",
    "#Fscore, Accuracy, Precision, Recall when L2_Penalty = 100 and Featureset 1 was used.\n",
    "indeed65k_90k_dssf_test['predictions'] = model_65_90_FeatureSet1_l2_100.predict(indeed65k_90k_dssf_test)\n",
    "\n",
    "finaltestfscore = graphlab.evaluation.f1_score(indeed65k_90k_dssf_test['IndeedSalaryEstimate'], indeed65k_90k_dssf_test['predictions'],average = 'macro')\n",
    "finaltestaccuracy = graphlab.evaluation.accuracy(indeed65k_90k_dssf_test['IndeedSalaryEstimate'], indeed65k_90k_dssf_test['predictions'],average = 'macro')\n",
    "finaltestprecision = graphlab.evaluation.precision(indeed65k_90k_dssf_test['IndeedSalaryEstimate'], indeed65k_90k_dssf_test['predictions'],average = 'macro')\n",
    "finaltestrecall = graphlab.evaluation.recall(indeed65k_90k_dssf_test['IndeedSalaryEstimate'], indeed65k_90k_dssf_test['predictions'],average = 'macro')\n",
    "\n",
    "print \"fscore\"\n",
    "print finaltestfscore\n",
    "print \"testacc\"\n",
    "print finaltestaccuracy\n",
    "\n",
    "print \"precision\"\n",
    "print finaltestprecision\n",
    "\n",
    "print \"recall\"\n",
    "print finaltestrecall"
   ]
  },
  {
   "cell_type": "code",
   "execution_count": 94,
   "metadata": {
    "collapsed": false
   },
   "outputs": [
    {
     "name": "stdout",
     "output_type": "stream",
     "text": [
      "PROGRESS: Creating a validation set from 5 percent of training data. This may take a while.\n",
      "          You can set ``validation_set=None`` to disable validation tracking.\n",
      "\n"
     ]
    },
    {
     "data": {
      "text/html": [
       "<pre>Logistic regression:</pre>"
      ],
      "text/plain": [
       "Logistic regression:"
      ]
     },
     "metadata": {},
     "output_type": "display_data"
    },
    {
     "data": {
      "text/html": [
       "<pre>--------------------------------------------------------</pre>"
      ],
      "text/plain": [
       "--------------------------------------------------------"
      ]
     },
     "metadata": {},
     "output_type": "display_data"
    },
    {
     "data": {
      "text/html": [
       "<pre>Number of examples          : 53980</pre>"
      ],
      "text/plain": [
       "Number of examples          : 53980"
      ]
     },
     "metadata": {},
     "output_type": "display_data"
    },
    {
     "data": {
      "text/html": [
       "<pre>Number of classes           : 2</pre>"
      ],
      "text/plain": [
       "Number of classes           : 2"
      ]
     },
     "metadata": {},
     "output_type": "display_data"
    },
    {
     "data": {
      "text/html": [
       "<pre>Number of feature columns   : 2</pre>"
      ],
      "text/plain": [
       "Number of feature columns   : 2"
      ]
     },
     "metadata": {},
     "output_type": "display_data"
    },
    {
     "data": {
      "text/html": [
       "<pre>Number of unpacked features : 2</pre>"
      ],
      "text/plain": [
       "Number of unpacked features : 2"
      ]
     },
     "metadata": {},
     "output_type": "display_data"
    },
    {
     "data": {
      "text/html": [
       "<pre>Number of coefficients    : 9715</pre>"
      ],
      "text/plain": [
       "Number of coefficients    : 9715"
      ]
     },
     "metadata": {},
     "output_type": "display_data"
    },
    {
     "data": {
      "text/html": [
       "<pre>Starting L-BFGS</pre>"
      ],
      "text/plain": [
       "Starting L-BFGS"
      ]
     },
     "metadata": {},
     "output_type": "display_data"
    },
    {
     "data": {
      "text/html": [
       "<pre>--------------------------------------------------------</pre>"
      ],
      "text/plain": [
       "--------------------------------------------------------"
      ]
     },
     "metadata": {},
     "output_type": "display_data"
    },
    {
     "data": {
      "text/html": [
       "<pre>+-----------+----------+-----------+--------------+-------------------+---------------------+</pre>"
      ],
      "text/plain": [
       "+-----------+----------+-----------+--------------+-------------------+---------------------+"
      ]
     },
     "metadata": {},
     "output_type": "display_data"
    },
    {
     "data": {
      "text/html": [
       "<pre>| Iteration | Passes   | Step size | Elapsed Time | Training-accuracy | Validation-accuracy |</pre>"
      ],
      "text/plain": [
       "| Iteration | Passes   | Step size | Elapsed Time | Training-accuracy | Validation-accuracy |"
      ]
     },
     "metadata": {},
     "output_type": "display_data"
    },
    {
     "data": {
      "text/html": [
       "<pre>+-----------+----------+-----------+--------------+-------------------+---------------------+</pre>"
      ],
      "text/plain": [
       "+-----------+----------+-----------+--------------+-------------------+---------------------+"
      ]
     },
     "metadata": {},
     "output_type": "display_data"
    },
    {
     "data": {
      "text/html": [
       "<pre>| 1         | 3        | 0.000019  | 0.037527     | 0.904668          | 0.896382            |</pre>"
      ],
      "text/plain": [
       "| 1         | 3        | 0.000019  | 0.037527     | 0.904668          | 0.896382            |"
      ]
     },
     "metadata": {},
     "output_type": "display_data"
    },
    {
     "data": {
      "text/html": [
       "<pre>| 2         | 5        | 1.000000  | 0.074053     | 0.931604          | 0.919916            |</pre>"
      ],
      "text/plain": [
       "| 2         | 5        | 1.000000  | 0.074053     | 0.931604          | 0.919916            |"
      ]
     },
     "metadata": {},
     "output_type": "display_data"
    },
    {
     "data": {
      "text/html": [
       "<pre>| 3         | 6        | 1.000000  | 0.093566     | 0.931604          | 0.919916            |</pre>"
      ],
      "text/plain": [
       "| 3         | 6        | 1.000000  | 0.093566     | 0.931604          | 0.919916            |"
      ]
     },
     "metadata": {},
     "output_type": "display_data"
    },
    {
     "data": {
      "text/html": [
       "<pre>| 4         | 7        | 1.000000  | 0.113581     | 0.904502          | 0.896031            |</pre>"
      ],
      "text/plain": [
       "| 4         | 7        | 1.000000  | 0.113581     | 0.904502          | 0.896031            |"
      ]
     },
     "metadata": {},
     "output_type": "display_data"
    },
    {
     "data": {
      "text/html": [
       "<pre>| 5         | 8        | 1.000000  | 0.128092     | 0.931604          | 0.919916            |</pre>"
      ],
      "text/plain": [
       "| 5         | 8        | 1.000000  | 0.128092     | 0.931604          | 0.919916            |"
      ]
     },
     "metadata": {},
     "output_type": "display_data"
    },
    {
     "data": {
      "text/html": [
       "<pre>| 6         | 9        | 1.000000  | 0.161114     | 0.923509          | 0.911837            |</pre>"
      ],
      "text/plain": [
       "| 6         | 9        | 1.000000  | 0.161114     | 0.923509          | 0.911837            |"
      ]
     },
     "metadata": {},
     "output_type": "display_data"
    },
    {
     "data": {
      "text/html": [
       "<pre>| 11        | 14       | 1.000000  | 0.303715     | 0.904668          | 0.896382            |</pre>"
      ],
      "text/plain": [
       "| 11        | 14       | 1.000000  | 0.303715     | 0.904668          | 0.896382            |"
      ]
     },
     "metadata": {},
     "output_type": "display_data"
    },
    {
     "data": {
      "text/html": [
       "<pre>| 50        | 66       | 1.000000  | 0.968686     | 0.905224          | 0.896382            |</pre>"
      ],
      "text/plain": [
       "| 50        | 66       | 1.000000  | 0.968686     | 0.905224          | 0.896382            |"
      ]
     },
     "metadata": {},
     "output_type": "display_data"
    },
    {
     "data": {
      "text/html": [
       "<pre>| 51        | 67       | 1.000000  | 0.983196     | 0.905224          | 0.896382            |</pre>"
      ],
      "text/plain": [
       "| 51        | 67       | 1.000000  | 0.983196     | 0.905224          | 0.896382            |"
      ]
     },
     "metadata": {},
     "output_type": "display_data"
    },
    {
     "data": {
      "text/html": [
       "<pre>+-----------+----------+-----------+--------------+-------------------+---------------------+</pre>"
      ],
      "text/plain": [
       "+-----------+----------+-----------+--------------+-------------------+---------------------+"
      ]
     },
     "metadata": {},
     "output_type": "display_data"
    },
    {
     "data": {
      "text/html": [
       "<pre>SUCCESS: Optimal solution found.</pre>"
      ],
      "text/plain": [
       "SUCCESS: Optimal solution found."
      ]
     },
     "metadata": {},
     "output_type": "display_data"
    },
    {
     "data": {
      "text/html": [
       "<pre></pre>"
      ],
      "text/plain": []
     },
     "metadata": {},
     "output_type": "display_data"
    },
    {
     "name": "stdout",
     "output_type": "stream",
     "text": [
      "PROGRESS: Creating a validation set from 5 percent of training data. This may take a while.\n",
      "          You can set ``validation_set=None`` to disable validation tracking.\n",
      "\n"
     ]
    },
    {
     "data": {
      "text/html": [
       "<pre>Logistic regression:</pre>"
      ],
      "text/plain": [
       "Logistic regression:"
      ]
     },
     "metadata": {},
     "output_type": "display_data"
    },
    {
     "data": {
      "text/html": [
       "<pre>--------------------------------------------------------</pre>"
      ],
      "text/plain": [
       "--------------------------------------------------------"
      ]
     },
     "metadata": {},
     "output_type": "display_data"
    },
    {
     "data": {
      "text/html": [
       "<pre>Number of examples          : 54096</pre>"
      ],
      "text/plain": [
       "Number of examples          : 54096"
      ]
     },
     "metadata": {},
     "output_type": "display_data"
    },
    {
     "data": {
      "text/html": [
       "<pre>Number of classes           : 2</pre>"
      ],
      "text/plain": [
       "Number of classes           : 2"
      ]
     },
     "metadata": {},
     "output_type": "display_data"
    },
    {
     "data": {
      "text/html": [
       "<pre>Number of feature columns   : 2</pre>"
      ],
      "text/plain": [
       "Number of feature columns   : 2"
      ]
     },
     "metadata": {},
     "output_type": "display_data"
    },
    {
     "data": {
      "text/html": [
       "<pre>Number of unpacked features : 2</pre>"
      ],
      "text/plain": [
       "Number of unpacked features : 2"
      ]
     },
     "metadata": {},
     "output_type": "display_data"
    },
    {
     "data": {
      "text/html": [
       "<pre>Number of coefficients    : 9655</pre>"
      ],
      "text/plain": [
       "Number of coefficients    : 9655"
      ]
     },
     "metadata": {},
     "output_type": "display_data"
    },
    {
     "data": {
      "text/html": [
       "<pre>Starting L-BFGS</pre>"
      ],
      "text/plain": [
       "Starting L-BFGS"
      ]
     },
     "metadata": {},
     "output_type": "display_data"
    },
    {
     "data": {
      "text/html": [
       "<pre>--------------------------------------------------------</pre>"
      ],
      "text/plain": [
       "--------------------------------------------------------"
      ]
     },
     "metadata": {},
     "output_type": "display_data"
    },
    {
     "data": {
      "text/html": [
       "<pre>+-----------+----------+-----------+--------------+-------------------+---------------------+</pre>"
      ],
      "text/plain": [
       "+-----------+----------+-----------+--------------+-------------------+---------------------+"
      ]
     },
     "metadata": {},
     "output_type": "display_data"
    },
    {
     "data": {
      "text/html": [
       "<pre>| Iteration | Passes   | Step size | Elapsed Time | Training-accuracy | Validation-accuracy |</pre>"
      ],
      "text/plain": [
       "| Iteration | Passes   | Step size | Elapsed Time | Training-accuracy | Validation-accuracy |"
      ]
     },
     "metadata": {},
     "output_type": "display_data"
    },
    {
     "data": {
      "text/html": [
       "<pre>+-----------+----------+-----------+--------------+-------------------+---------------------+</pre>"
      ],
      "text/plain": [
       "+-----------+----------+-----------+--------------+-------------------+---------------------+"
      ]
     },
     "metadata": {},
     "output_type": "display_data"
    },
    {
     "data": {
      "text/html": [
       "<pre>| 1         | 3        | 0.000018  | 0.035023     | 0.904392          | 0.852801            |</pre>"
      ],
      "text/plain": [
       "| 1         | 3        | 0.000018  | 0.035023     | 0.904392          | 0.852801            |"
      ]
     },
     "metadata": {},
     "output_type": "display_data"
    },
    {
     "data": {
      "text/html": [
       "<pre>| 2         | 5        | 1.000000  | 0.058540     | 0.931012          | 0.922739            |</pre>"
      ],
      "text/plain": [
       "| 2         | 5        | 1.000000  | 0.058540     | 0.931012          | 0.922739            |"
      ]
     },
     "metadata": {},
     "output_type": "display_data"
    },
    {
     "data": {
      "text/html": [
       "<pre>| 3         | 6        | 1.000000  | 0.074552     | 0.931233          | 0.922739            |</pre>"
      ],
      "text/plain": [
       "| 3         | 6        | 1.000000  | 0.074552     | 0.931233          | 0.922739            |"
      ]
     },
     "metadata": {},
     "output_type": "display_data"
    },
    {
     "data": {
      "text/html": [
       "<pre>| 4         | 7        | 1.000000  | 0.093065     | 0.903708          | 0.903332            |</pre>"
      ],
      "text/plain": [
       "| 4         | 7        | 1.000000  | 0.093065     | 0.903708          | 0.903332            |"
      ]
     },
     "metadata": {},
     "output_type": "display_data"
    },
    {
     "data": {
      "text/html": [
       "<pre>| 5         | 8        | 1.000000  | 0.116082     | 0.931012          | 0.922739            |</pre>"
      ],
      "text/plain": [
       "| 5         | 8        | 1.000000  | 0.116082     | 0.931012          | 0.922739            |"
      ]
     },
     "metadata": {},
     "output_type": "display_data"
    },
    {
     "data": {
      "text/html": [
       "<pre>| 6         | 9        | 1.000000  | 0.137596     | 0.931012          | 0.922739            |</pre>"
      ],
      "text/plain": [
       "| 6         | 9        | 1.000000  | 0.137596     | 0.931012          | 0.922739            |"
      ]
     },
     "metadata": {},
     "output_type": "display_data"
    },
    {
     "data": {
      "text/html": [
       "<pre>| 11        | 14       | 1.000000  | 0.256180     | 0.930531          | 0.921274            |</pre>"
      ],
      "text/plain": [
       "| 11        | 14       | 1.000000  | 0.256180     | 0.930531          | 0.921274            |"
      ]
     },
     "metadata": {},
     "output_type": "display_data"
    },
    {
     "data": {
      "text/html": [
       "<pre>+-----------+----------+-----------+--------------+-------------------+---------------------+</pre>"
      ],
      "text/plain": [
       "+-----------+----------+-----------+--------------+-------------------+---------------------+"
      ]
     },
     "metadata": {},
     "output_type": "display_data"
    },
    {
     "data": {
      "text/html": [
       "<pre>SUCCESS: Optimal solution found.</pre>"
      ],
      "text/plain": [
       "SUCCESS: Optimal solution found."
      ]
     },
     "metadata": {},
     "output_type": "display_data"
    },
    {
     "data": {
      "text/html": [
       "<pre></pre>"
      ],
      "text/plain": []
     },
     "metadata": {},
     "output_type": "display_data"
    }
   ],
   "source": [
    "#Training our classification Model and Fetaure Engineering\n",
    "featureset1 = ['1gram features']\n",
    "featureset2 = ['1gram features','2gram features']\n",
    "featureset3 = ['1gram features','2gram features','3gram features']\n",
    "featureset4 = ['1gram features','2gram features','3gram features','city']\n",
    "featureset5 = ['1gram features','2gram features','3gram features','city','job_tfidf']\n",
    "featureset6 = ['1gram features','2gram features','3gram features','city','job_tfidf','location']\n",
    "featureset7 = ['1gram features','2gram features','3gram features','city','job_tfidf','location','company_name']\n",
    "featureset8 = ['1gram features','2gram features','3gram features','city','job_tfidf','location','company_name','AvgFTVector']\n",
    "featureset9 = ['1gram features','2gram features','3gram features','city','job_tfidf','location','company_name','AvgFTVector','job_title']\n",
    "featureset10 = ['1gram features','2gram features','3gram features','city','job_tfidf','location','company_name','AvgFTVector','job_title','D2Vector']\n",
    "model_65_90_FeatureSet2_l2_10 = graphlab.logistic_classifier.create(indeed65k_90k_dssf_train, target='IndeedSalaryEstimate', features=featureset2,max_iterations=1000,class_weights = 'auto',\n",
    "                                                          l2_penalty=10)\n",
    "model_65_90_FeatureSet2_l2_100 = graphlab.logistic_classifier.create(indeed65k_90k_dssf_train, target='IndeedSalaryEstimate', features=featureset2,max_iterations=1000,class_weights = 'auto',\n",
    "                                                          l2_penalty=100)"
   ]
  },
  {
   "cell_type": "code",
   "execution_count": 95,
   "metadata": {
    "collapsed": false
   },
   "outputs": [
    {
     "name": "stdout",
     "output_type": "stream",
     "text": [
      "fscore\n",
      "0.682926829268\n",
      "testacc\n",
      "0.909407665505\n",
      "precision\n",
      "0.554455445545\n",
      "recall\n",
      "0.888888888889\n"
     ]
    }
   ],
   "source": [
    "#Fscore, Accuracy, Precision, Recall when L2_Penalty = 10 and Featureset 2 was used.\n",
    "indeed65k_90k_dssf_test['predictions'] = model_65_90_FeatureSet2_l2_10.predict(indeed65k_90k_dssf_test)\n",
    "\n",
    "finaltestfscore = graphlab.evaluation.f1_score(indeed65k_90k_dssf_test['IndeedSalaryEstimate'], indeed65k_90k_dssf_test['predictions'],average = 'macro')\n",
    "finaltestaccuracy = graphlab.evaluation.accuracy(indeed65k_90k_dssf_test['IndeedSalaryEstimate'], indeed65k_90k_dssf_test['predictions'],average = 'macro')\n",
    "finaltestprecision = graphlab.evaluation.precision(indeed65k_90k_dssf_test['IndeedSalaryEstimate'], indeed65k_90k_dssf_test['predictions'],average = 'macro')\n",
    "finaltestrecall = graphlab.evaluation.recall(indeed65k_90k_dssf_test['IndeedSalaryEstimate'], indeed65k_90k_dssf_test['predictions'],average = 'macro')\n",
    "\n",
    "print \"fscore\"\n",
    "print finaltestfscore\n",
    "print \"testacc\"\n",
    "print finaltestaccuracy\n",
    "\n",
    "print \"precision\"\n",
    "print finaltestprecision\n",
    "\n",
    "print \"recall\"\n",
    "print finaltestrecall"
   ]
  },
  {
   "cell_type": "code",
   "execution_count": 96,
   "metadata": {
    "collapsed": false
   },
   "outputs": [
    {
     "name": "stdout",
     "output_type": "stream",
     "text": [
      "fscore\n",
      "0.734693877551\n",
      "testacc\n",
      "0.932055749129\n",
      "precision\n",
      "0.642857142857\n",
      "recall\n",
      "0.857142857143\n"
     ]
    }
   ],
   "source": [
    "#Fscore, Accuracy, Precision, Recall when L2_Penalty = 100 and Featureset 2 was used.\n",
    "indeed65k_90k_dssf_test['predictions'] = model_65_90_FeatureSet2_l2_100.predict(indeed65k_90k_dssf_test)\n",
    "\n",
    "finaltestfscore = graphlab.evaluation.f1_score(indeed65k_90k_dssf_test['IndeedSalaryEstimate'], indeed65k_90k_dssf_test['predictions'],average = 'macro')\n",
    "finaltestaccuracy = graphlab.evaluation.accuracy(indeed65k_90k_dssf_test['IndeedSalaryEstimate'], indeed65k_90k_dssf_test['predictions'],average = 'macro')\n",
    "finaltestprecision = graphlab.evaluation.precision(indeed65k_90k_dssf_test['IndeedSalaryEstimate'], indeed65k_90k_dssf_test['predictions'],average = 'macro')\n",
    "finaltestrecall = graphlab.evaluation.recall(indeed65k_90k_dssf_test['IndeedSalaryEstimate'], indeed65k_90k_dssf_test['predictions'],average = 'macro')\n",
    "\n",
    "print \"fscore\"\n",
    "print finaltestfscore\n",
    "print \"testacc\"\n",
    "print finaltestaccuracy\n",
    "\n",
    "print \"precision\"\n",
    "print finaltestprecision\n",
    "\n",
    "print \"recall\"\n",
    "print finaltestrecall"
   ]
  },
  {
   "cell_type": "code",
   "execution_count": 97,
   "metadata": {
    "collapsed": false
   },
   "outputs": [
    {
     "name": "stdout",
     "output_type": "stream",
     "text": [
      "PROGRESS: Creating a validation set from 5 percent of training data. This may take a while.\n",
      "          You can set ``validation_set=None`` to disable validation tracking.\n",
      "\n"
     ]
    },
    {
     "data": {
      "text/html": [
       "<pre>Logistic regression:</pre>"
      ],
      "text/plain": [
       "Logistic regression:"
      ]
     },
     "metadata": {},
     "output_type": "display_data"
    },
    {
     "data": {
      "text/html": [
       "<pre>--------------------------------------------------------</pre>"
      ],
      "text/plain": [
       "--------------------------------------------------------"
      ]
     },
     "metadata": {},
     "output_type": "display_data"
    },
    {
     "data": {
      "text/html": [
       "<pre>Number of examples          : 54132</pre>"
      ],
      "text/plain": [
       "Number of examples          : 54132"
      ]
     },
     "metadata": {},
     "output_type": "display_data"
    },
    {
     "data": {
      "text/html": [
       "<pre>Number of classes           : 2</pre>"
      ],
      "text/plain": [
       "Number of classes           : 2"
      ]
     },
     "metadata": {},
     "output_type": "display_data"
    },
    {
     "data": {
      "text/html": [
       "<pre>Number of feature columns   : 3</pre>"
      ],
      "text/plain": [
       "Number of feature columns   : 3"
      ]
     },
     "metadata": {},
     "output_type": "display_data"
    },
    {
     "data": {
      "text/html": [
       "<pre>Number of unpacked features : 3</pre>"
      ],
      "text/plain": [
       "Number of unpacked features : 3"
      ]
     },
     "metadata": {},
     "output_type": "display_data"
    },
    {
     "data": {
      "text/html": [
       "<pre>Number of coefficients    : 14539</pre>"
      ],
      "text/plain": [
       "Number of coefficients    : 14539"
      ]
     },
     "metadata": {},
     "output_type": "display_data"
    },
    {
     "data": {
      "text/html": [
       "<pre>Starting L-BFGS</pre>"
      ],
      "text/plain": [
       "Starting L-BFGS"
      ]
     },
     "metadata": {},
     "output_type": "display_data"
    },
    {
     "data": {
      "text/html": [
       "<pre>--------------------------------------------------------</pre>"
      ],
      "text/plain": [
       "--------------------------------------------------------"
      ]
     },
     "metadata": {},
     "output_type": "display_data"
    },
    {
     "data": {
      "text/html": [
       "<pre>+-----------+----------+-----------+--------------+-------------------+---------------------+</pre>"
      ],
      "text/plain": [
       "+-----------+----------+-----------+--------------+-------------------+---------------------+"
      ]
     },
     "metadata": {},
     "output_type": "display_data"
    },
    {
     "data": {
      "text/html": [
       "<pre>| Iteration | Passes   | Step size | Elapsed Time | Training-accuracy | Validation-accuracy |</pre>"
      ],
      "text/plain": [
       "| Iteration | Passes   | Step size | Elapsed Time | Training-accuracy | Validation-accuracy |"
      ]
     },
     "metadata": {},
     "output_type": "display_data"
    },
    {
     "data": {
      "text/html": [
       "<pre>+-----------+----------+-----------+--------------+-------------------+---------------------+</pre>"
      ],
      "text/plain": [
       "+-----------+----------+-----------+--------------+-------------------+---------------------+"
      ]
     },
     "metadata": {},
     "output_type": "display_data"
    },
    {
     "data": {
      "text/html": [
       "<pre>| 1         | 3        | 0.000018  | 0.035524     | 0.904326          | 0.848980            |</pre>"
      ],
      "text/plain": [
       "| 1         | 3        | 0.000018  | 0.035524     | 0.904326          | 0.848980            |"
      ]
     },
     "metadata": {},
     "output_type": "display_data"
    },
    {
     "data": {
      "text/html": [
       "<pre>| 2         | 5        | 1.000000  | 0.067547     | 0.931205          | 0.917625            |</pre>"
      ],
      "text/plain": [
       "| 2         | 5        | 1.000000  | 0.067547     | 0.931205          | 0.917625            |"
      ]
     },
     "metadata": {},
     "output_type": "display_data"
    },
    {
     "data": {
      "text/html": [
       "<pre>| 3         | 6        | 1.000000  | 0.101571     | 0.931205          | 0.917625            |</pre>"
      ],
      "text/plain": [
       "| 3         | 6        | 1.000000  | 0.101571     | 0.931205          | 0.917625            |"
      ]
     },
     "metadata": {},
     "output_type": "display_data"
    },
    {
     "data": {
      "text/html": [
       "<pre>| 4         | 7        | 1.000000  | 0.125589     | 0.904345          | 0.889425            |</pre>"
      ],
      "text/plain": [
       "| 4         | 7        | 1.000000  | 0.125589     | 0.904345          | 0.889425            |"
      ]
     },
     "metadata": {},
     "output_type": "display_data"
    },
    {
     "data": {
      "text/html": [
       "<pre>| 5         | 8        | 1.000000  | 0.149105     | 0.931205          | 0.917625            |</pre>"
      ],
      "text/plain": [
       "| 5         | 8        | 1.000000  | 0.149105     | 0.931205          | 0.917625            |"
      ]
     },
     "metadata": {},
     "output_type": "display_data"
    },
    {
     "data": {
      "text/html": [
       "<pre>| 6         | 9        | 1.000000  | 0.170620     | 0.923095          | 0.909833            |</pre>"
      ],
      "text/plain": [
       "| 6         | 9        | 1.000000  | 0.170620     | 0.923095          | 0.909833            |"
      ]
     },
     "metadata": {},
     "output_type": "display_data"
    },
    {
     "data": {
      "text/html": [
       "<pre>| 11        | 14       | 1.000000  | 0.320226     | 0.923095          | 0.909833            |</pre>"
      ],
      "text/plain": [
       "| 11        | 14       | 1.000000  | 0.320226     | 0.923095          | 0.909833            |"
      ]
     },
     "metadata": {},
     "output_type": "display_data"
    },
    {
     "data": {
      "text/html": [
       "<pre>| 50        | 68       | 1.000000  | 1.259895     | 0.905453          | 0.889425            |</pre>"
      ],
      "text/plain": [
       "| 50        | 68       | 1.000000  | 1.259895     | 0.905453          | 0.889425            |"
      ]
     },
     "metadata": {},
     "output_type": "display_data"
    },
    {
     "data": {
      "text/html": [
       "<pre>| 51        | 69       | 1.000000  | 1.279909     | 0.905453          | 0.889425            |</pre>"
      ],
      "text/plain": [
       "| 51        | 69       | 1.000000  | 1.279909     | 0.905453          | 0.889425            |"
      ]
     },
     "metadata": {},
     "output_type": "display_data"
    },
    {
     "data": {
      "text/html": [
       "<pre>+-----------+----------+-----------+--------------+-------------------+---------------------+</pre>"
      ],
      "text/plain": [
       "+-----------+----------+-----------+--------------+-------------------+---------------------+"
      ]
     },
     "metadata": {},
     "output_type": "display_data"
    },
    {
     "data": {
      "text/html": [
       "<pre>SUCCESS: Optimal solution found.</pre>"
      ],
      "text/plain": [
       "SUCCESS: Optimal solution found."
      ]
     },
     "metadata": {},
     "output_type": "display_data"
    },
    {
     "data": {
      "text/html": [
       "<pre></pre>"
      ],
      "text/plain": []
     },
     "metadata": {},
     "output_type": "display_data"
    },
    {
     "name": "stdout",
     "output_type": "stream",
     "text": [
      "PROGRESS: Creating a validation set from 5 percent of training data. This may take a while.\n",
      "          You can set ``validation_set=None`` to disable validation tracking.\n",
      "\n"
     ]
    },
    {
     "data": {
      "text/html": [
       "<pre>Logistic regression:</pre>"
      ],
      "text/plain": [
       "Logistic regression:"
      ]
     },
     "metadata": {},
     "output_type": "display_data"
    },
    {
     "data": {
      "text/html": [
       "<pre>--------------------------------------------------------</pre>"
      ],
      "text/plain": [
       "--------------------------------------------------------"
      ]
     },
     "metadata": {},
     "output_type": "display_data"
    },
    {
     "data": {
      "text/html": [
       "<pre>Number of examples          : 53891</pre>"
      ],
      "text/plain": [
       "Number of examples          : 53891"
      ]
     },
     "metadata": {},
     "output_type": "display_data"
    },
    {
     "data": {
      "text/html": [
       "<pre>Number of classes           : 2</pre>"
      ],
      "text/plain": [
       "Number of classes           : 2"
      ]
     },
     "metadata": {},
     "output_type": "display_data"
    },
    {
     "data": {
      "text/html": [
       "<pre>Number of feature columns   : 3</pre>"
      ],
      "text/plain": [
       "Number of feature columns   : 3"
      ]
     },
     "metadata": {},
     "output_type": "display_data"
    },
    {
     "data": {
      "text/html": [
       "<pre>Number of unpacked features : 3</pre>"
      ],
      "text/plain": [
       "Number of unpacked features : 3"
      ]
     },
     "metadata": {},
     "output_type": "display_data"
    },
    {
     "data": {
      "text/html": [
       "<pre>Number of coefficients    : 14485</pre>"
      ],
      "text/plain": [
       "Number of coefficients    : 14485"
      ]
     },
     "metadata": {},
     "output_type": "display_data"
    },
    {
     "data": {
      "text/html": [
       "<pre>Starting L-BFGS</pre>"
      ],
      "text/plain": [
       "Starting L-BFGS"
      ]
     },
     "metadata": {},
     "output_type": "display_data"
    },
    {
     "data": {
      "text/html": [
       "<pre>--------------------------------------------------------</pre>"
      ],
      "text/plain": [
       "--------------------------------------------------------"
      ]
     },
     "metadata": {},
     "output_type": "display_data"
    },
    {
     "data": {
      "text/html": [
       "<pre>+-----------+----------+-----------+--------------+-------------------+---------------------+</pre>"
      ],
      "text/plain": [
       "+-----------+----------+-----------+--------------+-------------------+---------------------+"
      ]
     },
     "metadata": {},
     "output_type": "display_data"
    },
    {
     "data": {
      "text/html": [
       "<pre>| Iteration | Passes   | Step size | Elapsed Time | Training-accuracy | Validation-accuracy |</pre>"
      ],
      "text/plain": [
       "| Iteration | Passes   | Step size | Elapsed Time | Training-accuracy | Validation-accuracy |"
      ]
     },
     "metadata": {},
     "output_type": "display_data"
    },
    {
     "data": {
      "text/html": [
       "<pre>+-----------+----------+-----------+--------------+-------------------+---------------------+</pre>"
      ],
      "text/plain": [
       "+-----------+----------+-----------+--------------+-------------------+---------------------+"
      ]
     },
     "metadata": {},
     "output_type": "display_data"
    },
    {
     "data": {
      "text/html": [
       "<pre>| 1         | 3        | 0.000019  | 0.035012     | 0.905142          | 0.894074            |</pre>"
      ],
      "text/plain": [
       "| 1         | 3        | 0.000019  | 0.035012     | 0.905142          | 0.894074            |"
      ]
     },
     "metadata": {},
     "output_type": "display_data"
    },
    {
     "data": {
      "text/html": [
       "<pre>| 2         | 5        | 1.000000  | 0.067037     | 0.931380          | 0.915531            |</pre>"
      ],
      "text/plain": [
       "| 2         | 5        | 1.000000  | 0.067037     | 0.931380          | 0.915531            |"
      ]
     },
     "metadata": {},
     "output_type": "display_data"
    },
    {
     "data": {
      "text/html": [
       "<pre>| 3         | 6        | 1.000000  | 0.095055     | 0.931380          | 0.915531            |</pre>"
      ],
      "text/plain": [
       "| 3         | 6        | 1.000000  | 0.095055     | 0.931380          | 0.915531            |"
      ]
     },
     "metadata": {},
     "output_type": "display_data"
    },
    {
     "data": {
      "text/html": [
       "<pre>| 4         | 7        | 1.000000  | 0.143088     | 0.903991          | 0.893733            |</pre>"
      ],
      "text/plain": [
       "| 4         | 7        | 1.000000  | 0.143088     | 0.903991          | 0.893733            |"
      ]
     },
     "metadata": {},
     "output_type": "display_data"
    },
    {
     "data": {
      "text/html": [
       "<pre>| 5         | 8        | 1.000000  | 0.179113     | 0.931380          | 0.915531            |</pre>"
      ],
      "text/plain": [
       "| 5         | 8        | 1.000000  | 0.179113     | 0.931380          | 0.915531            |"
      ]
     },
     "metadata": {},
     "output_type": "display_data"
    },
    {
     "data": {
      "text/html": [
       "<pre>| 6         | 9        | 1.000000  | 0.207134     | 0.931380          | 0.915531            |</pre>"
      ],
      "text/plain": [
       "| 6         | 9        | 1.000000  | 0.207134     | 0.931380          | 0.915531            |"
      ]
     },
     "metadata": {},
     "output_type": "display_data"
    },
    {
     "data": {
      "text/html": [
       "<pre>| 11        | 14       | 1.000000  | 0.319713     | 0.904307          | 0.894074            |</pre>"
      ],
      "text/plain": [
       "| 11        | 14       | 1.000000  | 0.319713     | 0.904307          | 0.894074            |"
      ]
     },
     "metadata": {},
     "output_type": "display_data"
    },
    {
     "data": {
      "text/html": [
       "<pre>+-----------+----------+-----------+--------------+-------------------+---------------------+</pre>"
      ],
      "text/plain": [
       "+-----------+----------+-----------+--------------+-------------------+---------------------+"
      ]
     },
     "metadata": {},
     "output_type": "display_data"
    },
    {
     "data": {
      "text/html": [
       "<pre>SUCCESS: Optimal solution found.</pre>"
      ],
      "text/plain": [
       "SUCCESS: Optimal solution found."
      ]
     },
     "metadata": {},
     "output_type": "display_data"
    },
    {
     "data": {
      "text/html": [
       "<pre></pre>"
      ],
      "text/plain": []
     },
     "metadata": {},
     "output_type": "display_data"
    }
   ],
   "source": [
    "#Training our classification Model and Fetaure Engineering\n",
    "featureset1 = ['1gram features']\n",
    "featureset2 = ['1gram features','2gram features']\n",
    "featureset3 = ['1gram features','2gram features','3gram features']\n",
    "featureset4 = ['1gram features','2gram features','3gram features','city']\n",
    "featureset5 = ['1gram features','2gram features','3gram features','city','job_tfidf']\n",
    "featureset6 = ['1gram features','2gram features','3gram features','city','job_tfidf','location']\n",
    "featureset7 = ['1gram features','2gram features','3gram features','city','job_tfidf','location','company_name']\n",
    "featureset8 = ['1gram features','2gram features','3gram features','city','job_tfidf','location','company_name','AvgFTVector']\n",
    "featureset9 = ['1gram features','2gram features','3gram features','city','job_tfidf','location','company_name','AvgFTVector','job_title']\n",
    "featureset10 = ['1gram features','2gram features','3gram features','city','job_tfidf','location','company_name','AvgFTVector','job_title','D2Vector']\n",
    "model_65_90_FeatureSet3_l2_10 = graphlab.logistic_classifier.create(indeed65k_90k_dssf_train, target='IndeedSalaryEstimate', features=featureset3,max_iterations=1000,class_weights = 'auto',\n",
    "                                                          l2_penalty=10)\n",
    "model_65_90_FeatureSet3_l2_100 = graphlab.logistic_classifier.create(indeed65k_90k_dssf_train, target='IndeedSalaryEstimate', features=featureset3,max_iterations=1000,class_weights = 'auto',\n",
    "                                                          l2_penalty=100)"
   ]
  },
  {
   "cell_type": "code",
   "execution_count": 98,
   "metadata": {
    "collapsed": false
   },
   "outputs": [
    {
     "name": "stdout",
     "output_type": "stream",
     "text": [
      "fscore\n",
      "0.678787878788\n",
      "testacc\n",
      "0.907665505226\n",
      "precision\n",
      "0.549019607843\n",
      "recall\n",
      "0.888888888889\n"
     ]
    }
   ],
   "source": [
    "#Fscore, Accuracy, Precision, Recall when L2_Penalty = 10 and Featureset 3 was used.\n",
    "indeed65k_90k_dssf_test['predictions'] = model_65_90_FeatureSet3_l2_10.predict(indeed65k_90k_dssf_test)\n",
    "\n",
    "finaltestfscore = graphlab.evaluation.f1_score(indeed65k_90k_dssf_test['IndeedSalaryEstimate'], indeed65k_90k_dssf_test['predictions'],average = 'macro')\n",
    "finaltestaccuracy = graphlab.evaluation.accuracy(indeed65k_90k_dssf_test['IndeedSalaryEstimate'], indeed65k_90k_dssf_test['predictions'],average = 'macro')\n",
    "finaltestprecision = graphlab.evaluation.precision(indeed65k_90k_dssf_test['IndeedSalaryEstimate'], indeed65k_90k_dssf_test['predictions'],average = 'macro')\n",
    "finaltestrecall = graphlab.evaluation.recall(indeed65k_90k_dssf_test['IndeedSalaryEstimate'], indeed65k_90k_dssf_test['predictions'],average = 'macro')\n",
    "\n",
    "print \"fscore\"\n",
    "print finaltestfscore\n",
    "print \"testacc\"\n",
    "print finaltestaccuracy\n",
    "\n",
    "print \"precision\"\n",
    "print finaltestprecision\n",
    "\n",
    "print \"recall\"\n",
    "print finaltestrecall"
   ]
  },
  {
   "cell_type": "code",
   "execution_count": 99,
   "metadata": {
    "collapsed": false
   },
   "outputs": [
    {
     "name": "stdout",
     "output_type": "stream",
     "text": [
      "fscore\n",
      "0.731034482759\n",
      "testacc\n",
      "0.932055749129\n",
      "precision\n",
      "0.646341463415\n",
      "recall\n",
      "0.84126984127\n"
     ]
    }
   ],
   "source": [
    "#Fscore, Accuracy, Precision, Recall when L2_Penalty = 100 and Featureset 3 was used.\n",
    "indeed65k_90k_dssf_test['predictions'] = model_65_90_FeatureSet3_l2_100.predict(indeed65k_90k_dssf_test)\n",
    "\n",
    "finaltestfscore = graphlab.evaluation.f1_score(indeed65k_90k_dssf_test['IndeedSalaryEstimate'], indeed65k_90k_dssf_test['predictions'],average = 'macro')\n",
    "finaltestaccuracy = graphlab.evaluation.accuracy(indeed65k_90k_dssf_test['IndeedSalaryEstimate'], indeed65k_90k_dssf_test['predictions'],average = 'macro')\n",
    "finaltestprecision = graphlab.evaluation.precision(indeed65k_90k_dssf_test['IndeedSalaryEstimate'], indeed65k_90k_dssf_test['predictions'],average = 'macro')\n",
    "finaltestrecall = graphlab.evaluation.recall(indeed65k_90k_dssf_test['IndeedSalaryEstimate'], indeed65k_90k_dssf_test['predictions'],average = 'macro')\n",
    "\n",
    "print \"fscore\"\n",
    "print finaltestfscore\n",
    "print \"testacc\"\n",
    "print finaltestaccuracy\n",
    "\n",
    "print \"precision\"\n",
    "print finaltestprecision\n",
    "\n",
    "print \"recall\"\n",
    "print finaltestrecall"
   ]
  },
  {
   "cell_type": "code",
   "execution_count": 100,
   "metadata": {
    "collapsed": false
   },
   "outputs": [
    {
     "name": "stdout",
     "output_type": "stream",
     "text": [
      "PROGRESS: Creating a validation set from 5 percent of training data. This may take a while.\n",
      "          You can set ``validation_set=None`` to disable validation tracking.\n",
      "\n"
     ]
    },
    {
     "data": {
      "text/html": [
       "<pre>Logistic regression:</pre>"
      ],
      "text/plain": [
       "Logistic regression:"
      ]
     },
     "metadata": {},
     "output_type": "display_data"
    },
    {
     "data": {
      "text/html": [
       "<pre>--------------------------------------------------------</pre>"
      ],
      "text/plain": [
       "--------------------------------------------------------"
      ]
     },
     "metadata": {},
     "output_type": "display_data"
    },
    {
     "data": {
      "text/html": [
       "<pre>Number of examples          : 53917</pre>"
      ],
      "text/plain": [
       "Number of examples          : 53917"
      ]
     },
     "metadata": {},
     "output_type": "display_data"
    },
    {
     "data": {
      "text/html": [
       "<pre>Number of classes           : 2</pre>"
      ],
      "text/plain": [
       "Number of classes           : 2"
      ]
     },
     "metadata": {},
     "output_type": "display_data"
    },
    {
     "data": {
      "text/html": [
       "<pre>Number of feature columns   : 4</pre>"
      ],
      "text/plain": [
       "Number of feature columns   : 4"
      ]
     },
     "metadata": {},
     "output_type": "display_data"
    },
    {
     "data": {
      "text/html": [
       "<pre>Number of unpacked features : 4</pre>"
      ],
      "text/plain": [
       "Number of unpacked features : 4"
      ]
     },
     "metadata": {},
     "output_type": "display_data"
    },
    {
     "data": {
      "text/html": [
       "<pre>Number of coefficients    : 14519</pre>"
      ],
      "text/plain": [
       "Number of coefficients    : 14519"
      ]
     },
     "metadata": {},
     "output_type": "display_data"
    },
    {
     "data": {
      "text/html": [
       "<pre>Starting L-BFGS</pre>"
      ],
      "text/plain": [
       "Starting L-BFGS"
      ]
     },
     "metadata": {},
     "output_type": "display_data"
    },
    {
     "data": {
      "text/html": [
       "<pre>--------------------------------------------------------</pre>"
      ],
      "text/plain": [
       "--------------------------------------------------------"
      ]
     },
     "metadata": {},
     "output_type": "display_data"
    },
    {
     "data": {
      "text/html": [
       "<pre>+-----------+----------+-----------+--------------+-------------------+---------------------+</pre>"
      ],
      "text/plain": [
       "+-----------+----------+-----------+--------------+-------------------+---------------------+"
      ]
     },
     "metadata": {},
     "output_type": "display_data"
    },
    {
     "data": {
      "text/html": [
       "<pre>| Iteration | Passes   | Step size | Elapsed Time | Training-accuracy | Validation-accuracy |</pre>"
      ],
      "text/plain": [
       "| Iteration | Passes   | Step size | Elapsed Time | Training-accuracy | Validation-accuracy |"
      ]
     },
     "metadata": {},
     "output_type": "display_data"
    },
    {
     "data": {
      "text/html": [
       "<pre>+-----------+----------+-----------+--------------+-------------------+---------------------+</pre>"
      ],
      "text/plain": [
       "+-----------+----------+-----------+--------------+-------------------+---------------------+"
      ]
     },
     "metadata": {},
     "output_type": "display_data"
    },
    {
     "data": {
      "text/html": [
       "<pre>| 1         | 3        | 0.000019  | 0.033525     | 0.891556          | 0.890722            |</pre>"
      ],
      "text/plain": [
       "| 1         | 3        | 0.000019  | 0.033525     | 0.891556          | 0.890722            |"
      ]
     },
     "metadata": {},
     "output_type": "display_data"
    },
    {
     "data": {
      "text/html": [
       "<pre>| 2         | 5        | 1.000000  | 0.060043     | 0.929280          | 0.913746            |</pre>"
      ],
      "text/plain": [
       "| 2         | 5        | 1.000000  | 0.060043     | 0.929280          | 0.913746            |"
      ]
     },
     "metadata": {},
     "output_type": "display_data"
    },
    {
     "data": {
      "text/html": [
       "<pre>| 3         | 6        | 1.000000  | 0.107076     | 0.932860          | 0.920962            |</pre>"
      ],
      "text/plain": [
       "| 3         | 6        | 1.000000  | 0.107076     | 0.932860          | 0.920962            |"
      ]
     },
     "metadata": {},
     "output_type": "display_data"
    },
    {
     "data": {
      "text/html": [
       "<pre>| 4         | 7        | 1.000000  | 0.136597     | 0.931858          | 0.919931            |</pre>"
      ],
      "text/plain": [
       "| 4         | 7        | 1.000000  | 0.136597     | 0.931858          | 0.919931            |"
      ]
     },
     "metadata": {},
     "output_type": "display_data"
    },
    {
     "data": {
      "text/html": [
       "<pre>| 5         | 8        | 1.000000  | 0.154110     | 0.933453          | 0.924055            |</pre>"
      ],
      "text/plain": [
       "| 5         | 8        | 1.000000  | 0.154110     | 0.933453          | 0.924055            |"
      ]
     },
     "metadata": {},
     "output_type": "display_data"
    },
    {
     "data": {
      "text/html": [
       "<pre>| 6         | 9        | 1.000000  | 0.172623     | 0.934325          | 0.923024            |</pre>"
      ],
      "text/plain": [
       "| 6         | 9        | 1.000000  | 0.172623     | 0.934325          | 0.923024            |"
      ]
     },
     "metadata": {},
     "output_type": "display_data"
    },
    {
     "data": {
      "text/html": [
       "<pre>| 11        | 14       | 1.000000  | 0.267690     | 0.934028          | 0.922337            |</pre>"
      ],
      "text/plain": [
       "| 11        | 14       | 1.000000  | 0.267690     | 0.934028          | 0.922337            |"
      ]
     },
     "metadata": {},
     "output_type": "display_data"
    },
    {
     "data": {
      "text/html": [
       "<pre>| 50        | 61       | 1.000000  | 0.987198     | 0.934399          | 0.923024            |</pre>"
      ],
      "text/plain": [
       "| 50        | 61       | 1.000000  | 0.987198     | 0.934399          | 0.923024            |"
      ]
     },
     "metadata": {},
     "output_type": "display_data"
    },
    {
     "data": {
      "text/html": [
       "<pre>| 51        | 62       | 1.000000  | 1.003210     | 0.934325          | 0.923024            |</pre>"
      ],
      "text/plain": [
       "| 51        | 62       | 1.000000  | 1.003210     | 0.934325          | 0.923024            |"
      ]
     },
     "metadata": {},
     "output_type": "display_data"
    },
    {
     "data": {
      "text/html": [
       "<pre>| 100       | 141      | 1.000000  | 2.156025     | 0.934344          | 0.923024            |</pre>"
      ],
      "text/plain": [
       "| 100       | 141      | 1.000000  | 2.156025     | 0.934344          | 0.923024            |"
      ]
     },
     "metadata": {},
     "output_type": "display_data"
    },
    {
     "data": {
      "text/html": [
       "<pre>| 101       | 143      | 1.000000  | 2.181544     | 0.934344          | 0.923024            |</pre>"
      ],
      "text/plain": [
       "| 101       | 143      | 1.000000  | 2.181544     | 0.934344          | 0.923024            |"
      ]
     },
     "metadata": {},
     "output_type": "display_data"
    },
    {
     "data": {
      "text/html": [
       "<pre>+-----------+----------+-----------+--------------+-------------------+---------------------+</pre>"
      ],
      "text/plain": [
       "+-----------+----------+-----------+--------------+-------------------+---------------------+"
      ]
     },
     "metadata": {},
     "output_type": "display_data"
    },
    {
     "data": {
      "text/html": [
       "<pre>SUCCESS: Optimal solution found.</pre>"
      ],
      "text/plain": [
       "SUCCESS: Optimal solution found."
      ]
     },
     "metadata": {},
     "output_type": "display_data"
    },
    {
     "data": {
      "text/html": [
       "<pre></pre>"
      ],
      "text/plain": []
     },
     "metadata": {},
     "output_type": "display_data"
    },
    {
     "name": "stdout",
     "output_type": "stream",
     "text": [
      "PROGRESS: Creating a validation set from 5 percent of training data. This may take a while.\n",
      "          You can set ``validation_set=None`` to disable validation tracking.\n",
      "\n"
     ]
    },
    {
     "data": {
      "text/html": [
       "<pre>Logistic regression:</pre>"
      ],
      "text/plain": [
       "Logistic regression:"
      ]
     },
     "metadata": {},
     "output_type": "display_data"
    },
    {
     "data": {
      "text/html": [
       "<pre>--------------------------------------------------------</pre>"
      ],
      "text/plain": [
       "--------------------------------------------------------"
      ]
     },
     "metadata": {},
     "output_type": "display_data"
    },
    {
     "data": {
      "text/html": [
       "<pre>Number of examples          : 54052</pre>"
      ],
      "text/plain": [
       "Number of examples          : 54052"
      ]
     },
     "metadata": {},
     "output_type": "display_data"
    },
    {
     "data": {
      "text/html": [
       "<pre>Number of classes           : 2</pre>"
      ],
      "text/plain": [
       "Number of classes           : 2"
      ]
     },
     "metadata": {},
     "output_type": "display_data"
    },
    {
     "data": {
      "text/html": [
       "<pre>Number of feature columns   : 4</pre>"
      ],
      "text/plain": [
       "Number of feature columns   : 4"
      ]
     },
     "metadata": {},
     "output_type": "display_data"
    },
    {
     "data": {
      "text/html": [
       "<pre>Number of unpacked features : 4</pre>"
      ],
      "text/plain": [
       "Number of unpacked features : 4"
      ]
     },
     "metadata": {},
     "output_type": "display_data"
    },
    {
     "data": {
      "text/html": [
       "<pre>Number of coefficients    : 14588</pre>"
      ],
      "text/plain": [
       "Number of coefficients    : 14588"
      ]
     },
     "metadata": {},
     "output_type": "display_data"
    },
    {
     "data": {
      "text/html": [
       "<pre>Starting L-BFGS</pre>"
      ],
      "text/plain": [
       "Starting L-BFGS"
      ]
     },
     "metadata": {},
     "output_type": "display_data"
    },
    {
     "data": {
      "text/html": [
       "<pre>--------------------------------------------------------</pre>"
      ],
      "text/plain": [
       "--------------------------------------------------------"
      ]
     },
     "metadata": {},
     "output_type": "display_data"
    },
    {
     "data": {
      "text/html": [
       "<pre>+-----------+----------+-----------+--------------+-------------------+---------------------+</pre>"
      ],
      "text/plain": [
       "+-----------+----------+-----------+--------------+-------------------+---------------------+"
      ]
     },
     "metadata": {},
     "output_type": "display_data"
    },
    {
     "data": {
      "text/html": [
       "<pre>| Iteration | Passes   | Step size | Elapsed Time | Training-accuracy | Validation-accuracy |</pre>"
      ],
      "text/plain": [
       "| Iteration | Passes   | Step size | Elapsed Time | Training-accuracy | Validation-accuracy |"
      ]
     },
     "metadata": {},
     "output_type": "display_data"
    },
    {
     "data": {
      "text/html": [
       "<pre>+-----------+----------+-----------+--------------+-------------------+---------------------+</pre>"
      ],
      "text/plain": [
       "+-----------+----------+-----------+--------------+-------------------+---------------------+"
      ]
     },
     "metadata": {},
     "output_type": "display_data"
    },
    {
     "data": {
      "text/html": [
       "<pre>| 1         | 3        | 0.000019  | 0.029019     | 0.891641          | 0.888288            |</pre>"
      ],
      "text/plain": [
       "| 1         | 3        | 0.000019  | 0.029019     | 0.891641          | 0.888288            |"
      ]
     },
     "metadata": {},
     "output_type": "display_data"
    },
    {
     "data": {
      "text/html": [
       "<pre>| 2         | 5        | 1.000000  | 0.060542     | 0.930382          | 0.905586            |</pre>"
      ],
      "text/plain": [
       "| 2         | 5        | 1.000000  | 0.060542     | 0.930382          | 0.905586            |"
      ]
     },
     "metadata": {},
     "output_type": "display_data"
    },
    {
     "data": {
      "text/html": [
       "<pre>| 3         | 6        | 1.000000  | 0.078055     | 0.933342          | 0.909910            |</pre>"
      ],
      "text/plain": [
       "| 3         | 6        | 1.000000  | 0.078055     | 0.933342          | 0.909910            |"
      ]
     },
     "metadata": {},
     "output_type": "display_data"
    },
    {
     "data": {
      "text/html": [
       "<pre>| 4         | 7        | 1.000000  | 0.105073     | 0.932879          | 0.909189            |</pre>"
      ],
      "text/plain": [
       "| 4         | 7        | 1.000000  | 0.105073     | 0.932879          | 0.909189            |"
      ]
     },
     "metadata": {},
     "output_type": "display_data"
    },
    {
     "data": {
      "text/html": [
       "<pre>| 5         | 8        | 1.000000  | 0.123586     | 0.933989          | 0.911351            |</pre>"
      ],
      "text/plain": [
       "| 5         | 8        | 1.000000  | 0.123586     | 0.933989          | 0.911351            |"
      ]
     },
     "metadata": {},
     "output_type": "display_data"
    },
    {
     "data": {
      "text/html": [
       "<pre>| 6         | 9        | 1.000000  | 0.139097     | 0.933971          | 0.909910            |</pre>"
      ],
      "text/plain": [
       "| 6         | 9        | 1.000000  | 0.139097     | 0.933971          | 0.909910            |"
      ]
     },
     "metadata": {},
     "output_type": "display_data"
    },
    {
     "data": {
      "text/html": [
       "<pre>| 11        | 14       | 1.000000  | 0.245173     | 0.934711          | 0.910631            |</pre>"
      ],
      "text/plain": [
       "| 11        | 14       | 1.000000  | 0.245173     | 0.934711          | 0.910631            |"
      ]
     },
     "metadata": {},
     "output_type": "display_data"
    },
    {
     "data": {
      "text/html": [
       "<pre>+-----------+----------+-----------+--------------+-------------------+---------------------+</pre>"
      ],
      "text/plain": [
       "+-----------+----------+-----------+--------------+-------------------+---------------------+"
      ]
     },
     "metadata": {},
     "output_type": "display_data"
    },
    {
     "data": {
      "text/html": [
       "<pre>SUCCESS: Optimal solution found.</pre>"
      ],
      "text/plain": [
       "SUCCESS: Optimal solution found."
      ]
     },
     "metadata": {},
     "output_type": "display_data"
    },
    {
     "data": {
      "text/html": [
       "<pre></pre>"
      ],
      "text/plain": []
     },
     "metadata": {},
     "output_type": "display_data"
    }
   ],
   "source": [
    "#Training our classification Model and Fetaure Engineering\n",
    "featureset1 = ['1gram features']\n",
    "featureset2 = ['1gram features','2gram features']\n",
    "featureset3 = ['1gram features','2gram features','3gram features']\n",
    "featureset4 = ['1gram features','2gram features','3gram features','city']\n",
    "featureset5 = ['1gram features','2gram features','3gram features','city','job_tfidf']\n",
    "featureset6 = ['1gram features','2gram features','3gram features','city','job_tfidf','location']\n",
    "featureset7 = ['1gram features','2gram features','3gram features','city','job_tfidf','location','company_name']\n",
    "featureset8 = ['1gram features','2gram features','3gram features','city','job_tfidf','location','company_name','AvgFTVector']\n",
    "featureset9 = ['1gram features','2gram features','3gram features','city','job_tfidf','location','company_name','AvgFTVector','job_title']\n",
    "featureset10 = ['1gram features','2gram features','3gram features','city','job_tfidf','location','company_name','AvgFTVector','job_title','D2Vector']\n",
    "\n",
    "featureset11 = ['1gram features','2gram features','3gram features','city','job_tfidf','location','company_name','AvgFTVector','job_title']\n",
    "featureset12 = ['1gram features','2gram features','3gram features','city','job_tfidf','location','company_name','AvgFTVector','job_title','D2Vector']\n",
    "model_65_90_FeatureSet4_l2_10 = graphlab.logistic_classifier.create(indeed65k_90k_dssf_train, target='IndeedSalaryEstimate', features=featureset4,max_iterations=1000,class_weights = 'auto',\n",
    "                                                          l2_penalty=10)\n",
    "model_65_90_FeatureSet4_l2_100 = graphlab.logistic_classifier.create(indeed65k_90k_dssf_train, target='IndeedSalaryEstimate', features=featureset4,max_iterations=1000,class_weights = 'auto',\n",
    "                                                          l2_penalty=100)"
   ]
  },
  {
   "cell_type": "code",
   "execution_count": 101,
   "metadata": {
    "collapsed": false
   },
   "outputs": [
    {
     "name": "stdout",
     "output_type": "stream",
     "text": [
      "fscore\n",
      "0.743243243243\n",
      "testacc\n",
      "0.933797909408\n",
      "precision\n",
      "0.647058823529\n",
      "recall\n",
      "0.873015873016\n"
     ]
    }
   ],
   "source": [
    "#Fscore, Accuracy, Precision, Recall when L2_Penalty = 10 and Featureset 4 was used.\n",
    "indeed65k_90k_dssf_test['predictions'] = model_65_90_FeatureSet4_l2_10.predict(indeed65k_90k_dssf_test)\n",
    "\n",
    "finaltestfscore = graphlab.evaluation.f1_score(indeed65k_90k_dssf_test['IndeedSalaryEstimate'], indeed65k_90k_dssf_test['predictions'],average = 'macro')\n",
    "finaltestaccuracy = graphlab.evaluation.accuracy(indeed65k_90k_dssf_test['IndeedSalaryEstimate'], indeed65k_90k_dssf_test['predictions'],average = 'macro')\n",
    "finaltestprecision = graphlab.evaluation.precision(indeed65k_90k_dssf_test['IndeedSalaryEstimate'], indeed65k_90k_dssf_test['predictions'],average = 'macro')\n",
    "finaltestrecall = graphlab.evaluation.recall(indeed65k_90k_dssf_test['IndeedSalaryEstimate'], indeed65k_90k_dssf_test['predictions'],average = 'macro')\n",
    "\n",
    "print \"fscore\"\n",
    "print finaltestfscore\n",
    "print \"testacc\"\n",
    "print finaltestaccuracy\n",
    "\n",
    "print \"precision\"\n",
    "print finaltestprecision\n",
    "\n",
    "print \"recall\"\n",
    "print finaltestrecall"
   ]
  },
  {
   "cell_type": "code",
   "execution_count": 102,
   "metadata": {
    "collapsed": false
   },
   "outputs": [
    {
     "name": "stdout",
     "output_type": "stream",
     "text": [
      "fscore\n",
      "0.751677852349\n",
      "testacc\n",
      "0.935540069686\n",
      "precision\n",
      "0.651162790698\n",
      "recall\n",
      "0.888888888889\n"
     ]
    }
   ],
   "source": [
    "#Fscore, Accuracy, Precision, Recall when L2_Penalty = 100 and Featureset 4 was used.\n",
    "indeed65k_90k_dssf_test['predictions'] = model_65_90_FeatureSet4_l2_100.predict(indeed65k_90k_dssf_test)\n",
    "\n",
    "finaltestfscore = graphlab.evaluation.f1_score(indeed65k_90k_dssf_test['IndeedSalaryEstimate'], indeed65k_90k_dssf_test['predictions'],average = 'macro')\n",
    "finaltestaccuracy = graphlab.evaluation.accuracy(indeed65k_90k_dssf_test['IndeedSalaryEstimate'], indeed65k_90k_dssf_test['predictions'],average = 'macro')\n",
    "finaltestprecision = graphlab.evaluation.precision(indeed65k_90k_dssf_test['IndeedSalaryEstimate'], indeed65k_90k_dssf_test['predictions'],average = 'macro')\n",
    "finaltestrecall = graphlab.evaluation.recall(indeed65k_90k_dssf_test['IndeedSalaryEstimate'], indeed65k_90k_dssf_test['predictions'],average = 'macro')\n",
    "\n",
    "print \"fscore\"\n",
    "print finaltestfscore\n",
    "print \"testacc\"\n",
    "print finaltestaccuracy\n",
    "\n",
    "print \"precision\"\n",
    "print finaltestprecision\n",
    "\n",
    "print \"recall\"\n",
    "print finaltestrecall"
   ]
  },
  {
   "cell_type": "code",
   "execution_count": null,
   "metadata": {
    "collapsed": true
   },
   "outputs": [],
   "source": []
  },
  {
   "cell_type": "code",
   "execution_count": 103,
   "metadata": {
    "collapsed": false
   },
   "outputs": [
    {
     "name": "stdout",
     "output_type": "stream",
     "text": [
      "PROGRESS: Creating a validation set from 5 percent of training data. This may take a while.\n",
      "          You can set ``validation_set=None`` to disable validation tracking.\n",
      "\n"
     ]
    },
    {
     "data": {
      "text/html": [
       "<pre>Logistic regression:</pre>"
      ],
      "text/plain": [
       "Logistic regression:"
      ]
     },
     "metadata": {},
     "output_type": "display_data"
    },
    {
     "data": {
      "text/html": [
       "<pre>--------------------------------------------------------</pre>"
      ],
      "text/plain": [
       "--------------------------------------------------------"
      ]
     },
     "metadata": {},
     "output_type": "display_data"
    },
    {
     "data": {
      "text/html": [
       "<pre>Number of examples          : 54055</pre>"
      ],
      "text/plain": [
       "Number of examples          : 54055"
      ]
     },
     "metadata": {},
     "output_type": "display_data"
    },
    {
     "data": {
      "text/html": [
       "<pre>Number of classes           : 2</pre>"
      ],
      "text/plain": [
       "Number of classes           : 2"
      ]
     },
     "metadata": {},
     "output_type": "display_data"
    },
    {
     "data": {
      "text/html": [
       "<pre>Number of feature columns   : 5</pre>"
      ],
      "text/plain": [
       "Number of feature columns   : 5"
      ]
     },
     "metadata": {},
     "output_type": "display_data"
    },
    {
     "data": {
      "text/html": [
       "<pre>Number of unpacked features : 5</pre>"
      ],
      "text/plain": [
       "Number of unpacked features : 5"
      ]
     },
     "metadata": {},
     "output_type": "display_data"
    },
    {
     "data": {
      "text/html": [
       "<pre>Number of coefficients    : 19318</pre>"
      ],
      "text/plain": [
       "Number of coefficients    : 19318"
      ]
     },
     "metadata": {},
     "output_type": "display_data"
    },
    {
     "data": {
      "text/html": [
       "<pre>Starting L-BFGS</pre>"
      ],
      "text/plain": [
       "Starting L-BFGS"
      ]
     },
     "metadata": {},
     "output_type": "display_data"
    },
    {
     "data": {
      "text/html": [
       "<pre>--------------------------------------------------------</pre>"
      ],
      "text/plain": [
       "--------------------------------------------------------"
      ]
     },
     "metadata": {},
     "output_type": "display_data"
    },
    {
     "data": {
      "text/html": [
       "<pre>+-----------+----------+-----------+--------------+-------------------+---------------------+</pre>"
      ],
      "text/plain": [
       "+-----------+----------+-----------+--------------+-------------------+---------------------+"
      ]
     },
     "metadata": {},
     "output_type": "display_data"
    },
    {
     "data": {
      "text/html": [
       "<pre>| Iteration | Passes   | Step size | Elapsed Time | Training-accuracy | Validation-accuracy |</pre>"
      ],
      "text/plain": [
       "| Iteration | Passes   | Step size | Elapsed Time | Training-accuracy | Validation-accuracy |"
      ]
     },
     "metadata": {},
     "output_type": "display_data"
    },
    {
     "data": {
      "text/html": [
       "<pre>+-----------+----------+-----------+--------------+-------------------+---------------------+</pre>"
      ],
      "text/plain": [
       "+-----------+----------+-----------+--------------+-------------------+---------------------+"
      ]
     },
     "metadata": {},
     "output_type": "display_data"
    },
    {
     "data": {
      "text/html": [
       "<pre>| 1         | 3        | 0.000018  | 0.040028     | 0.918379          | 0.911255            |</pre>"
      ],
      "text/plain": [
       "| 1         | 3        | 0.000018  | 0.040028     | 0.918379          | 0.911255            |"
      ]
     },
     "metadata": {},
     "output_type": "display_data"
    },
    {
     "data": {
      "text/html": [
       "<pre>| 2         | 5        | 1.000000  | 0.073051     | 0.934696          | 0.917749            |</pre>"
      ],
      "text/plain": [
       "| 2         | 5        | 1.000000  | 0.073051     | 0.934696          | 0.917749            |"
      ]
     },
     "metadata": {},
     "output_type": "display_data"
    },
    {
     "data": {
      "text/html": [
       "<pre>| 3         | 6        | 1.000000  | 0.110077     | 0.950717          | 0.932900            |</pre>"
      ],
      "text/plain": [
       "| 3         | 6        | 1.000000  | 0.110077     | 0.950717          | 0.932900            |"
      ]
     },
     "metadata": {},
     "output_type": "display_data"
    },
    {
     "data": {
      "text/html": [
       "<pre>| 4         | 7        | 1.000000  | 0.147104     | 0.986680          | 0.968975            |</pre>"
      ],
      "text/plain": [
       "| 4         | 7        | 1.000000  | 0.147104     | 0.986680          | 0.968975            |"
      ]
     },
     "metadata": {},
     "output_type": "display_data"
    },
    {
     "data": {
      "text/html": [
       "<pre>| 5         | 8        | 1.000000  | 0.169119     | 0.999963          | 0.980519            |</pre>"
      ],
      "text/plain": [
       "| 5         | 8        | 1.000000  | 0.169119     | 0.999963          | 0.980519            |"
      ]
     },
     "metadata": {},
     "output_type": "display_data"
    },
    {
     "data": {
      "text/html": [
       "<pre>| 6         | 9        | 1.000000  | 0.205145     | 0.999963          | 0.981241            |</pre>"
      ],
      "text/plain": [
       "| 6         | 9        | 1.000000  | 0.205145     | 0.999963          | 0.981241            |"
      ]
     },
     "metadata": {},
     "output_type": "display_data"
    },
    {
     "data": {
      "text/html": [
       "<pre>| 11        | 15       | 1.000000  | 0.366258     | 1.000000          | 0.981602            |</pre>"
      ],
      "text/plain": [
       "| 11        | 15       | 1.000000  | 0.366258     | 1.000000          | 0.981602            |"
      ]
     },
     "metadata": {},
     "output_type": "display_data"
    },
    {
     "data": {
      "text/html": [
       "<pre>+-----------+----------+-----------+--------------+-------------------+---------------------+</pre>"
      ],
      "text/plain": [
       "+-----------+----------+-----------+--------------+-------------------+---------------------+"
      ]
     },
     "metadata": {},
     "output_type": "display_data"
    },
    {
     "data": {
      "text/html": [
       "<pre>SUCCESS: Optimal solution found.</pre>"
      ],
      "text/plain": [
       "SUCCESS: Optimal solution found."
      ]
     },
     "metadata": {},
     "output_type": "display_data"
    },
    {
     "data": {
      "text/html": [
       "<pre></pre>"
      ],
      "text/plain": []
     },
     "metadata": {},
     "output_type": "display_data"
    },
    {
     "name": "stdout",
     "output_type": "stream",
     "text": [
      "PROGRESS: Creating a validation set from 5 percent of training data. This may take a while.\n",
      "          You can set ``validation_set=None`` to disable validation tracking.\n",
      "\n"
     ]
    },
    {
     "data": {
      "text/html": [
       "<pre>Logistic regression:</pre>"
      ],
      "text/plain": [
       "Logistic regression:"
      ]
     },
     "metadata": {},
     "output_type": "display_data"
    },
    {
     "data": {
      "text/html": [
       "<pre>--------------------------------------------------------</pre>"
      ],
      "text/plain": [
       "--------------------------------------------------------"
      ]
     },
     "metadata": {},
     "output_type": "display_data"
    },
    {
     "data": {
      "text/html": [
       "<pre>Number of examples          : 54046</pre>"
      ],
      "text/plain": [
       "Number of examples          : 54046"
      ]
     },
     "metadata": {},
     "output_type": "display_data"
    },
    {
     "data": {
      "text/html": [
       "<pre>Number of classes           : 2</pre>"
      ],
      "text/plain": [
       "Number of classes           : 2"
      ]
     },
     "metadata": {},
     "output_type": "display_data"
    },
    {
     "data": {
      "text/html": [
       "<pre>Number of feature columns   : 5</pre>"
      ],
      "text/plain": [
       "Number of feature columns   : 5"
      ]
     },
     "metadata": {},
     "output_type": "display_data"
    },
    {
     "data": {
      "text/html": [
       "<pre>Number of unpacked features : 5</pre>"
      ],
      "text/plain": [
       "Number of unpacked features : 5"
      ]
     },
     "metadata": {},
     "output_type": "display_data"
    },
    {
     "data": {
      "text/html": [
       "<pre>Number of coefficients    : 19242</pre>"
      ],
      "text/plain": [
       "Number of coefficients    : 19242"
      ]
     },
     "metadata": {},
     "output_type": "display_data"
    },
    {
     "data": {
      "text/html": [
       "<pre>Starting L-BFGS</pre>"
      ],
      "text/plain": [
       "Starting L-BFGS"
      ]
     },
     "metadata": {},
     "output_type": "display_data"
    },
    {
     "data": {
      "text/html": [
       "<pre>--------------------------------------------------------</pre>"
      ],
      "text/plain": [
       "--------------------------------------------------------"
      ]
     },
     "metadata": {},
     "output_type": "display_data"
    },
    {
     "data": {
      "text/html": [
       "<pre>+-----------+----------+-----------+--------------+-------------------+---------------------+</pre>"
      ],
      "text/plain": [
       "+-----------+----------+-----------+--------------+-------------------+---------------------+"
      ]
     },
     "metadata": {},
     "output_type": "display_data"
    },
    {
     "data": {
      "text/html": [
       "<pre>| Iteration | Passes   | Step size | Elapsed Time | Training-accuracy | Validation-accuracy |</pre>"
      ],
      "text/plain": [
       "| Iteration | Passes   | Step size | Elapsed Time | Training-accuracy | Validation-accuracy |"
      ]
     },
     "metadata": {},
     "output_type": "display_data"
    },
    {
     "data": {
      "text/html": [
       "<pre>+-----------+----------+-----------+--------------+-------------------+---------------------+</pre>"
      ],
      "text/plain": [
       "+-----------+----------+-----------+--------------+-------------------+---------------------+"
      ]
     },
     "metadata": {},
     "output_type": "display_data"
    },
    {
     "data": {
      "text/html": [
       "<pre>| 1         | 3        | 0.000019  | 0.037035     | 0.917885          | 0.914060            |</pre>"
      ],
      "text/plain": [
       "| 1         | 3        | 0.000019  | 0.037035     | 0.917885          | 0.914060            |"
      ]
     },
     "metadata": {},
     "output_type": "display_data"
    },
    {
     "data": {
      "text/html": [
       "<pre>| 2         | 5        | 1.000000  | 0.065046     | 0.934241          | 0.926645            |</pre>"
      ],
      "text/plain": [
       "| 2         | 5        | 1.000000  | 0.065046     | 0.934241          | 0.926645            |"
      ]
     },
     "metadata": {},
     "output_type": "display_data"
    },
    {
     "data": {
      "text/html": [
       "<pre>| 3         | 6        | 1.000000  | 0.104073     | 0.950561          | 0.935275            |</pre>"
      ],
      "text/plain": [
       "| 3         | 6        | 1.000000  | 0.104073     | 0.950561          | 0.935275            |"
      ]
     },
     "metadata": {},
     "output_type": "display_data"
    },
    {
     "data": {
      "text/html": [
       "<pre>| 4         | 7        | 1.000000  | 0.153108     | 0.986141          | 0.973031            |</pre>"
      ],
      "text/plain": [
       "| 4         | 7        | 1.000000  | 0.153108     | 0.986141          | 0.973031            |"
      ]
     },
     "metadata": {},
     "output_type": "display_data"
    },
    {
     "data": {
      "text/html": [
       "<pre>| 5         | 8        | 1.000000  | 0.185131     | 0.999963          | 0.985617            |</pre>"
      ],
      "text/plain": [
       "| 5         | 8        | 1.000000  | 0.185131     | 0.999963          | 0.985617            |"
      ]
     },
     "metadata": {},
     "output_type": "display_data"
    },
    {
     "data": {
      "text/html": [
       "<pre>| 6         | 9        | 1.000000  | 0.236168     | 0.999963          | 0.985976            |</pre>"
      ],
      "text/plain": [
       "| 6         | 9        | 1.000000  | 0.236168     | 0.999963          | 0.985976            |"
      ]
     },
     "metadata": {},
     "output_type": "display_data"
    },
    {
     "data": {
      "text/html": [
       "<pre>| 11        | 18       | 1.000000  | 0.413292     | 0.999944          | 0.986695            |</pre>"
      ],
      "text/plain": [
       "| 11        | 18       | 1.000000  | 0.413292     | 0.999944          | 0.986695            |"
      ]
     },
     "metadata": {},
     "output_type": "display_data"
    },
    {
     "data": {
      "text/html": [
       "<pre>| 25        | 36       | 1.000000  | 0.686486     | 1.000000          | 0.986695            |</pre>"
      ],
      "text/plain": [
       "| 25        | 36       | 1.000000  | 0.686486     | 1.000000          | 0.986695            |"
      ]
     },
     "metadata": {},
     "output_type": "display_data"
    },
    {
     "data": {
      "text/html": [
       "<pre>+-----------+----------+-----------+--------------+-------------------+---------------------+</pre>"
      ],
      "text/plain": [
       "+-----------+----------+-----------+--------------+-------------------+---------------------+"
      ]
     },
     "metadata": {},
     "output_type": "display_data"
    },
    {
     "data": {
      "text/html": [
       "<pre>SUCCESS: Optimal solution found.</pre>"
      ],
      "text/plain": [
       "SUCCESS: Optimal solution found."
      ]
     },
     "metadata": {},
     "output_type": "display_data"
    },
    {
     "data": {
      "text/html": [
       "<pre></pre>"
      ],
      "text/plain": []
     },
     "metadata": {},
     "output_type": "display_data"
    }
   ],
   "source": [
    "#Training our classification Model and Fetaure Engineering\n",
    "featureset1 = ['1gram features']\n",
    "featureset2 = ['1gram features','2gram features']\n",
    "featureset3 = ['1gram features','2gram features','3gram features']\n",
    "featureset4 = ['1gram features','2gram features','3gram features','city']\n",
    "featureset5 = ['1gram features','2gram features','3gram features','city','job_tfidf']\n",
    "featureset6 = ['1gram features','2gram features','3gram features','city','job_tfidf','location']\n",
    "featureset7 = ['1gram features','2gram features','3gram features','city','job_tfidf','location','company_name']\n",
    "featureset8 = ['1gram features','2gram features','3gram features','city','job_tfidf','location','company_name','AvgFTVector']\n",
    "featureset9 = ['1gram features','2gram features','3gram features','city','job_tfidf','location','company_name','AvgFTVector','job_title']\n",
    "featureset10 = ['1gram features','2gram features','3gram features','city','job_tfidf','location','company_name','AvgFTVector','job_title','D2Vector']\n",
    "model_65_90_FeatureSet5_l2_10 = graphlab.logistic_classifier.create(indeed65k_90k_dssf_train, target='IndeedSalaryEstimate', features=featureset5,max_iterations=1000,class_weights = 'auto',\n",
    "                                                          l2_penalty=10)\n",
    "model_65_90_FeatureSet5_l2_100 = graphlab.logistic_classifier.create(indeed65k_90k_dssf_train, target='IndeedSalaryEstimate', features=featureset5,max_iterations=1000,class_weights = 'auto',\n",
    "                                                          l2_penalty=100)"
   ]
  },
  {
   "cell_type": "code",
   "execution_count": 104,
   "metadata": {
    "collapsed": false
   },
   "outputs": [
    {
     "name": "stdout",
     "output_type": "stream",
     "text": [
      "fscore\n",
      "0.942148760331\n",
      "testacc\n",
      "0.987804878049\n",
      "precision\n",
      "0.98275862069\n",
      "recall\n",
      "0.904761904762\n"
     ]
    }
   ],
   "source": [
    "#Fscore, Accuracy, Precision, Recall when L2_Penalty = 10 and Featureset 5 was used.\n",
    "indeed65k_90k_dssf_test['predictions'] = model_65_90_FeatureSet5_l2_10.predict(indeed65k_90k_dssf_test)\n",
    "\n",
    "finaltestfscore = graphlab.evaluation.f1_score(indeed65k_90k_dssf_test['IndeedSalaryEstimate'], indeed65k_90k_dssf_test['predictions'],average = 'macro')\n",
    "finaltestaccuracy = graphlab.evaluation.accuracy(indeed65k_90k_dssf_test['IndeedSalaryEstimate'], indeed65k_90k_dssf_test['predictions'],average = 'macro')\n",
    "finaltestprecision = graphlab.evaluation.precision(indeed65k_90k_dssf_test['IndeedSalaryEstimate'], indeed65k_90k_dssf_test['predictions'],average = 'macro')\n",
    "finaltestrecall = graphlab.evaluation.recall(indeed65k_90k_dssf_test['IndeedSalaryEstimate'], indeed65k_90k_dssf_test['predictions'],average = 'macro')\n",
    "\n",
    "print \"fscore\"\n",
    "print finaltestfscore\n",
    "print \"testacc\"\n",
    "print finaltestaccuracy\n",
    "\n",
    "print \"precision\"\n",
    "print finaltestprecision\n",
    "\n",
    "print \"recall\"\n",
    "print finaltestrecall"
   ]
  },
  {
   "cell_type": "code",
   "execution_count": 105,
   "metadata": {
    "collapsed": false
   },
   "outputs": [
    {
     "name": "stdout",
     "output_type": "stream",
     "text": [
      "fscore\n",
      "0.933333333333\n",
      "testacc\n",
      "0.98606271777\n",
      "precision\n",
      "0.982456140351\n",
      "recall\n",
      "0.888888888889\n"
     ]
    }
   ],
   "source": [
    "#Fscore, Accuracy, Precision, Recall when L2_Penalty = 100 and Featureset 5 was used.\n",
    "indeed65k_90k_dssf_test['predictions'] = model_65_90_FeatureSet5_l2_100.predict(indeed65k_90k_dssf_test)\n",
    "\n",
    "finaltestfscore = graphlab.evaluation.f1_score(indeed65k_90k_dssf_test['IndeedSalaryEstimate'], indeed65k_90k_dssf_test['predictions'],average = 'macro')\n",
    "finaltestaccuracy = graphlab.evaluation.accuracy(indeed65k_90k_dssf_test['IndeedSalaryEstimate'], indeed65k_90k_dssf_test['predictions'],average = 'macro')\n",
    "finaltestprecision = graphlab.evaluation.precision(indeed65k_90k_dssf_test['IndeedSalaryEstimate'], indeed65k_90k_dssf_test['predictions'],average = 'macro')\n",
    "finaltestrecall = graphlab.evaluation.recall(indeed65k_90k_dssf_test['IndeedSalaryEstimate'], indeed65k_90k_dssf_test['predictions'],average = 'macro')\n",
    "\n",
    "print \"fscore\"\n",
    "print finaltestfscore\n",
    "print \"testacc\"\n",
    "print finaltestaccuracy\n",
    "\n",
    "print \"precision\"\n",
    "print finaltestprecision\n",
    "\n",
    "print \"recall\"\n",
    "print finaltestrecall"
   ]
  },
  {
   "cell_type": "code",
   "execution_count": 106,
   "metadata": {
    "collapsed": false
   },
   "outputs": [
    {
     "name": "stdout",
     "output_type": "stream",
     "text": [
      "PROGRESS: Creating a validation set from 5 percent of training data. This may take a while.\n",
      "          You can set ``validation_set=None`` to disable validation tracking.\n",
      "\n"
     ]
    },
    {
     "data": {
      "text/html": [
       "<pre>Logistic regression:</pre>"
      ],
      "text/plain": [
       "Logistic regression:"
      ]
     },
     "metadata": {},
     "output_type": "display_data"
    },
    {
     "data": {
      "text/html": [
       "<pre>--------------------------------------------------------</pre>"
      ],
      "text/plain": [
       "--------------------------------------------------------"
      ]
     },
     "metadata": {},
     "output_type": "display_data"
    },
    {
     "data": {
      "text/html": [
       "<pre>Number of examples          : 54034</pre>"
      ],
      "text/plain": [
       "Number of examples          : 54034"
      ]
     },
     "metadata": {},
     "output_type": "display_data"
    },
    {
     "data": {
      "text/html": [
       "<pre>Number of classes           : 2</pre>"
      ],
      "text/plain": [
       "Number of classes           : 2"
      ]
     },
     "metadata": {},
     "output_type": "display_data"
    },
    {
     "data": {
      "text/html": [
       "<pre>Number of feature columns   : 6</pre>"
      ],
      "text/plain": [
       "Number of feature columns   : 6"
      ]
     },
     "metadata": {},
     "output_type": "display_data"
    },
    {
     "data": {
      "text/html": [
       "<pre>Number of unpacked features : 6</pre>"
      ],
      "text/plain": [
       "Number of unpacked features : 6"
      ]
     },
     "metadata": {},
     "output_type": "display_data"
    },
    {
     "data": {
      "text/html": [
       "<pre>Number of coefficients    : 20113</pre>"
      ],
      "text/plain": [
       "Number of coefficients    : 20113"
      ]
     },
     "metadata": {},
     "output_type": "display_data"
    },
    {
     "data": {
      "text/html": [
       "<pre>Starting L-BFGS</pre>"
      ],
      "text/plain": [
       "Starting L-BFGS"
      ]
     },
     "metadata": {},
     "output_type": "display_data"
    },
    {
     "data": {
      "text/html": [
       "<pre>--------------------------------------------------------</pre>"
      ],
      "text/plain": [
       "--------------------------------------------------------"
      ]
     },
     "metadata": {},
     "output_type": "display_data"
    },
    {
     "data": {
      "text/html": [
       "<pre>+-----------+----------+-----------+--------------+-------------------+---------------------+</pre>"
      ],
      "text/plain": [
       "+-----------+----------+-----------+--------------+-------------------+---------------------+"
      ]
     },
     "metadata": {},
     "output_type": "display_data"
    },
    {
     "data": {
      "text/html": [
       "<pre>| Iteration | Passes   | Step size | Elapsed Time | Training-accuracy | Validation-accuracy |</pre>"
      ],
      "text/plain": [
       "| Iteration | Passes   | Step size | Elapsed Time | Training-accuracy | Validation-accuracy |"
      ]
     },
     "metadata": {},
     "output_type": "display_data"
    },
    {
     "data": {
      "text/html": [
       "<pre>+-----------+----------+-----------+--------------+-------------------+---------------------+</pre>"
      ],
      "text/plain": [
       "+-----------+----------+-----------+--------------+-------------------+---------------------+"
      ]
     },
     "metadata": {},
     "output_type": "display_data"
    },
    {
     "data": {
      "text/html": [
       "<pre>| 1         | 3        | 0.000019  | 0.035043     | 0.895510          | 0.900107            |</pre>"
      ],
      "text/plain": [
       "| 1         | 3        | 0.000019  | 0.035043     | 0.895510          | 0.900107            |"
      ]
     },
     "metadata": {},
     "output_type": "display_data"
    },
    {
     "data": {
      "text/html": [
       "<pre>| 2         | 5        | 1.000000  | 0.073052     | 0.932820          | 0.934479            |</pre>"
      ],
      "text/plain": [
       "| 2         | 5        | 1.000000  | 0.073052     | 0.932820          | 0.934479            |"
      ]
     },
     "metadata": {},
     "output_type": "display_data"
    },
    {
     "data": {
      "text/html": [
       "<pre>| 3         | 6        | 1.000000  | 0.096068     | 0.954566          | 0.948443            |</pre>"
      ],
      "text/plain": [
       "| 3         | 6        | 1.000000  | 0.096068     | 0.954566          | 0.948443            |"
      ]
     },
     "metadata": {},
     "output_type": "display_data"
    },
    {
     "data": {
      "text/html": [
       "<pre>| 4         | 7        | 1.000000  | 0.137098     | 0.981438          | 0.968493            |</pre>"
      ],
      "text/plain": [
       "| 4         | 7        | 1.000000  | 0.137098     | 0.981438          | 0.968493            |"
      ]
     },
     "metadata": {},
     "output_type": "display_data"
    },
    {
     "data": {
      "text/html": [
       "<pre>| 5         | 8        | 1.000000  | 0.174123     | 0.999907          | 0.986753            |</pre>"
      ],
      "text/plain": [
       "| 5         | 8        | 1.000000  | 0.174123     | 0.999907          | 0.986753            |"
      ]
     },
     "metadata": {},
     "output_type": "display_data"
    },
    {
     "data": {
      "text/html": [
       "<pre>| 6         | 9        | 1.000000  | 0.204144     | 0.999963          | 0.986395            |</pre>"
      ],
      "text/plain": [
       "| 6         | 9        | 1.000000  | 0.204144     | 0.999963          | 0.986395            |"
      ]
     },
     "metadata": {},
     "output_type": "display_data"
    },
    {
     "data": {
      "text/html": [
       "<pre>| 11        | 15       | 1.000000  | 0.338239     | 0.999963          | 0.987111            |</pre>"
      ],
      "text/plain": [
       "| 11        | 15       | 1.000000  | 0.338239     | 0.999963          | 0.987111            |"
      ]
     },
     "metadata": {},
     "output_type": "display_data"
    },
    {
     "data": {
      "text/html": [
       "<pre>| 50        | 69       | 1.000000  | 1.158820     | 1.000000          | 0.988901            |</pre>"
      ],
      "text/plain": [
       "| 50        | 69       | 1.000000  | 1.158820     | 1.000000          | 0.988901            |"
      ]
     },
     "metadata": {},
     "output_type": "display_data"
    },
    {
     "data": {
      "text/html": [
       "<pre>| 51        | 71       | 1.000000  | 1.188840     | 1.000000          | 0.988901            |</pre>"
      ],
      "text/plain": [
       "| 51        | 71       | 1.000000  | 1.188840     | 1.000000          | 0.988901            |"
      ]
     },
     "metadata": {},
     "output_type": "display_data"
    },
    {
     "data": {
      "text/html": [
       "<pre>+-----------+----------+-----------+--------------+-------------------+---------------------+</pre>"
      ],
      "text/plain": [
       "+-----------+----------+-----------+--------------+-------------------+---------------------+"
      ]
     },
     "metadata": {},
     "output_type": "display_data"
    },
    {
     "data": {
      "text/html": [
       "<pre>SUCCESS: Optimal solution found.</pre>"
      ],
      "text/plain": [
       "SUCCESS: Optimal solution found."
      ]
     },
     "metadata": {},
     "output_type": "display_data"
    },
    {
     "data": {
      "text/html": [
       "<pre></pre>"
      ],
      "text/plain": []
     },
     "metadata": {},
     "output_type": "display_data"
    },
    {
     "name": "stdout",
     "output_type": "stream",
     "text": [
      "PROGRESS: Creating a validation set from 5 percent of training data. This may take a while.\n",
      "          You can set ``validation_set=None`` to disable validation tracking.\n",
      "\n"
     ]
    },
    {
     "data": {
      "text/html": [
       "<pre>Logistic regression:</pre>"
      ],
      "text/plain": [
       "Logistic regression:"
      ]
     },
     "metadata": {},
     "output_type": "display_data"
    },
    {
     "data": {
      "text/html": [
       "<pre>--------------------------------------------------------</pre>"
      ],
      "text/plain": [
       "--------------------------------------------------------"
      ]
     },
     "metadata": {},
     "output_type": "display_data"
    },
    {
     "data": {
      "text/html": [
       "<pre>Number of examples          : 53907</pre>"
      ],
      "text/plain": [
       "Number of examples          : 53907"
      ]
     },
     "metadata": {},
     "output_type": "display_data"
    },
    {
     "data": {
      "text/html": [
       "<pre>Number of classes           : 2</pre>"
      ],
      "text/plain": [
       "Number of classes           : 2"
      ]
     },
     "metadata": {},
     "output_type": "display_data"
    },
    {
     "data": {
      "text/html": [
       "<pre>Number of feature columns   : 6</pre>"
      ],
      "text/plain": [
       "Number of feature columns   : 6"
      ]
     },
     "metadata": {},
     "output_type": "display_data"
    },
    {
     "data": {
      "text/html": [
       "<pre>Number of unpacked features : 6</pre>"
      ],
      "text/plain": [
       "Number of unpacked features : 6"
      ]
     },
     "metadata": {},
     "output_type": "display_data"
    },
    {
     "data": {
      "text/html": [
       "<pre>Number of coefficients    : 20013</pre>"
      ],
      "text/plain": [
       "Number of coefficients    : 20013"
      ]
     },
     "metadata": {},
     "output_type": "display_data"
    },
    {
     "data": {
      "text/html": [
       "<pre>Starting L-BFGS</pre>"
      ],
      "text/plain": [
       "Starting L-BFGS"
      ]
     },
     "metadata": {},
     "output_type": "display_data"
    },
    {
     "data": {
      "text/html": [
       "<pre>--------------------------------------------------------</pre>"
      ],
      "text/plain": [
       "--------------------------------------------------------"
      ]
     },
     "metadata": {},
     "output_type": "display_data"
    },
    {
     "data": {
      "text/html": [
       "<pre>+-----------+----------+-----------+--------------+-------------------+---------------------+</pre>"
      ],
      "text/plain": [
       "+-----------+----------+-----------+--------------+-------------------+---------------------+"
      ]
     },
     "metadata": {},
     "output_type": "display_data"
    },
    {
     "data": {
      "text/html": [
       "<pre>| Iteration | Passes   | Step size | Elapsed Time | Training-accuracy | Validation-accuracy |</pre>"
      ],
      "text/plain": [
       "| Iteration | Passes   | Step size | Elapsed Time | Training-accuracy | Validation-accuracy |"
      ]
     },
     "metadata": {},
     "output_type": "display_data"
    },
    {
     "data": {
      "text/html": [
       "<pre>+-----------+----------+-----------+--------------+-------------------+---------------------+</pre>"
      ],
      "text/plain": [
       "+-----------+----------+-----------+--------------+-------------------+---------------------+"
      ]
     },
     "metadata": {},
     "output_type": "display_data"
    },
    {
     "data": {
      "text/html": [
       "<pre>| 1         | 3        | 0.000019  | 0.033020     | 0.896136          | 0.887671            |</pre>"
      ],
      "text/plain": [
       "| 1         | 3        | 0.000019  | 0.033020     | 0.896136          | 0.887671            |"
      ]
     },
     "metadata": {},
     "output_type": "display_data"
    },
    {
     "data": {
      "text/html": [
       "<pre>| 2         | 5        | 1.000000  | 0.066044     | 0.933589          | 0.914726            |</pre>"
      ],
      "text/plain": [
       "| 2         | 5        | 1.000000  | 0.066044     | 0.933589          | 0.914726            |"
      ]
     },
     "metadata": {},
     "output_type": "display_data"
    },
    {
     "data": {
      "text/html": [
       "<pre>| 3         | 6        | 1.000000  | 0.109075     | 0.955368          | 0.933904            |</pre>"
      ],
      "text/plain": [
       "| 3         | 6        | 1.000000  | 0.109075     | 0.955368          | 0.933904            |"
      ]
     },
     "metadata": {},
     "output_type": "display_data"
    },
    {
     "data": {
      "text/html": [
       "<pre>| 4         | 7        | 1.000000  | 0.131090     | 0.958632          | 0.939384            |</pre>"
      ],
      "text/plain": [
       "| 4         | 7        | 1.000000  | 0.131090     | 0.958632          | 0.939384            |"
      ]
     },
     "metadata": {},
     "output_type": "display_data"
    },
    {
     "data": {
      "text/html": [
       "<pre>| 5         | 8        | 1.000000  | 0.153105     | 0.999648          | 0.981507            |</pre>"
      ],
      "text/plain": [
       "| 5         | 8        | 1.000000  | 0.153105     | 0.999648          | 0.981507            |"
      ]
     },
     "metadata": {},
     "output_type": "display_data"
    },
    {
     "data": {
      "text/html": [
       "<pre>| 6         | 9        | 1.000000  | 0.177123     | 0.999889          | 0.983562            |</pre>"
      ],
      "text/plain": [
       "| 6         | 9        | 1.000000  | 0.177123     | 0.999889          | 0.983562            |"
      ]
     },
     "metadata": {},
     "output_type": "display_data"
    },
    {
     "data": {
      "text/html": [
       "<pre>| 11        | 14       | 1.000000  | 0.294205     | 1.000000          | 0.984247            |</pre>"
      ],
      "text/plain": [
       "| 11        | 14       | 1.000000  | 0.294205     | 1.000000          | 0.984247            |"
      ]
     },
     "metadata": {},
     "output_type": "display_data"
    },
    {
     "data": {
      "text/html": [
       "<pre>+-----------+----------+-----------+--------------+-------------------+---------------------+</pre>"
      ],
      "text/plain": [
       "+-----------+----------+-----------+--------------+-------------------+---------------------+"
      ]
     },
     "metadata": {},
     "output_type": "display_data"
    },
    {
     "data": {
      "text/html": [
       "<pre>SUCCESS: Optimal solution found.</pre>"
      ],
      "text/plain": [
       "SUCCESS: Optimal solution found."
      ]
     },
     "metadata": {},
     "output_type": "display_data"
    },
    {
     "data": {
      "text/html": [
       "<pre></pre>"
      ],
      "text/plain": []
     },
     "metadata": {},
     "output_type": "display_data"
    }
   ],
   "source": [
    "#Training our classification Model and Fetaure Engineering\n",
    "featureset1 = ['1gram features']\n",
    "featureset2 = ['1gram features','2gram features']\n",
    "featureset3 = ['1gram features','2gram features','3gram features']\n",
    "featureset4 = ['1gram features','2gram features','3gram features','city']\n",
    "featureset5 = ['1gram features','2gram features','3gram features','city','job_tfidf']\n",
    "featureset6 = ['1gram features','2gram features','3gram features','city','job_tfidf','location']\n",
    "featureset7 = ['1gram features','2gram features','3gram features','city','job_tfidf','location','company_name']\n",
    "featureset8 = ['1gram features','2gram features','3gram features','city','job_tfidf','location','company_name','AvgFTVector']\n",
    "featureset9 = ['1gram features','2gram features','3gram features','city','job_tfidf','location','company_name','AvgFTVector','job_title']\n",
    "featureset10 = ['1gram features','2gram features','3gram features','city','job_tfidf','location','company_name','AvgFTVector','job_title','D2Vector']\n",
    "model_65_90_FeatureSet6_l2_10 = graphlab.logistic_classifier.create(indeed65k_90k_dssf_train, target='IndeedSalaryEstimate', features=featureset6,max_iterations=1000,class_weights = 'auto',\n",
    "                                                          l2_penalty=10)\n",
    "model_65_90_FeatureSet6_l2_100 = graphlab.logistic_classifier.create(indeed65k_90k_dssf_train, target='IndeedSalaryEstimate', features=featureset6,max_iterations=1000,class_weights = 'auto',\n",
    "                                                          l2_penalty=100)"
   ]
  },
  {
   "cell_type": "code",
   "execution_count": 107,
   "metadata": {
    "collapsed": false
   },
   "outputs": [
    {
     "name": "stdout",
     "output_type": "stream",
     "text": [
      "fscore\n",
      "0.933333333333\n",
      "testacc\n",
      "0.98606271777\n",
      "precision\n",
      "0.982456140351\n",
      "recall\n",
      "0.888888888889\n"
     ]
    }
   ],
   "source": [
    "#Fscore, Accuracy, Precision, Recall when L2_Penalty = 10 and Featureset 6 was used.\n",
    "indeed65k_90k_dssf_test['predictions'] = model_65_90_FeatureSet6_l2_10.predict(indeed65k_90k_dssf_test)\n",
    "\n",
    "finaltestfscore = graphlab.evaluation.f1_score(indeed65k_90k_dssf_test['IndeedSalaryEstimate'], indeed65k_90k_dssf_test['predictions'],average = 'macro')\n",
    "finaltestaccuracy = graphlab.evaluation.accuracy(indeed65k_90k_dssf_test['IndeedSalaryEstimate'], indeed65k_90k_dssf_test['predictions'],average = 'macro')\n",
    "finaltestprecision = graphlab.evaluation.precision(indeed65k_90k_dssf_test['IndeedSalaryEstimate'], indeed65k_90k_dssf_test['predictions'],average = 'macro')\n",
    "finaltestrecall = graphlab.evaluation.recall(indeed65k_90k_dssf_test['IndeedSalaryEstimate'], indeed65k_90k_dssf_test['predictions'],average = 'macro')\n",
    "\n",
    "print \"fscore\"\n",
    "print finaltestfscore\n",
    "print \"testacc\"\n",
    "print finaltestaccuracy\n",
    "\n",
    "print \"precision\"\n",
    "print finaltestprecision\n",
    "\n",
    "print \"recall\"\n",
    "print finaltestrecall"
   ]
  },
  {
   "cell_type": "code",
   "execution_count": 108,
   "metadata": {
    "collapsed": false
   },
   "outputs": [
    {
     "name": "stdout",
     "output_type": "stream",
     "text": [
      "fscore\n",
      "0.942148760331\n",
      "testacc\n",
      "0.987804878049\n",
      "precision\n",
      "0.98275862069\n",
      "recall\n",
      "0.904761904762\n"
     ]
    }
   ],
   "source": [
    "#Fscore, Accuracy, Precision, Recall when L2_Penalty = 100 and Featureset 6 was used.\n",
    "indeed65k_90k_dssf_test['predictions'] = model_65_90_FeatureSet6_l2_100.predict(indeed65k_90k_dssf_test)\n",
    "\n",
    "finaltestfscore = graphlab.evaluation.f1_score(indeed65k_90k_dssf_test['IndeedSalaryEstimate'], indeed65k_90k_dssf_test['predictions'],average = 'macro')\n",
    "finaltestaccuracy = graphlab.evaluation.accuracy(indeed65k_90k_dssf_test['IndeedSalaryEstimate'], indeed65k_90k_dssf_test['predictions'],average = 'macro')\n",
    "finaltestprecision = graphlab.evaluation.precision(indeed65k_90k_dssf_test['IndeedSalaryEstimate'], indeed65k_90k_dssf_test['predictions'],average = 'macro')\n",
    "finaltestrecall = graphlab.evaluation.recall(indeed65k_90k_dssf_test['IndeedSalaryEstimate'], indeed65k_90k_dssf_test['predictions'],average = 'macro')\n",
    "\n",
    "print \"fscore\"\n",
    "print finaltestfscore\n",
    "print \"testacc\"\n",
    "print finaltestaccuracy\n",
    "\n",
    "print \"precision\"\n",
    "print finaltestprecision\n",
    "\n",
    "print \"recall\"\n",
    "print finaltestrecall"
   ]
  },
  {
   "cell_type": "code",
   "execution_count": 109,
   "metadata": {
    "collapsed": false
   },
   "outputs": [
    {
     "name": "stdout",
     "output_type": "stream",
     "text": [
      "PROGRESS: Creating a validation set from 5 percent of training data. This may take a while.\n",
      "          You can set ``validation_set=None`` to disable validation tracking.\n",
      "\n"
     ]
    },
    {
     "data": {
      "text/html": [
       "<pre>Logistic regression:</pre>"
      ],
      "text/plain": [
       "Logistic regression:"
      ]
     },
     "metadata": {},
     "output_type": "display_data"
    },
    {
     "data": {
      "text/html": [
       "<pre>--------------------------------------------------------</pre>"
      ],
      "text/plain": [
       "--------------------------------------------------------"
      ]
     },
     "metadata": {},
     "output_type": "display_data"
    },
    {
     "data": {
      "text/html": [
       "<pre>Number of examples          : 54063</pre>"
      ],
      "text/plain": [
       "Number of examples          : 54063"
      ]
     },
     "metadata": {},
     "output_type": "display_data"
    },
    {
     "data": {
      "text/html": [
       "<pre>Number of classes           : 2</pre>"
      ],
      "text/plain": [
       "Number of classes           : 2"
      ]
     },
     "metadata": {},
     "output_type": "display_data"
    },
    {
     "data": {
      "text/html": [
       "<pre>Number of feature columns   : 7</pre>"
      ],
      "text/plain": [
       "Number of feature columns   : 7"
      ]
     },
     "metadata": {},
     "output_type": "display_data"
    },
    {
     "data": {
      "text/html": [
       "<pre>Number of unpacked features : 7</pre>"
      ],
      "text/plain": [
       "Number of unpacked features : 7"
      ]
     },
     "metadata": {},
     "output_type": "display_data"
    },
    {
     "data": {
      "text/html": [
       "<pre>Number of coefficients    : 22332</pre>"
      ],
      "text/plain": [
       "Number of coefficients    : 22332"
      ]
     },
     "metadata": {},
     "output_type": "display_data"
    },
    {
     "data": {
      "text/html": [
       "<pre>Starting L-BFGS</pre>"
      ],
      "text/plain": [
       "Starting L-BFGS"
      ]
     },
     "metadata": {},
     "output_type": "display_data"
    },
    {
     "data": {
      "text/html": [
       "<pre>--------------------------------------------------------</pre>"
      ],
      "text/plain": [
       "--------------------------------------------------------"
      ]
     },
     "metadata": {},
     "output_type": "display_data"
    },
    {
     "data": {
      "text/html": [
       "<pre>+-----------+----------+-----------+--------------+-------------------+---------------------+</pre>"
      ],
      "text/plain": [
       "+-----------+----------+-----------+--------------+-------------------+---------------------+"
      ]
     },
     "metadata": {},
     "output_type": "display_data"
    },
    {
     "data": {
      "text/html": [
       "<pre>| Iteration | Passes   | Step size | Elapsed Time | Training-accuracy | Validation-accuracy |</pre>"
      ],
      "text/plain": [
       "| Iteration | Passes   | Step size | Elapsed Time | Training-accuracy | Validation-accuracy |"
      ]
     },
     "metadata": {},
     "output_type": "display_data"
    },
    {
     "data": {
      "text/html": [
       "<pre>+-----------+----------+-----------+--------------+-------------------+---------------------+</pre>"
      ],
      "text/plain": [
       "+-----------+----------+-----------+--------------+-------------------+---------------------+"
      ]
     },
     "metadata": {},
     "output_type": "display_data"
    },
    {
     "data": {
      "text/html": [
       "<pre>| 1         | 3        | 0.000018  | 0.042012     | 0.892292          | 0.889291            |</pre>"
      ],
      "text/plain": [
       "| 1         | 3        | 0.000018  | 0.042012     | 0.892292          | 0.889291            |"
      ]
     },
     "metadata": {},
     "output_type": "display_data"
    },
    {
     "data": {
      "text/html": [
       "<pre>| 2         | 5        | 1.000000  | 0.097050     | 0.930507          | 0.922214            |</pre>"
      ],
      "text/plain": [
       "| 2         | 5        | 1.000000  | 0.097050     | 0.930507          | 0.922214            |"
      ]
     },
     "metadata": {},
     "output_type": "display_data"
    },
    {
     "data": {
      "text/html": [
       "<pre>| 3         | 6        | 1.000000  | 0.148086     | 0.963376          | 0.945007            |</pre>"
      ],
      "text/plain": [
       "| 3         | 6        | 1.000000  | 0.148086     | 0.963376          | 0.945007            |"
      ]
     },
     "metadata": {},
     "output_type": "display_data"
    },
    {
     "data": {
      "text/html": [
       "<pre>| 4         | 7        | 1.000000  | 0.181110     | 0.949966          | 0.935601            |</pre>"
      ],
      "text/plain": [
       "| 4         | 7        | 1.000000  | 0.181110     | 0.949966          | 0.935601            |"
      ]
     },
     "metadata": {},
     "output_type": "display_data"
    },
    {
     "data": {
      "text/html": [
       "<pre>| 5         | 8        | 1.000000  | 0.214133     | 0.995246          | 0.975760            |</pre>"
      ],
      "text/plain": [
       "| 5         | 8        | 1.000000  | 0.214133     | 0.995246          | 0.975760            |"
      ]
     },
     "metadata": {},
     "output_type": "display_data"
    },
    {
     "data": {
      "text/html": [
       "<pre>| 6         | 9        | 1.000000  | 0.263168     | 0.999945          | 0.980463            |</pre>"
      ],
      "text/plain": [
       "| 6         | 9        | 1.000000  | 0.263168     | 0.999945          | 0.980463            |"
      ]
     },
     "metadata": {},
     "output_type": "display_data"
    },
    {
     "data": {
      "text/html": [
       "<pre>| 11        | 14       | 1.000000  | 0.397262     | 1.000000          | 0.981187            |</pre>"
      ],
      "text/plain": [
       "| 11        | 14       | 1.000000  | 0.397262     | 1.000000          | 0.981187            |"
      ]
     },
     "metadata": {},
     "output_type": "display_data"
    },
    {
     "data": {
      "text/html": [
       "<pre>| 25        | 29       | 1.000000  | 0.718489     | 0.999926          | 0.982272            |</pre>"
      ],
      "text/plain": [
       "| 25        | 29       | 1.000000  | 0.718489     | 0.999926          | 0.982272            |"
      ]
     },
     "metadata": {},
     "output_type": "display_data"
    },
    {
     "data": {
      "text/html": [
       "<pre>| 50        | 66       | 1.000000  | 1.411980     | 1.000000          | 0.982996            |</pre>"
      ],
      "text/plain": [
       "| 50        | 66       | 1.000000  | 1.411980     | 1.000000          | 0.982996            |"
      ]
     },
     "metadata": {},
     "output_type": "display_data"
    },
    {
     "data": {
      "text/html": [
       "<pre>| 51        | 67       | 1.000000  | 1.434996     | 1.000000          | 0.982996            |</pre>"
      ],
      "text/plain": [
       "| 51        | 67       | 1.000000  | 1.434996     | 1.000000          | 0.982996            |"
      ]
     },
     "metadata": {},
     "output_type": "display_data"
    },
    {
     "data": {
      "text/html": [
       "<pre>+-----------+----------+-----------+--------------+-------------------+---------------------+</pre>"
      ],
      "text/plain": [
       "+-----------+----------+-----------+--------------+-------------------+---------------------+"
      ]
     },
     "metadata": {},
     "output_type": "display_data"
    },
    {
     "data": {
      "text/html": [
       "<pre>SUCCESS: Optimal solution found.</pre>"
      ],
      "text/plain": [
       "SUCCESS: Optimal solution found."
      ]
     },
     "metadata": {},
     "output_type": "display_data"
    },
    {
     "data": {
      "text/html": [
       "<pre></pre>"
      ],
      "text/plain": []
     },
     "metadata": {},
     "output_type": "display_data"
    },
    {
     "name": "stdout",
     "output_type": "stream",
     "text": [
      "PROGRESS: Creating a validation set from 5 percent of training data. This may take a while.\n",
      "          You can set ``validation_set=None`` to disable validation tracking.\n",
      "\n"
     ]
    },
    {
     "data": {
      "text/html": [
       "<pre>Logistic regression:</pre>"
      ],
      "text/plain": [
       "Logistic regression:"
      ]
     },
     "metadata": {},
     "output_type": "display_data"
    },
    {
     "data": {
      "text/html": [
       "<pre>--------------------------------------------------------</pre>"
      ],
      "text/plain": [
       "--------------------------------------------------------"
      ]
     },
     "metadata": {},
     "output_type": "display_data"
    },
    {
     "data": {
      "text/html": [
       "<pre>Number of examples          : 53968</pre>"
      ],
      "text/plain": [
       "Number of examples          : 53968"
      ]
     },
     "metadata": {},
     "output_type": "display_data"
    },
    {
     "data": {
      "text/html": [
       "<pre>Number of classes           : 2</pre>"
      ],
      "text/plain": [
       "Number of classes           : 2"
      ]
     },
     "metadata": {},
     "output_type": "display_data"
    },
    {
     "data": {
      "text/html": [
       "<pre>Number of feature columns   : 7</pre>"
      ],
      "text/plain": [
       "Number of feature columns   : 7"
      ]
     },
     "metadata": {},
     "output_type": "display_data"
    },
    {
     "data": {
      "text/html": [
       "<pre>Number of unpacked features : 7</pre>"
      ],
      "text/plain": [
       "Number of unpacked features : 7"
      ]
     },
     "metadata": {},
     "output_type": "display_data"
    },
    {
     "data": {
      "text/html": [
       "<pre>Number of coefficients    : 22239</pre>"
      ],
      "text/plain": [
       "Number of coefficients    : 22239"
      ]
     },
     "metadata": {},
     "output_type": "display_data"
    },
    {
     "data": {
      "text/html": [
       "<pre>Starting L-BFGS</pre>"
      ],
      "text/plain": [
       "Starting L-BFGS"
      ]
     },
     "metadata": {},
     "output_type": "display_data"
    },
    {
     "data": {
      "text/html": [
       "<pre>--------------------------------------------------------</pre>"
      ],
      "text/plain": [
       "--------------------------------------------------------"
      ]
     },
     "metadata": {},
     "output_type": "display_data"
    },
    {
     "data": {
      "text/html": [
       "<pre>+-----------+----------+-----------+--------------+-------------------+---------------------+</pre>"
      ],
      "text/plain": [
       "+-----------+----------+-----------+--------------+-------------------+---------------------+"
      ]
     },
     "metadata": {},
     "output_type": "display_data"
    },
    {
     "data": {
      "text/html": [
       "<pre>| Iteration | Passes   | Step size | Elapsed Time | Training-accuracy | Validation-accuracy |</pre>"
      ],
      "text/plain": [
       "| Iteration | Passes   | Step size | Elapsed Time | Training-accuracy | Validation-accuracy |"
      ]
     },
     "metadata": {},
     "output_type": "display_data"
    },
    {
     "data": {
      "text/html": [
       "<pre>+-----------+----------+-----------+--------------+-------------------+---------------------+</pre>"
      ],
      "text/plain": [
       "+-----------+----------+-----------+--------------+-------------------+---------------------+"
      ]
     },
     "metadata": {},
     "output_type": "display_data"
    },
    {
     "data": {
      "text/html": [
       "<pre>| 1         | 3        | 0.000019  | 0.044032     | 0.895308          | 0.892970            |</pre>"
      ],
      "text/plain": [
       "| 1         | 3        | 0.000019  | 0.044032     | 0.895308          | 0.892970            |"
      ]
     },
     "metadata": {},
     "output_type": "display_data"
    },
    {
     "data": {
      "text/html": [
       "<pre>| 2         | 5        | 1.000000  | 0.082058     | 0.929792          | 0.920602            |</pre>"
      ],
      "text/plain": [
       "| 2         | 5        | 1.000000  | 0.082058     | 0.929792          | 0.920602            |"
      ]
     },
     "metadata": {},
     "output_type": "display_data"
    },
    {
     "data": {
      "text/html": [
       "<pre>| 3         | 6        | 1.000000  | 0.104074     | 0.962867          | 0.947184            |</pre>"
      ],
      "text/plain": [
       "| 3         | 6        | 1.000000  | 0.104074     | 0.962867          | 0.947184            |"
      ]
     },
     "metadata": {},
     "output_type": "display_data"
    },
    {
     "data": {
      "text/html": [
       "<pre>| 4         | 7        | 1.000000  | 0.129091     | 0.949489          | 0.935642            |</pre>"
      ],
      "text/plain": [
       "| 4         | 7        | 1.000000  | 0.129091     | 0.949489          | 0.935642            |"
      ]
     },
     "metadata": {},
     "output_type": "display_data"
    },
    {
     "data": {
      "text/html": [
       "<pre>| 5         | 8        | 1.000000  | 0.153108     | 0.991143          | 0.973068            |</pre>"
      ],
      "text/plain": [
       "| 5         | 8        | 1.000000  | 0.153108     | 0.991143          | 0.973068            |"
      ]
     },
     "metadata": {},
     "output_type": "display_data"
    },
    {
     "data": {
      "text/html": [
       "<pre>| 6         | 9        | 1.000000  | 0.182129     | 0.999833          | 0.981812            |</pre>"
      ],
      "text/plain": [
       "| 6         | 9        | 1.000000  | 0.182129     | 0.999833          | 0.981812            |"
      ]
     },
     "metadata": {},
     "output_type": "display_data"
    },
    {
     "data": {
      "text/html": [
       "<pre>| 11        | 14       | 1.000000  | 0.354250     | 0.999926          | 0.984260            |</pre>"
      ],
      "text/plain": [
       "| 11        | 14       | 1.000000  | 0.354250     | 0.999926          | 0.984260            |"
      ]
     },
     "metadata": {},
     "output_type": "display_data"
    },
    {
     "data": {
      "text/html": [
       "<pre>+-----------+----------+-----------+--------------+-------------------+---------------------+</pre>"
      ],
      "text/plain": [
       "+-----------+----------+-----------+--------------+-------------------+---------------------+"
      ]
     },
     "metadata": {},
     "output_type": "display_data"
    },
    {
     "data": {
      "text/html": [
       "<pre>SUCCESS: Optimal solution found.</pre>"
      ],
      "text/plain": [
       "SUCCESS: Optimal solution found."
      ]
     },
     "metadata": {},
     "output_type": "display_data"
    },
    {
     "data": {
      "text/html": [
       "<pre></pre>"
      ],
      "text/plain": []
     },
     "metadata": {},
     "output_type": "display_data"
    }
   ],
   "source": [
    "#Training our classification Model and Fetaure Engineering\n",
    "featureset1 = ['1gram features']\n",
    "featureset2 = ['1gram features','2gram features']\n",
    "featureset3 = ['1gram features','2gram features','3gram features']\n",
    "featureset4 = ['1gram features','2gram features','3gram features','city']\n",
    "featureset5 = ['1gram features','2gram features','3gram features','city','job_tfidf']\n",
    "featureset6 = ['1gram features','2gram features','3gram features','city','job_tfidf','location']\n",
    "featureset7 = ['1gram features','2gram features','3gram features','city','job_tfidf','location','company_name']\n",
    "featureset8 = ['1gram features','2gram features','3gram features','city','job_tfidf','location','company_name','AvgFTVector']\n",
    "featureset9 = ['1gram features','2gram features','3gram features','city','job_tfidf','location','company_name','AvgFTVector','job_title']\n",
    "featureset10 = ['1gram features','2gram features','3gram features','city','job_tfidf','location','company_name','AvgFTVector','job_title','D2Vector']\n",
    "model_65_90_FeatureSet7_l2_10 = graphlab.logistic_classifier.create(indeed65k_90k_dssf_train, target='IndeedSalaryEstimate', features=featureset7,max_iterations=1000,class_weights = 'auto',\n",
    "                                                          l2_penalty=10)\n",
    "model_65_90_FeatureSet7_l2_100 = graphlab.logistic_classifier.create(indeed65k_90k_dssf_train, target='IndeedSalaryEstimate', features=featureset7,max_iterations=1000,class_weights = 'auto',\n",
    "                                                          l2_penalty=100)"
   ]
  },
  {
   "cell_type": "code",
   "execution_count": 110,
   "metadata": {
    "collapsed": false
   },
   "outputs": [
    {
     "name": "stdout",
     "output_type": "stream",
     "text": [
      "fscore\n",
      "0.942148760331\n",
      "testacc\n",
      "0.987804878049\n",
      "precision\n",
      "0.98275862069\n",
      "recall\n",
      "0.904761904762\n"
     ]
    }
   ],
   "source": [
    "#Fscore, Accuracy, Precision, Recall when L2_Penalty = 10 and Featureset 7 was used.\n",
    "indeed65k_90k_dssf_test['predictions'] = model_65_90_FeatureSet7_l2_10.predict(indeed65k_90k_dssf_test)\n",
    "\n",
    "finaltestfscore = graphlab.evaluation.f1_score(indeed65k_90k_dssf_test['IndeedSalaryEstimate'], indeed65k_90k_dssf_test['predictions'],average = 'macro')\n",
    "finaltestaccuracy = graphlab.evaluation.accuracy(indeed65k_90k_dssf_test['IndeedSalaryEstimate'], indeed65k_90k_dssf_test['predictions'],average = 'macro')\n",
    "finaltestprecision = graphlab.evaluation.precision(indeed65k_90k_dssf_test['IndeedSalaryEstimate'], indeed65k_90k_dssf_test['predictions'],average = 'macro')\n",
    "finaltestrecall = graphlab.evaluation.recall(indeed65k_90k_dssf_test['IndeedSalaryEstimate'], indeed65k_90k_dssf_test['predictions'],average = 'macro')\n",
    "\n",
    "print \"fscore\"\n",
    "print finaltestfscore\n",
    "print \"testacc\"\n",
    "print finaltestaccuracy\n",
    "\n",
    "print \"precision\"\n",
    "print finaltestprecision\n",
    "\n",
    "print \"recall\"\n",
    "print finaltestrecall"
   ]
  },
  {
   "cell_type": "code",
   "execution_count": 111,
   "metadata": {
    "collapsed": false
   },
   "outputs": [
    {
     "name": "stdout",
     "output_type": "stream",
     "text": [
      "fscore\n",
      "0.942148760331\n",
      "testacc\n",
      "0.987804878049\n",
      "precision\n",
      "0.98275862069\n",
      "recall\n",
      "0.904761904762\n"
     ]
    }
   ],
   "source": [
    "#Fscore, Accuracy, Precision, Recall when L2_Penalty = 100 and Featureset 7 was used.\n",
    "indeed65k_90k_dssf_test['predictions'] = model_65_90_FeatureSet7_l2_100.predict(indeed65k_90k_dssf_test)\n",
    "\n",
    "finaltestfscore = graphlab.evaluation.f1_score(indeed65k_90k_dssf_test['IndeedSalaryEstimate'], indeed65k_90k_dssf_test['predictions'],average = 'macro')\n",
    "finaltestaccuracy = graphlab.evaluation.accuracy(indeed65k_90k_dssf_test['IndeedSalaryEstimate'], indeed65k_90k_dssf_test['predictions'],average = 'macro')\n",
    "finaltestprecision = graphlab.evaluation.precision(indeed65k_90k_dssf_test['IndeedSalaryEstimate'], indeed65k_90k_dssf_test['predictions'],average = 'macro')\n",
    "finaltestrecall = graphlab.evaluation.recall(indeed65k_90k_dssf_test['IndeedSalaryEstimate'], indeed65k_90k_dssf_test['predictions'],average = 'macro')\n",
    "\n",
    "print \"fscore\"\n",
    "print finaltestfscore\n",
    "print \"testacc\"\n",
    "print finaltestaccuracy\n",
    "\n",
    "print \"precision\"\n",
    "print finaltestprecision\n",
    "\n",
    "print \"recall\"\n",
    "print finaltestrecall"
   ]
  },
  {
   "cell_type": "code",
   "execution_count": 112,
   "metadata": {
    "collapsed": false
   },
   "outputs": [
    {
     "name": "stdout",
     "output_type": "stream",
     "text": [
      "PROGRESS: Creating a validation set from 5 percent of training data. This may take a while.\n",
      "          You can set ``validation_set=None`` to disable validation tracking.\n",
      "\n"
     ]
    },
    {
     "data": {
      "text/html": [
       "<pre>Logistic regression:</pre>"
      ],
      "text/plain": [
       "Logistic regression:"
      ]
     },
     "metadata": {},
     "output_type": "display_data"
    },
    {
     "data": {
      "text/html": [
       "<pre>--------------------------------------------------------</pre>"
      ],
      "text/plain": [
       "--------------------------------------------------------"
      ]
     },
     "metadata": {},
     "output_type": "display_data"
    },
    {
     "data": {
      "text/html": [
       "<pre>Number of examples          : 53939</pre>"
      ],
      "text/plain": [
       "Number of examples          : 53939"
      ]
     },
     "metadata": {},
     "output_type": "display_data"
    },
    {
     "data": {
      "text/html": [
       "<pre>Number of classes           : 2</pre>"
      ],
      "text/plain": [
       "Number of classes           : 2"
      ]
     },
     "metadata": {},
     "output_type": "display_data"
    },
    {
     "data": {
      "text/html": [
       "<pre>Number of feature columns   : 8</pre>"
      ],
      "text/plain": [
       "Number of feature columns   : 8"
      ]
     },
     "metadata": {},
     "output_type": "display_data"
    },
    {
     "data": {
      "text/html": [
       "<pre>Number of unpacked features : 8</pre>"
      ],
      "text/plain": [
       "Number of unpacked features : 8"
      ]
     },
     "metadata": {},
     "output_type": "display_data"
    },
    {
     "data": {
      "text/html": [
       "<pre>Number of coefficients    : 27040</pre>"
      ],
      "text/plain": [
       "Number of coefficients    : 27040"
      ]
     },
     "metadata": {},
     "output_type": "display_data"
    },
    {
     "data": {
      "text/html": [
       "<pre>Starting L-BFGS</pre>"
      ],
      "text/plain": [
       "Starting L-BFGS"
      ]
     },
     "metadata": {},
     "output_type": "display_data"
    },
    {
     "data": {
      "text/html": [
       "<pre>--------------------------------------------------------</pre>"
      ],
      "text/plain": [
       "--------------------------------------------------------"
      ]
     },
     "metadata": {},
     "output_type": "display_data"
    },
    {
     "data": {
      "text/html": [
       "<pre>+-----------+----------+-----------+--------------+-------------------+---------------------+</pre>"
      ],
      "text/plain": [
       "+-----------+----------+-----------+--------------+-------------------+---------------------+"
      ]
     },
     "metadata": {},
     "output_type": "display_data"
    },
    {
     "data": {
      "text/html": [
       "<pre>| Iteration | Passes   | Step size | Elapsed Time | Training-accuracy | Validation-accuracy |</pre>"
      ],
      "text/plain": [
       "| Iteration | Passes   | Step size | Elapsed Time | Training-accuracy | Validation-accuracy |"
      ]
     },
     "metadata": {},
     "output_type": "display_data"
    },
    {
     "data": {
      "text/html": [
       "<pre>+-----------+----------+-----------+--------------+-------------------+---------------------+</pre>"
      ],
      "text/plain": [
       "+-----------+----------+-----------+--------------+-------------------+---------------------+"
      ]
     },
     "metadata": {},
     "output_type": "display_data"
    },
    {
     "data": {
      "text/html": [
       "<pre>| 1         | 3        | 0.000019  | 0.037034     | 0.897532          | 0.888504            |</pre>"
      ],
      "text/plain": [
       "| 1         | 3        | 0.000019  | 0.037034     | 0.897532          | 0.888504            |"
      ]
     },
     "metadata": {},
     "output_type": "display_data"
    },
    {
     "data": {
      "text/html": [
       "<pre>| 2         | 5        | 1.000000  | 0.073039     | 0.933128          | 0.921399            |</pre>"
      ],
      "text/plain": [
       "| 2         | 5        | 1.000000  | 0.073039     | 0.933128          | 0.921399            |"
      ]
     },
     "metadata": {},
     "output_type": "display_data"
    },
    {
     "data": {
      "text/html": [
       "<pre>| 3         | 6        | 1.000000  | 0.109067     | 0.977252          | 0.963296            |</pre>"
      ],
      "text/plain": [
       "| 3         | 6        | 1.000000  | 0.109067     | 0.977252          | 0.963296            |"
      ]
     },
     "metadata": {},
     "output_type": "display_data"
    },
    {
     "data": {
      "text/html": [
       "<pre>| 4         | 7        | 1.000000  | 0.133082     | 0.948442          | 0.934211            |</pre>"
      ],
      "text/plain": [
       "| 4         | 7        | 1.000000  | 0.133082     | 0.948442          | 0.934211            |"
      ]
     },
     "metadata": {},
     "output_type": "display_data"
    },
    {
     "data": {
      "text/html": [
       "<pre>| 5         | 8        | 1.000000  | 0.156098     | 0.987412          | 0.968837            |</pre>"
      ],
      "text/plain": [
       "| 5         | 8        | 1.000000  | 0.156098     | 0.987412          | 0.968837            |"
      ]
     },
     "metadata": {},
     "output_type": "display_data"
    },
    {
     "data": {
      "text/html": [
       "<pre>| 6         | 9        | 1.000000  | 0.177114     | 0.999926          | 0.981302            |</pre>"
      ],
      "text/plain": [
       "| 6         | 9        | 1.000000  | 0.177114     | 0.999926          | 0.981302            |"
      ]
     },
     "metadata": {},
     "output_type": "display_data"
    },
    {
     "data": {
      "text/html": [
       "<pre>| 11        | 14       | 1.000000  | 0.302201     | 0.999981          | 0.983033            |</pre>"
      ],
      "text/plain": [
       "| 11        | 14       | 1.000000  | 0.302201     | 0.999981          | 0.983033            |"
      ]
     },
     "metadata": {},
     "output_type": "display_data"
    },
    {
     "data": {
      "text/html": [
       "<pre>| 50        | 69       | 1.000000  | 1.118779     | 1.000000          | 0.985111            |</pre>"
      ],
      "text/plain": [
       "| 50        | 69       | 1.000000  | 1.118779     | 1.000000          | 0.985111            |"
      ]
     },
     "metadata": {},
     "output_type": "display_data"
    },
    {
     "data": {
      "text/html": [
       "<pre>| 51        | 71       | 1.000000  | 1.147800     | 1.000000          | 0.985111            |</pre>"
      ],
      "text/plain": [
       "| 51        | 71       | 1.000000  | 1.147800     | 1.000000          | 0.985111            |"
      ]
     },
     "metadata": {},
     "output_type": "display_data"
    },
    {
     "data": {
      "text/html": [
       "<pre>+-----------+----------+-----------+--------------+-------------------+---------------------+</pre>"
      ],
      "text/plain": [
       "+-----------+----------+-----------+--------------+-------------------+---------------------+"
      ]
     },
     "metadata": {},
     "output_type": "display_data"
    },
    {
     "data": {
      "text/html": [
       "<pre>SUCCESS: Optimal solution found.</pre>"
      ],
      "text/plain": [
       "SUCCESS: Optimal solution found."
      ]
     },
     "metadata": {},
     "output_type": "display_data"
    },
    {
     "data": {
      "text/html": [
       "<pre></pre>"
      ],
      "text/plain": []
     },
     "metadata": {},
     "output_type": "display_data"
    },
    {
     "name": "stdout",
     "output_type": "stream",
     "text": [
      "PROGRESS: Creating a validation set from 5 percent of training data. This may take a while.\n",
      "          You can set ``validation_set=None`` to disable validation tracking.\n",
      "\n"
     ]
    },
    {
     "data": {
      "text/html": [
       "<pre>Logistic regression:</pre>"
      ],
      "text/plain": [
       "Logistic regression:"
      ]
     },
     "metadata": {},
     "output_type": "display_data"
    },
    {
     "data": {
      "text/html": [
       "<pre>--------------------------------------------------------</pre>"
      ],
      "text/plain": [
       "--------------------------------------------------------"
      ]
     },
     "metadata": {},
     "output_type": "display_data"
    },
    {
     "data": {
      "text/html": [
       "<pre>Number of examples          : 53981</pre>"
      ],
      "text/plain": [
       "Number of examples          : 53981"
      ]
     },
     "metadata": {},
     "output_type": "display_data"
    },
    {
     "data": {
      "text/html": [
       "<pre>Number of classes           : 2</pre>"
      ],
      "text/plain": [
       "Number of classes           : 2"
      ]
     },
     "metadata": {},
     "output_type": "display_data"
    },
    {
     "data": {
      "text/html": [
       "<pre>Number of feature columns   : 8</pre>"
      ],
      "text/plain": [
       "Number of feature columns   : 8"
      ]
     },
     "metadata": {},
     "output_type": "display_data"
    },
    {
     "data": {
      "text/html": [
       "<pre>Number of unpacked features : 8</pre>"
      ],
      "text/plain": [
       "Number of unpacked features : 8"
      ]
     },
     "metadata": {},
     "output_type": "display_data"
    },
    {
     "data": {
      "text/html": [
       "<pre>Number of coefficients    : 27168</pre>"
      ],
      "text/plain": [
       "Number of coefficients    : 27168"
      ]
     },
     "metadata": {},
     "output_type": "display_data"
    },
    {
     "data": {
      "text/html": [
       "<pre>Starting L-BFGS</pre>"
      ],
      "text/plain": [
       "Starting L-BFGS"
      ]
     },
     "metadata": {},
     "output_type": "display_data"
    },
    {
     "data": {
      "text/html": [
       "<pre>--------------------------------------------------------</pre>"
      ],
      "text/plain": [
       "--------------------------------------------------------"
      ]
     },
     "metadata": {},
     "output_type": "display_data"
    },
    {
     "data": {
      "text/html": [
       "<pre>+-----------+----------+-----------+--------------+-------------------+---------------------+</pre>"
      ],
      "text/plain": [
       "+-----------+----------+-----------+--------------+-------------------+---------------------+"
      ]
     },
     "metadata": {},
     "output_type": "display_data"
    },
    {
     "data": {
      "text/html": [
       "<pre>| Iteration | Passes   | Step size | Elapsed Time | Training-accuracy | Validation-accuracy |</pre>"
      ],
      "text/plain": [
       "| Iteration | Passes   | Step size | Elapsed Time | Training-accuracy | Validation-accuracy |"
      ]
     },
     "metadata": {},
     "output_type": "display_data"
    },
    {
     "data": {
      "text/html": [
       "<pre>+-----------+----------+-----------+--------------+-------------------+---------------------+</pre>"
      ],
      "text/plain": [
       "+-----------+----------+-----------+--------------+-------------------+---------------------+"
      ]
     },
     "metadata": {},
     "output_type": "display_data"
    },
    {
     "data": {
      "text/html": [
       "<pre>| 1         | 3        | 0.000019  | 0.037032     | 0.897890          | 0.886507            |</pre>"
      ],
      "text/plain": [
       "| 1         | 3        | 0.000019  | 0.037032     | 0.897890          | 0.886507            |"
      ]
     },
     "metadata": {},
     "output_type": "display_data"
    },
    {
     "data": {
      "text/html": [
       "<pre>| 2         | 5        | 1.000000  | 0.073040     | 0.932828          | 0.916725            |</pre>"
      ],
      "text/plain": [
       "| 2         | 5        | 1.000000  | 0.073040     | 0.932828          | 0.916725            |"
      ]
     },
     "metadata": {},
     "output_type": "display_data"
    },
    {
     "data": {
      "text/html": [
       "<pre>| 3         | 6        | 1.000000  | 0.098058     | 0.968878          | 0.949403            |</pre>"
      ],
      "text/plain": [
       "| 3         | 6        | 1.000000  | 0.098058     | 0.968878          | 0.949403            |"
      ]
     },
     "metadata": {},
     "output_type": "display_data"
    },
    {
     "data": {
      "text/html": [
       "<pre>| 4         | 7        | 1.000000  | 0.129080     | 0.944499          | 0.923401            |</pre>"
      ],
      "text/plain": [
       "| 4         | 7        | 1.000000  | 0.129080     | 0.944499          | 0.923401            |"
      ]
     },
     "metadata": {},
     "output_type": "display_data"
    },
    {
     "data": {
      "text/html": [
       "<pre>| 5         | 8        | 1.000000  | 0.183122     | 0.986662          | 0.963106            |</pre>"
      ],
      "text/plain": [
       "| 5         | 8        | 1.000000  | 0.183122     | 0.986662          | 0.963106            |"
      ]
     },
     "metadata": {},
     "output_type": "display_data"
    },
    {
     "data": {
      "text/html": [
       "<pre>| 6         | 9        | 1.000000  | 0.209136     | 0.999704          | 0.976458            |</pre>"
      ],
      "text/plain": [
       "| 6         | 9        | 1.000000  | 0.209136     | 0.999704          | 0.976458            |"
      ]
     },
     "metadata": {},
     "output_type": "display_data"
    },
    {
     "data": {
      "text/html": [
       "<pre>| 11        | 14       | 1.000000  | 0.339228     | 0.999981          | 0.981377            |</pre>"
      ],
      "text/plain": [
       "| 11        | 14       | 1.000000  | 0.339228     | 0.999981          | 0.981377            |"
      ]
     },
     "metadata": {},
     "output_type": "display_data"
    },
    {
     "data": {
      "text/html": [
       "<pre>| 50        | 72       | 1.000000  | 1.155806     | 1.000000          | 0.981026            |</pre>"
      ],
      "text/plain": [
       "| 50        | 72       | 1.000000  | 1.155806     | 1.000000          | 0.981026            |"
      ]
     },
     "metadata": {},
     "output_type": "display_data"
    },
    {
     "data": {
      "text/html": [
       "<pre>+-----------+----------+-----------+--------------+-------------------+---------------------+</pre>"
      ],
      "text/plain": [
       "+-----------+----------+-----------+--------------+-------------------+---------------------+"
      ]
     },
     "metadata": {},
     "output_type": "display_data"
    },
    {
     "data": {
      "text/html": [
       "<pre>SUCCESS: Optimal solution found.</pre>"
      ],
      "text/plain": [
       "SUCCESS: Optimal solution found."
      ]
     },
     "metadata": {},
     "output_type": "display_data"
    },
    {
     "data": {
      "text/html": [
       "<pre></pre>"
      ],
      "text/plain": []
     },
     "metadata": {},
     "output_type": "display_data"
    }
   ],
   "source": [
    "#Training our classification Model and Fetaure Engineering\n",
    "featureset1 = ['1gram features']\n",
    "featureset2 = ['1gram features','2gram features']\n",
    "featureset3 = ['1gram features','2gram features','3gram features']\n",
    "featureset4 = ['1gram features','2gram features','3gram features','city']\n",
    "featureset5 = ['1gram features','2gram features','3gram features','city','job_tfidf']\n",
    "featureset6 = ['1gram features','2gram features','3gram features','city','job_tfidf','location']\n",
    "featureset7 = ['1gram features','2gram features','3gram features','city','job_tfidf','location','company_name']\n",
    "featureset8 = ['1gram features','2gram features','3gram features','city','job_tfidf','location','company_name','AvgFTVector']\n",
    "featureset9 = ['1gram features','2gram features','3gram features','city','job_tfidf','location','company_name','AvgFTVector','job_title']\n",
    "featureset10 = ['1gram features','2gram features','3gram features','city','job_tfidf','location','company_name','AvgFTVector','job_title','D2Vector']\n",
    "model_65_90_FeatureSet8_l2_10 = graphlab.logistic_classifier.create(indeed65k_90k_dssf_train, target='IndeedSalaryEstimate', features=featureset8,max_iterations=1000,class_weights = 'auto',\n",
    "                                                          l2_penalty=10)\n",
    "model_65_90_FeatureSet8_l2_100 = graphlab.logistic_classifier.create(indeed65k_90k_dssf_train, target='IndeedSalaryEstimate', features=featureset8,max_iterations=1000,class_weights = 'auto',\n",
    "                                                          l2_penalty=100)"
   ]
  },
  {
   "cell_type": "code",
   "execution_count": 113,
   "metadata": {
    "collapsed": false
   },
   "outputs": [
    {
     "name": "stdout",
     "output_type": "stream",
     "text": [
      "fscore\n",
      "0.934426229508\n",
      "testacc\n",
      "0.98606271777\n",
      "precision\n",
      "0.966101694915\n",
      "recall\n",
      "0.904761904762\n"
     ]
    }
   ],
   "source": [
    "#Fscore, Accuracy, Precision, Recall when L2_Penalty = 10 and Featureset 8 was used.\n",
    "indeed65k_90k_dssf_test['predictions'] = model_65_90_FeatureSet8_l2_10.predict(indeed65k_90k_dssf_test)\n",
    "\n",
    "finaltestfscore = graphlab.evaluation.f1_score(indeed65k_90k_dssf_test['IndeedSalaryEstimate'], indeed65k_90k_dssf_test['predictions'],average = 'macro')\n",
    "finaltestaccuracy = graphlab.evaluation.accuracy(indeed65k_90k_dssf_test['IndeedSalaryEstimate'], indeed65k_90k_dssf_test['predictions'],average = 'macro')\n",
    "finaltestprecision = graphlab.evaluation.precision(indeed65k_90k_dssf_test['IndeedSalaryEstimate'], indeed65k_90k_dssf_test['predictions'],average = 'macro')\n",
    "finaltestrecall = graphlab.evaluation.recall(indeed65k_90k_dssf_test['IndeedSalaryEstimate'], indeed65k_90k_dssf_test['predictions'],average = 'macro')\n",
    "\n",
    "print \"fscore\"\n",
    "print finaltestfscore\n",
    "print \"testacc\"\n",
    "print finaltestaccuracy\n",
    "\n",
    "print \"precision\"\n",
    "print finaltestprecision\n",
    "\n",
    "print \"recall\"\n",
    "print finaltestrecall"
   ]
  },
  {
   "cell_type": "code",
   "execution_count": 114,
   "metadata": {
    "collapsed": false
   },
   "outputs": [
    {
     "name": "stdout",
     "output_type": "stream",
     "text": [
      "fscore\n",
      "0.942148760331\n",
      "testacc\n",
      "0.987804878049\n",
      "precision\n",
      "0.98275862069\n",
      "recall\n",
      "0.904761904762\n"
     ]
    }
   ],
   "source": [
    "#Fscore, Accuracy, Precision, Recall when L2_Penalty = 100 and Featureset 8 was used.\n",
    "indeed65k_90k_dssf_test['predictions'] = model_65_90_FeatureSet8_l2_100.predict(indeed65k_90k_dssf_test)\n",
    "\n",
    "finaltestfscore = graphlab.evaluation.f1_score(indeed65k_90k_dssf_test['IndeedSalaryEstimate'], indeed65k_90k_dssf_test['predictions'],average = 'macro')\n",
    "finaltestaccuracy = graphlab.evaluation.accuracy(indeed65k_90k_dssf_test['IndeedSalaryEstimate'], indeed65k_90k_dssf_test['predictions'],average = 'macro')\n",
    "finaltestprecision = graphlab.evaluation.precision(indeed65k_90k_dssf_test['IndeedSalaryEstimate'], indeed65k_90k_dssf_test['predictions'],average = 'macro')\n",
    "finaltestrecall = graphlab.evaluation.recall(indeed65k_90k_dssf_test['IndeedSalaryEstimate'], indeed65k_90k_dssf_test['predictions'],average = 'macro')\n",
    "\n",
    "print \"fscore\"\n",
    "print finaltestfscore\n",
    "print \"testacc\"\n",
    "print finaltestaccuracy\n",
    "\n",
    "print \"precision\"\n",
    "print finaltestprecision\n",
    "\n",
    "print \"recall\"\n",
    "print finaltestrecall"
   ]
  },
  {
   "cell_type": "code",
   "execution_count": 115,
   "metadata": {
    "collapsed": false
   },
   "outputs": [
    {
     "name": "stdout",
     "output_type": "stream",
     "text": [
      "PROGRESS: Creating a validation set from 5 percent of training data. This may take a while.\n",
      "          You can set ``validation_set=None`` to disable validation tracking.\n",
      "\n"
     ]
    },
    {
     "data": {
      "text/html": [
       "<pre>Logistic regression:</pre>"
      ],
      "text/plain": [
       "Logistic regression:"
      ]
     },
     "metadata": {},
     "output_type": "display_data"
    },
    {
     "data": {
      "text/html": [
       "<pre>--------------------------------------------------------</pre>"
      ],
      "text/plain": [
       "--------------------------------------------------------"
      ]
     },
     "metadata": {},
     "output_type": "display_data"
    },
    {
     "data": {
      "text/html": [
       "<pre>Number of examples          : 53997</pre>"
      ],
      "text/plain": [
       "Number of examples          : 53997"
      ]
     },
     "metadata": {},
     "output_type": "display_data"
    },
    {
     "data": {
      "text/html": [
       "<pre>Number of classes           : 2</pre>"
      ],
      "text/plain": [
       "Number of classes           : 2"
      ]
     },
     "metadata": {},
     "output_type": "display_data"
    },
    {
     "data": {
      "text/html": [
       "<pre>Number of feature columns   : 9</pre>"
      ],
      "text/plain": [
       "Number of feature columns   : 9"
      ]
     },
     "metadata": {},
     "output_type": "display_data"
    },
    {
     "data": {
      "text/html": [
       "<pre>Number of unpacked features : 9</pre>"
      ],
      "text/plain": [
       "Number of unpacked features : 9"
      ]
     },
     "metadata": {},
     "output_type": "display_data"
    },
    {
     "data": {
      "text/html": [
       "<pre>Number of coefficients    : 31387</pre>"
      ],
      "text/plain": [
       "Number of coefficients    : 31387"
      ]
     },
     "metadata": {},
     "output_type": "display_data"
    },
    {
     "data": {
      "text/html": [
       "<pre>Starting L-BFGS</pre>"
      ],
      "text/plain": [
       "Starting L-BFGS"
      ]
     },
     "metadata": {},
     "output_type": "display_data"
    },
    {
     "data": {
      "text/html": [
       "<pre>--------------------------------------------------------</pre>"
      ],
      "text/plain": [
       "--------------------------------------------------------"
      ]
     },
     "metadata": {},
     "output_type": "display_data"
    },
    {
     "data": {
      "text/html": [
       "<pre>+-----------+----------+-----------+--------------+-------------------+---------------------+</pre>"
      ],
      "text/plain": [
       "+-----------+----------+-----------+--------------+-------------------+---------------------+"
      ]
     },
     "metadata": {},
     "output_type": "display_data"
    },
    {
     "data": {
      "text/html": [
       "<pre>| Iteration | Passes   | Step size | Elapsed Time | Training-accuracy | Validation-accuracy |</pre>"
      ],
      "text/plain": [
       "| Iteration | Passes   | Step size | Elapsed Time | Training-accuracy | Validation-accuracy |"
      ]
     },
     "metadata": {},
     "output_type": "display_data"
    },
    {
     "data": {
      "text/html": [
       "<pre>+-----------+----------+-----------+--------------+-------------------+---------------------+</pre>"
      ],
      "text/plain": [
       "+-----------+----------+-----------+--------------+-------------------+---------------------+"
      ]
     },
     "metadata": {},
     "output_type": "display_data"
    },
    {
     "data": {
      "text/html": [
       "<pre>| 1         | 3        | 0.000019  | 0.044026     | 0.900106          | 0.891519            |</pre>"
      ],
      "text/plain": [
       "| 1         | 3        | 0.000019  | 0.044026     | 0.900106          | 0.891519            |"
      ]
     },
     "metadata": {},
     "output_type": "display_data"
    },
    {
     "data": {
      "text/html": [
       "<pre>| 2         | 5        | 1.000000  | 0.085048     | 0.932885          | 0.915548            |</pre>"
      ],
      "text/plain": [
       "| 2         | 5        | 1.000000  | 0.085048     | 0.932885          | 0.915548            |"
      ]
     },
     "metadata": {},
     "output_type": "display_data"
    },
    {
     "data": {
      "text/html": [
       "<pre>| 3         | 6        | 1.000000  | 0.111067     | 0.973962          | 0.949470            |</pre>"
      ],
      "text/plain": [
       "| 3         | 6        | 1.000000  | 0.111067     | 0.973962          | 0.949470            |"
      ]
     },
     "metadata": {},
     "output_type": "display_data"
    },
    {
     "data": {
      "text/html": [
       "<pre>| 4         | 7        | 1.000000  | 0.143089     | 0.949386          | 0.926148            |</pre>"
      ],
      "text/plain": [
       "| 4         | 7        | 1.000000  | 0.143089     | 0.949386          | 0.926148            |"
      ]
     },
     "metadata": {},
     "output_type": "display_data"
    },
    {
     "data": {
      "text/html": [
       "<pre>| 5         | 8        | 1.000000  | 0.171109     | 0.987962          | 0.964311            |</pre>"
      ],
      "text/plain": [
       "| 5         | 8        | 1.000000  | 0.171109     | 0.987962          | 0.964311            |"
      ]
     },
     "metadata": {},
     "output_type": "display_data"
    },
    {
     "data": {
      "text/html": [
       "<pre>| 6         | 9        | 1.000000  | 0.194125     | 0.999944          | 0.980212            |</pre>"
      ],
      "text/plain": [
       "| 6         | 9        | 1.000000  | 0.194125     | 0.999944          | 0.980212            |"
      ]
     },
     "metadata": {},
     "output_type": "display_data"
    },
    {
     "data": {
      "text/html": [
       "<pre>| 11        | 14       | 1.000000  | 0.339229     | 0.999944          | 0.981979            |</pre>"
      ],
      "text/plain": [
       "| 11        | 14       | 1.000000  | 0.339229     | 0.999944          | 0.981979            |"
      ]
     },
     "metadata": {},
     "output_type": "display_data"
    },
    {
     "data": {
      "text/html": [
       "<pre>| 50        | 66       | 1.000000  | 1.157807     | 1.000000          | 0.984806            |</pre>"
      ],
      "text/plain": [
       "| 50        | 66       | 1.000000  | 1.157807     | 1.000000          | 0.984806            |"
      ]
     },
     "metadata": {},
     "output_type": "display_data"
    },
    {
     "data": {
      "text/html": [
       "<pre>| 51        | 67       | 1.000000  | 1.178822     | 1.000000          | 0.984806            |</pre>"
      ],
      "text/plain": [
       "| 51        | 67       | 1.000000  | 1.178822     | 1.000000          | 0.984806            |"
      ]
     },
     "metadata": {},
     "output_type": "display_data"
    },
    {
     "data": {
      "text/html": [
       "<pre>+-----------+----------+-----------+--------------+-------------------+---------------------+</pre>"
      ],
      "text/plain": [
       "+-----------+----------+-----------+--------------+-------------------+---------------------+"
      ]
     },
     "metadata": {},
     "output_type": "display_data"
    },
    {
     "data": {
      "text/html": [
       "<pre>SUCCESS: Optimal solution found.</pre>"
      ],
      "text/plain": [
       "SUCCESS: Optimal solution found."
      ]
     },
     "metadata": {},
     "output_type": "display_data"
    },
    {
     "data": {
      "text/html": [
       "<pre></pre>"
      ],
      "text/plain": []
     },
     "metadata": {},
     "output_type": "display_data"
    },
    {
     "name": "stdout",
     "output_type": "stream",
     "text": [
      "PROGRESS: Creating a validation set from 5 percent of training data. This may take a while.\n",
      "          You can set ``validation_set=None`` to disable validation tracking.\n",
      "\n"
     ]
    },
    {
     "data": {
      "text/html": [
       "<pre>Logistic regression:</pre>"
      ],
      "text/plain": [
       "Logistic regression:"
      ]
     },
     "metadata": {},
     "output_type": "display_data"
    },
    {
     "data": {
      "text/html": [
       "<pre>--------------------------------------------------------</pre>"
      ],
      "text/plain": [
       "--------------------------------------------------------"
      ]
     },
     "metadata": {},
     "output_type": "display_data"
    },
    {
     "data": {
      "text/html": [
       "<pre>Number of examples          : 53949</pre>"
      ],
      "text/plain": [
       "Number of examples          : 53949"
      ]
     },
     "metadata": {},
     "output_type": "display_data"
    },
    {
     "data": {
      "text/html": [
       "<pre>Number of classes           : 2</pre>"
      ],
      "text/plain": [
       "Number of classes           : 2"
      ]
     },
     "metadata": {},
     "output_type": "display_data"
    },
    {
     "data": {
      "text/html": [
       "<pre>Number of feature columns   : 9</pre>"
      ],
      "text/plain": [
       "Number of feature columns   : 9"
      ]
     },
     "metadata": {},
     "output_type": "display_data"
    },
    {
     "data": {
      "text/html": [
       "<pre>Number of unpacked features : 9</pre>"
      ],
      "text/plain": [
       "Number of unpacked features : 9"
      ]
     },
     "metadata": {},
     "output_type": "display_data"
    },
    {
     "data": {
      "text/html": [
       "<pre>Number of coefficients    : 31374</pre>"
      ],
      "text/plain": [
       "Number of coefficients    : 31374"
      ]
     },
     "metadata": {},
     "output_type": "display_data"
    },
    {
     "data": {
      "text/html": [
       "<pre>Starting L-BFGS</pre>"
      ],
      "text/plain": [
       "Starting L-BFGS"
      ]
     },
     "metadata": {},
     "output_type": "display_data"
    },
    {
     "data": {
      "text/html": [
       "<pre>--------------------------------------------------------</pre>"
      ],
      "text/plain": [
       "--------------------------------------------------------"
      ]
     },
     "metadata": {},
     "output_type": "display_data"
    },
    {
     "data": {
      "text/html": [
       "<pre>+-----------+----------+-----------+--------------+-------------------+---------------------+</pre>"
      ],
      "text/plain": [
       "+-----------+----------+-----------+--------------+-------------------+---------------------+"
      ]
     },
     "metadata": {},
     "output_type": "display_data"
    },
    {
     "data": {
      "text/html": [
       "<pre>| Iteration | Passes   | Step size | Elapsed Time | Training-accuracy | Validation-accuracy |</pre>"
      ],
      "text/plain": [
       "| Iteration | Passes   | Step size | Elapsed Time | Training-accuracy | Validation-accuracy |"
      ]
     },
     "metadata": {},
     "output_type": "display_data"
    },
    {
     "data": {
      "text/html": [
       "<pre>+-----------+----------+-----------+--------------+-------------------+---------------------+</pre>"
      ],
      "text/plain": [
       "+-----------+----------+-----------+--------------+-------------------+---------------------+"
      ]
     },
     "metadata": {},
     "output_type": "display_data"
    },
    {
     "data": {
      "text/html": [
       "<pre>| 1         | 3        | 0.000019  | 0.043033     | 0.900017          | 0.884642            |</pre>"
      ],
      "text/plain": [
       "| 1         | 3        | 0.000019  | 0.043033     | 0.900017          | 0.884642            |"
      ]
     },
     "metadata": {},
     "output_type": "display_data"
    },
    {
     "data": {
      "text/html": [
       "<pre>| 2         | 5        | 1.000000  | 0.080040     | 0.932844          | 0.915566            |</pre>"
      ],
      "text/plain": [
       "| 2         | 5        | 1.000000  | 0.080040     | 0.932844          | 0.915566            |"
      ]
     },
     "metadata": {},
     "output_type": "display_data"
    },
    {
     "data": {
      "text/html": [
       "<pre>| 3         | 6        | 1.000000  | 0.121069     | 0.969805          | 0.949270            |</pre>"
      ],
      "text/plain": [
       "| 3         | 6        | 1.000000  | 0.121069     | 0.969805          | 0.949270            |"
      ]
     },
     "metadata": {},
     "output_type": "display_data"
    },
    {
     "data": {
      "text/html": [
       "<pre>| 4         | 7        | 1.000000  | 0.145085     | 0.947024          | 0.925295            |</pre>"
      ],
      "text/plain": [
       "| 4         | 7        | 1.000000  | 0.145085     | 0.947024          | 0.925295            |"
      ]
     },
     "metadata": {},
     "output_type": "display_data"
    },
    {
     "data": {
      "text/html": [
       "<pre>| 5         | 8        | 1.000000  | 0.172105     | 0.986005          | 0.964559            |</pre>"
      ],
      "text/plain": [
       "| 5         | 8        | 1.000000  | 0.172105     | 0.986005          | 0.964559            |"
      ]
     },
     "metadata": {},
     "output_type": "display_data"
    },
    {
     "data": {
      "text/html": [
       "<pre>| 6         | 9        | 1.000000  | 0.201125     | 0.999722          | 0.978457            |</pre>"
      ],
      "text/plain": [
       "| 6         | 9        | 1.000000  | 0.201125     | 0.999722          | 0.978457            |"
      ]
     },
     "metadata": {},
     "output_type": "display_data"
    },
    {
     "data": {
      "text/html": [
       "<pre>| 11        | 15       | 1.000000  | 0.366242     | 1.000000          | 0.980542            |</pre>"
      ],
      "text/plain": [
       "| 11        | 15       | 1.000000  | 0.366242     | 1.000000          | 0.980542            |"
      ]
     },
     "metadata": {},
     "output_type": "display_data"
    },
    {
     "data": {
      "text/html": [
       "<pre>| 50        | 74       | 1.000000  | 1.328922     | 1.000000          | 0.981237            |</pre>"
      ],
      "text/plain": [
       "| 50        | 74       | 1.000000  | 1.328922     | 1.000000          | 0.981237            |"
      ]
     },
     "metadata": {},
     "output_type": "display_data"
    },
    {
     "data": {
      "text/html": [
       "<pre>| 51        | 75       | 1.000000  | 1.348936     | 1.000000          | 0.981237            |</pre>"
      ],
      "text/plain": [
       "| 51        | 75       | 1.000000  | 1.348936     | 1.000000          | 0.981237            |"
      ]
     },
     "metadata": {},
     "output_type": "display_data"
    },
    {
     "data": {
      "text/html": [
       "<pre>+-----------+----------+-----------+--------------+-------------------+---------------------+</pre>"
      ],
      "text/plain": [
       "+-----------+----------+-----------+--------------+-------------------+---------------------+"
      ]
     },
     "metadata": {},
     "output_type": "display_data"
    },
    {
     "data": {
      "text/html": [
       "<pre>SUCCESS: Optimal solution found.</pre>"
      ],
      "text/plain": [
       "SUCCESS: Optimal solution found."
      ]
     },
     "metadata": {},
     "output_type": "display_data"
    },
    {
     "data": {
      "text/html": [
       "<pre></pre>"
      ],
      "text/plain": []
     },
     "metadata": {},
     "output_type": "display_data"
    }
   ],
   "source": [
    "#Training our classification Model and Fetaure Engineering\n",
    "featureset1 = ['1gram features']\n",
    "featureset2 = ['1gram features','2gram features']\n",
    "featureset3 = ['1gram features','2gram features','3gram features']\n",
    "featureset4 = ['1gram features','2gram features','3gram features','city']\n",
    "featureset5 = ['1gram features','2gram features','3gram features','city','job_tfidf']\n",
    "featureset6 = ['1gram features','2gram features','3gram features','city','job_tfidf','location']\n",
    "featureset7 = ['1gram features','2gram features','3gram features','city','job_tfidf','location','company_name']\n",
    "featureset8 = ['1gram features','2gram features','3gram features','city','job_tfidf','location','company_name','AvgFTVector']\n",
    "featureset9 = ['1gram features','2gram features','3gram features','city','job_tfidf','location','company_name','AvgFTVector','job_title']\n",
    "featureset10 = ['1gram features','2gram features','3gram features','city','job_tfidf','location','company_name','AvgFTVector','job_title','D2Vector']\n",
    "model_65_90_FeatureSet9_l2_10 = graphlab.logistic_classifier.create(indeed65k_90k_dssf_train, target='IndeedSalaryEstimate', features=featureset9,max_iterations=1000,class_weights = 'auto',\n",
    "                                                          l2_penalty=10)\n",
    "model_65_90_FeatureSet9_l2_100 = graphlab.logistic_classifier.create(indeed65k_90k_dssf_train, target='IndeedSalaryEstimate', features=featureset9,max_iterations=1000,class_weights = 'auto',\n",
    "                                                          l2_penalty=100)"
   ]
  },
  {
   "cell_type": "code",
   "execution_count": 116,
   "metadata": {
    "collapsed": false
   },
   "outputs": [
    {
     "name": "stdout",
     "output_type": "stream",
     "text": [
      "fscore\n",
      "0.934426229508\n",
      "testacc\n",
      "0.98606271777\n",
      "precision\n",
      "0.966101694915\n",
      "recall\n",
      "0.904761904762\n"
     ]
    }
   ],
   "source": [
    "#Fscore, Accuracy, Precision, Recall when L2_Penalty = 10 and Featureset 9 was used.\n",
    "indeed65k_90k_dssf_test['predictions'] = model_65_90_FeatureSet9_l2_10.predict(indeed65k_90k_dssf_test)\n",
    "\n",
    "finaltestfscore = graphlab.evaluation.f1_score(indeed65k_90k_dssf_test['IndeedSalaryEstimate'], indeed65k_90k_dssf_test['predictions'],average = 'macro')\n",
    "finaltestaccuracy = graphlab.evaluation.accuracy(indeed65k_90k_dssf_test['IndeedSalaryEstimate'], indeed65k_90k_dssf_test['predictions'],average = 'macro')\n",
    "finaltestprecision = graphlab.evaluation.precision(indeed65k_90k_dssf_test['IndeedSalaryEstimate'], indeed65k_90k_dssf_test['predictions'],average = 'macro')\n",
    "finaltestrecall = graphlab.evaluation.recall(indeed65k_90k_dssf_test['IndeedSalaryEstimate'], indeed65k_90k_dssf_test['predictions'],average = 'macro')\n",
    "\n",
    "print \"fscore\"\n",
    "print finaltestfscore\n",
    "print \"testacc\"\n",
    "print finaltestaccuracy\n",
    "\n",
    "print \"precision\"\n",
    "print finaltestprecision\n",
    "\n",
    "print \"recall\"\n",
    "print finaltestrecall"
   ]
  },
  {
   "cell_type": "code",
   "execution_count": 117,
   "metadata": {
    "collapsed": false
   },
   "outputs": [
    {
     "name": "stdout",
     "output_type": "stream",
     "text": [
      "fscore\n",
      "0.934426229508\n",
      "testacc\n",
      "0.98606271777\n",
      "precision\n",
      "0.966101694915\n",
      "recall\n",
      "0.904761904762\n"
     ]
    }
   ],
   "source": [
    "#Fscore, Accuracy, Precision, Recall when L2_Penalty = 100 and Featureset 9 was used.\n",
    "indeed65k_90k_dssf_test['predictions'] = model_65_90_FeatureSet9_l2_100.predict(indeed65k_90k_dssf_test)\n",
    "\n",
    "finaltestfscore = graphlab.evaluation.f1_score(indeed65k_90k_dssf_test['IndeedSalaryEstimate'], indeed65k_90k_dssf_test['predictions'],average = 'macro')\n",
    "finaltestaccuracy = graphlab.evaluation.accuracy(indeed65k_90k_dssf_test['IndeedSalaryEstimate'], indeed65k_90k_dssf_test['predictions'],average = 'macro')\n",
    "finaltestprecision = graphlab.evaluation.precision(indeed65k_90k_dssf_test['IndeedSalaryEstimate'], indeed65k_90k_dssf_test['predictions'],average = 'macro')\n",
    "finaltestrecall = graphlab.evaluation.recall(indeed65k_90k_dssf_test['IndeedSalaryEstimate'], indeed65k_90k_dssf_test['predictions'],average = 'macro')\n",
    "\n",
    "print \"fscore\"\n",
    "print finaltestfscore\n",
    "print \"testacc\"\n",
    "print finaltestaccuracy\n",
    "\n",
    "print \"precision\"\n",
    "print finaltestprecision\n",
    "\n",
    "print \"recall\"\n",
    "print finaltestrecall"
   ]
  },
  {
   "cell_type": "code",
   "execution_count": 118,
   "metadata": {
    "collapsed": false
   },
   "outputs": [
    {
     "name": "stdout",
     "output_type": "stream",
     "text": [
      "PROGRESS: Creating a validation set from 5 percent of training data. This may take a while.\n",
      "          You can set ``validation_set=None`` to disable validation tracking.\n",
      "\n"
     ]
    },
    {
     "data": {
      "text/html": [
       "<pre>WARNING: The number of feature dimensions in this problem is very large in comparison with the number of examples. Unless an appropriate regularization value is set, this model may not provide accurate predictions for a validation/test set.</pre>"
      ],
      "text/plain": [
       "WARNING: The number of feature dimensions in this problem is very large in comparison with the number of examples. Unless an appropriate regularization value is set, this model may not provide accurate predictions for a validation/test set."
      ]
     },
     "metadata": {},
     "output_type": "display_data"
    },
    {
     "data": {
      "text/html": [
       "<pre>Logistic regression:</pre>"
      ],
      "text/plain": [
       "Logistic regression:"
      ]
     },
     "metadata": {},
     "output_type": "display_data"
    },
    {
     "data": {
      "text/html": [
       "<pre>--------------------------------------------------------</pre>"
      ],
      "text/plain": [
       "--------------------------------------------------------"
      ]
     },
     "metadata": {},
     "output_type": "display_data"
    },
    {
     "data": {
      "text/html": [
       "<pre>Number of examples          : 54021</pre>"
      ],
      "text/plain": [
       "Number of examples          : 54021"
      ]
     },
     "metadata": {},
     "output_type": "display_data"
    },
    {
     "data": {
      "text/html": [
       "<pre>Number of classes           : 2</pre>"
      ],
      "text/plain": [
       "Number of classes           : 2"
      ]
     },
     "metadata": {},
     "output_type": "display_data"
    },
    {
     "data": {
      "text/html": [
       "<pre>Number of feature columns   : 10</pre>"
      ],
      "text/plain": [
       "Number of feature columns   : 10"
      ]
     },
     "metadata": {},
     "output_type": "display_data"
    },
    {
     "data": {
      "text/html": [
       "<pre>Number of unpacked features : 10</pre>"
      ],
      "text/plain": [
       "Number of unpacked features : 10"
      ]
     },
     "metadata": {},
     "output_type": "display_data"
    },
    {
     "data": {
      "text/html": [
       "<pre>Number of coefficients    : 85466</pre>"
      ],
      "text/plain": [
       "Number of coefficients    : 85466"
      ]
     },
     "metadata": {},
     "output_type": "display_data"
    },
    {
     "data": {
      "text/html": [
       "<pre>Starting L-BFGS</pre>"
      ],
      "text/plain": [
       "Starting L-BFGS"
      ]
     },
     "metadata": {},
     "output_type": "display_data"
    },
    {
     "data": {
      "text/html": [
       "<pre>--------------------------------------------------------</pre>"
      ],
      "text/plain": [
       "--------------------------------------------------------"
      ]
     },
     "metadata": {},
     "output_type": "display_data"
    },
    {
     "data": {
      "text/html": [
       "<pre>+-----------+----------+-----------+--------------+-------------------+---------------------+</pre>"
      ],
      "text/plain": [
       "+-----------+----------+-----------+--------------+-------------------+---------------------+"
      ]
     },
     "metadata": {},
     "output_type": "display_data"
    },
    {
     "data": {
      "text/html": [
       "<pre>| Iteration | Passes   | Step size | Elapsed Time | Training-accuracy | Validation-accuracy |</pre>"
      ],
      "text/plain": [
       "| Iteration | Passes   | Step size | Elapsed Time | Training-accuracy | Validation-accuracy |"
      ]
     },
     "metadata": {},
     "output_type": "display_data"
    },
    {
     "data": {
      "text/html": [
       "<pre>+-----------+----------+-----------+--------------+-------------------+---------------------+</pre>"
      ],
      "text/plain": [
       "+-----------+----------+-----------+--------------+-------------------+---------------------+"
      ]
     },
     "metadata": {},
     "output_type": "display_data"
    },
    {
     "data": {
      "text/html": [
       "<pre>| 1         | 3        | 0.000019  | 0.059044     | 0.907980          | 0.890592            |</pre>"
      ],
      "text/plain": [
       "| 1         | 3        | 0.000019  | 0.059044     | 0.907980          | 0.890592            |"
      ]
     },
     "metadata": {},
     "output_type": "display_data"
    },
    {
     "data": {
      "text/html": [
       "<pre>| 2         | 5        | 1.000000  | 0.102074     | 0.935655          | 0.915182            |</pre>"
      ],
      "text/plain": [
       "| 2         | 5        | 1.000000  | 0.102074     | 0.935655          | 0.915182            |"
      ]
     },
     "metadata": {},
     "output_type": "display_data"
    },
    {
     "data": {
      "text/html": [
       "<pre>| 3         | 6        | 1.000000  | 0.130093     | 0.994502          | 0.961867            |</pre>"
      ],
      "text/plain": [
       "| 3         | 6        | 1.000000  | 0.130093     | 0.994502          | 0.961867            |"
      ]
     },
     "metadata": {},
     "output_type": "display_data"
    },
    {
     "data": {
      "text/html": [
       "<pre>| 4         | 7        | 1.000000  | 0.161115     | 0.999889          | 0.940485            |</pre>"
      ],
      "text/plain": [
       "| 4         | 7        | 1.000000  | 0.161115     | 0.999889          | 0.940485            |"
      ]
     },
     "metadata": {},
     "output_type": "display_data"
    },
    {
     "data": {
      "text/html": [
       "<pre>| 5         | 8        | 1.000000  | 0.190136     | 1.000000          | 0.974697            |</pre>"
      ],
      "text/plain": [
       "| 5         | 8        | 1.000000  | 0.190136     | 1.000000          | 0.974697            |"
      ]
     },
     "metadata": {},
     "output_type": "display_data"
    },
    {
     "data": {
      "text/html": [
       "<pre>| 6         | 9        | 1.000000  | 0.222158     | 1.000000          | 0.973984            |</pre>"
      ],
      "text/plain": [
       "| 6         | 9        | 1.000000  | 0.222158     | 1.000000          | 0.973984            |"
      ]
     },
     "metadata": {},
     "output_type": "display_data"
    },
    {
     "data": {
      "text/html": [
       "<pre>| 11        | 14       | 1.000000  | 0.380270     | 1.000000          | 0.976123            |</pre>"
      ],
      "text/plain": [
       "| 11        | 14       | 1.000000  | 0.380270     | 1.000000          | 0.976123            |"
      ]
     },
     "metadata": {},
     "output_type": "display_data"
    },
    {
     "data": {
      "text/html": [
       "<pre>| 50        | 74       | 1.000000  | 1.693198     | 1.000000          | 0.978261            |</pre>"
      ],
      "text/plain": [
       "| 50        | 74       | 1.000000  | 1.693198     | 1.000000          | 0.978261            |"
      ]
     },
     "metadata": {},
     "output_type": "display_data"
    },
    {
     "data": {
      "text/html": [
       "<pre>| 51        | 78       | 0.250000  | 1.770254     | 1.000000          | 0.978261            |</pre>"
      ],
      "text/plain": [
       "| 51        | 78       | 0.250000  | 1.770254     | 1.000000          | 0.978261            |"
      ]
     },
     "metadata": {},
     "output_type": "display_data"
    },
    {
     "data": {
      "text/html": [
       "<pre>+-----------+----------+-----------+--------------+-------------------+---------------------+</pre>"
      ],
      "text/plain": [
       "+-----------+----------+-----------+--------------+-------------------+---------------------+"
      ]
     },
     "metadata": {},
     "output_type": "display_data"
    },
    {
     "data": {
      "text/html": [
       "<pre>SUCCESS: Optimal solution found.</pre>"
      ],
      "text/plain": [
       "SUCCESS: Optimal solution found."
      ]
     },
     "metadata": {},
     "output_type": "display_data"
    },
    {
     "data": {
      "text/html": [
       "<pre></pre>"
      ],
      "text/plain": []
     },
     "metadata": {},
     "output_type": "display_data"
    },
    {
     "name": "stdout",
     "output_type": "stream",
     "text": [
      "PROGRESS: Creating a validation set from 5 percent of training data. This may take a while.\n",
      "          You can set ``validation_set=None`` to disable validation tracking.\n",
      "\n"
     ]
    },
    {
     "data": {
      "text/html": [
       "<pre>WARNING: The number of feature dimensions in this problem is very large in comparison with the number of examples. Unless an appropriate regularization value is set, this model may not provide accurate predictions for a validation/test set.</pre>"
      ],
      "text/plain": [
       "WARNING: The number of feature dimensions in this problem is very large in comparison with the number of examples. Unless an appropriate regularization value is set, this model may not provide accurate predictions for a validation/test set."
      ]
     },
     "metadata": {},
     "output_type": "display_data"
    },
    {
     "data": {
      "text/html": [
       "<pre>Logistic regression:</pre>"
      ],
      "text/plain": [
       "Logistic regression:"
      ]
     },
     "metadata": {},
     "output_type": "display_data"
    },
    {
     "data": {
      "text/html": [
       "<pre>--------------------------------------------------------</pre>"
      ],
      "text/plain": [
       "--------------------------------------------------------"
      ]
     },
     "metadata": {},
     "output_type": "display_data"
    },
    {
     "data": {
      "text/html": [
       "<pre>Number of examples          : 53942</pre>"
      ],
      "text/plain": [
       "Number of examples          : 53942"
      ]
     },
     "metadata": {},
     "output_type": "display_data"
    },
    {
     "data": {
      "text/html": [
       "<pre>Number of classes           : 2</pre>"
      ],
      "text/plain": [
       "Number of classes           : 2"
      ]
     },
     "metadata": {},
     "output_type": "display_data"
    },
    {
     "data": {
      "text/html": [
       "<pre>Number of feature columns   : 10</pre>"
      ],
      "text/plain": [
       "Number of feature columns   : 10"
      ]
     },
     "metadata": {},
     "output_type": "display_data"
    },
    {
     "data": {
      "text/html": [
       "<pre>Number of unpacked features : 10</pre>"
      ],
      "text/plain": [
       "Number of unpacked features : 10"
      ]
     },
     "metadata": {},
     "output_type": "display_data"
    },
    {
     "data": {
      "text/html": [
       "<pre>Number of coefficients    : 85348</pre>"
      ],
      "text/plain": [
       "Number of coefficients    : 85348"
      ]
     },
     "metadata": {},
     "output_type": "display_data"
    },
    {
     "data": {
      "text/html": [
       "<pre>Starting L-BFGS</pre>"
      ],
      "text/plain": [
       "Starting L-BFGS"
      ]
     },
     "metadata": {},
     "output_type": "display_data"
    },
    {
     "data": {
      "text/html": [
       "<pre>--------------------------------------------------------</pre>"
      ],
      "text/plain": [
       "--------------------------------------------------------"
      ]
     },
     "metadata": {},
     "output_type": "display_data"
    },
    {
     "data": {
      "text/html": [
       "<pre>+-----------+----------+-----------+--------------+-------------------+---------------------+</pre>"
      ],
      "text/plain": [
       "+-----------+----------+-----------+--------------+-------------------+---------------------+"
      ]
     },
     "metadata": {},
     "output_type": "display_data"
    },
    {
     "data": {
      "text/html": [
       "<pre>| Iteration | Passes   | Step size | Elapsed Time | Training-accuracy | Validation-accuracy |</pre>"
      ],
      "text/plain": [
       "| Iteration | Passes   | Step size | Elapsed Time | Training-accuracy | Validation-accuracy |"
      ]
     },
     "metadata": {},
     "output_type": "display_data"
    },
    {
     "data": {
      "text/html": [
       "<pre>+-----------+----------+-----------+--------------+-------------------+---------------------+</pre>"
      ],
      "text/plain": [
       "+-----------+----------+-----------+--------------+-------------------+---------------------+"
      ]
     },
     "metadata": {},
     "output_type": "display_data"
    },
    {
     "data": {
      "text/html": [
       "<pre>| 1         | 3        | 0.000019  | 0.061044     | 0.907642          | 0.897054            |</pre>"
      ],
      "text/plain": [
       "| 1         | 3        | 0.000019  | 0.061044     | 0.907642          | 0.897054            |"
      ]
     },
     "metadata": {},
     "output_type": "display_data"
    },
    {
     "data": {
      "text/html": [
       "<pre>| 2         | 5        | 1.000000  | 0.105074     | 0.935579          | 0.918544            |</pre>"
      ],
      "text/plain": [
       "| 2         | 5        | 1.000000  | 0.105074     | 0.935579          | 0.918544            |"
      ]
     },
     "metadata": {},
     "output_type": "display_data"
    },
    {
     "data": {
      "text/html": [
       "<pre>| 3         | 6        | 1.000000  | 0.138098     | 0.994624          | 0.955979            |</pre>"
      ],
      "text/plain": [
       "| 3         | 6        | 1.000000  | 0.138098     | 0.994624          | 0.955979            |"
      ]
     },
     "metadata": {},
     "output_type": "display_data"
    },
    {
     "data": {
      "text/html": [
       "<pre>| 4         | 7        | 1.000000  | 0.169119     | 0.999889          | 0.939341            |</pre>"
      ],
      "text/plain": [
       "| 4         | 7        | 1.000000  | 0.169119     | 0.999889          | 0.939341            |"
      ]
     },
     "metadata": {},
     "output_type": "display_data"
    },
    {
     "data": {
      "text/html": [
       "<pre>| 5         | 8        | 1.000000  | 0.199140     | 1.000000          | 0.971924            |</pre>"
      ],
      "text/plain": [
       "| 5         | 8        | 1.000000  | 0.199140     | 1.000000          | 0.971924            |"
      ]
     },
     "metadata": {},
     "output_type": "display_data"
    },
    {
     "data": {
      "text/html": [
       "<pre>| 6         | 9        | 1.000000  | 0.233166     | 1.000000          | 0.971924            |</pre>"
      ],
      "text/plain": [
       "| 6         | 9        | 1.000000  | 0.233166     | 1.000000          | 0.971924            |"
      ]
     },
     "metadata": {},
     "output_type": "display_data"
    },
    {
     "data": {
      "text/html": [
       "<pre>| 11        | 14       | 1.000000  | 0.384272     | 1.000000          | 0.974003            |</pre>"
      ],
      "text/plain": [
       "| 11        | 14       | 1.000000  | 0.384272     | 1.000000          | 0.974003            |"
      ]
     },
     "metadata": {},
     "output_type": "display_data"
    },
    {
     "data": {
      "text/html": [
       "<pre>+-----------+----------+-----------+--------------+-------------------+---------------------+</pre>"
      ],
      "text/plain": [
       "+-----------+----------+-----------+--------------+-------------------+---------------------+"
      ]
     },
     "metadata": {},
     "output_type": "display_data"
    },
    {
     "data": {
      "text/html": [
       "<pre>SUCCESS: Optimal solution found.</pre>"
      ],
      "text/plain": [
       "SUCCESS: Optimal solution found."
      ]
     },
     "metadata": {},
     "output_type": "display_data"
    },
    {
     "data": {
      "text/html": [
       "<pre></pre>"
      ],
      "text/plain": []
     },
     "metadata": {},
     "output_type": "display_data"
    }
   ],
   "source": [
    "#Training our classification Model and Fetaure Engineering\n",
    "featureset1 = ['1gram features']\n",
    "featureset2 = ['1gram features','2gram features']\n",
    "featureset3 = ['1gram features','2gram features','3gram features']\n",
    "featureset4 = ['1gram features','2gram features','3gram features','city']\n",
    "featureset5 = ['1gram features','2gram features','3gram features','city','job_tfidf']\n",
    "featureset6 = ['1gram features','2gram features','3gram features','city','job_tfidf','location']\n",
    "featureset7 = ['1gram features','2gram features','3gram features','city','job_tfidf','location','company_name']\n",
    "featureset8 = ['1gram features','2gram features','3gram features','city','job_tfidf','location','company_name','AvgFTVector']\n",
    "featureset9 = ['1gram features','2gram features','3gram features','city','job_tfidf','location','company_name','AvgFTVector','job_title']\n",
    "featureset10 = ['1gram features','2gram features','3gram features','city','job_tfidf','location','company_name','AvgFTVector','job_title','D2Vector']\n",
    "model_65_90_FeatureSet10_l2_10 = graphlab.logistic_classifier.create(indeed65k_90k_dssf_train, target='IndeedSalaryEstimate', features=featureset10,max_iterations=1000,class_weights = 'auto',\n",
    "                                                          l2_penalty=10)\n",
    "model_65_90_FeatureSet10_l2_100 = graphlab.logistic_classifier.create(indeed65k_90k_dssf_train, target='IndeedSalaryEstimate', features=featureset10,max_iterations=1000,class_weights = 'auto',\n",
    "                                                          l2_penalty=100)"
   ]
  },
  {
   "cell_type": "code",
   "execution_count": 119,
   "metadata": {
    "collapsed": false
   },
   "outputs": [
    {
     "name": "stdout",
     "output_type": "stream",
     "text": [
      "fscore\n",
      "0.90756302521\n",
      "testacc\n",
      "0.980836236934\n",
      "precision\n",
      "0.964285714286\n",
      "recall\n",
      "0.857142857143\n"
     ]
    }
   ],
   "source": [
    "#Fscore, Accuracy, Precision, Recall when L2_Penalty = 10 and Featureset 10 was used.\n",
    "indeed65k_90k_dssf_test['predictions'] = model_65_90_FeatureSet10_l2_10.predict(indeed65k_90k_dssf_test)\n",
    "\n",
    "finaltestfscore = graphlab.evaluation.f1_score(indeed65k_90k_dssf_test['IndeedSalaryEstimate'], indeed65k_90k_dssf_test['predictions'],average = 'macro')\n",
    "finaltestaccuracy = graphlab.evaluation.accuracy(indeed65k_90k_dssf_test['IndeedSalaryEstimate'], indeed65k_90k_dssf_test['predictions'],average = 'macro')\n",
    "finaltestprecision = graphlab.evaluation.precision(indeed65k_90k_dssf_test['IndeedSalaryEstimate'], indeed65k_90k_dssf_test['predictions'],average = 'macro')\n",
    "finaltestrecall = graphlab.evaluation.recall(indeed65k_90k_dssf_test['IndeedSalaryEstimate'], indeed65k_90k_dssf_test['predictions'],average = 'macro')\n",
    "\n",
    "print \"fscore\"\n",
    "print finaltestfscore\n",
    "print \"testacc\"\n",
    "print finaltestaccuracy\n",
    "\n",
    "print \"precision\"\n",
    "print finaltestprecision\n",
    "\n",
    "print \"recall\"\n",
    "print finaltestrecall"
   ]
  },
  {
   "cell_type": "code",
   "execution_count": 120,
   "metadata": {
    "collapsed": false
   },
   "outputs": [
    {
     "name": "stdout",
     "output_type": "stream",
     "text": [
      "fscore\n",
      "0.871794871795\n",
      "testacc\n",
      "0.973867595819\n",
      "precision\n",
      "0.944444444444\n",
      "recall\n",
      "0.809523809524\n"
     ]
    }
   ],
   "source": [
    "#Fscore, Accuracy, Precision, Recall when L2_Penalty = 100 and Featureset 10 was used.\n",
    "indeed65k_90k_dssf_test['predictions'] = model_65_90_FeatureSet10_l2_100.predict(indeed65k_90k_dssf_test)\n",
    "\n",
    "finaltestfscore = graphlab.evaluation.f1_score(indeed65k_90k_dssf_test['IndeedSalaryEstimate'], indeed65k_90k_dssf_test['predictions'],average = 'macro')\n",
    "finaltestaccuracy = graphlab.evaluation.accuracy(indeed65k_90k_dssf_test['IndeedSalaryEstimate'], indeed65k_90k_dssf_test['predictions'],average = 'macro')\n",
    "finaltestprecision = graphlab.evaluation.precision(indeed65k_90k_dssf_test['IndeedSalaryEstimate'], indeed65k_90k_dssf_test['predictions'],average = 'macro')\n",
    "finaltestrecall = graphlab.evaluation.recall(indeed65k_90k_dssf_test['IndeedSalaryEstimate'], indeed65k_90k_dssf_test['predictions'],average = 'macro')\n",
    "\n",
    "print \"fscore\"\n",
    "print finaltestfscore\n",
    "print \"testacc\"\n",
    "print finaltestaccuracy\n",
    "\n",
    "print \"precision\"\n",
    "print finaltestprecision\n",
    "\n",
    "print \"recall\"\n",
    "print finaltestrecall"
   ]
  },
  {
   "cell_type": "markdown",
   "metadata": {},
   "source": [
    "## I have noticed that when adding the \"job_tfidf\" fetaure, the fscore, precision and recall jumped up by double digits starting from feature set 5. Lets check the perfomance when eliminating the \"job_tfidf\" which is the tfidf of the job title column while keeping all other features (Feature set 11). Feature Sets 12 and 13 were for testing the use of Avg fast text vector vs using the doc2vec vector instead."
   ]
  },
  {
   "cell_type": "code",
   "execution_count": null,
   "metadata": {
    "collapsed": true
   },
   "outputs": [],
   "source": []
  },
  {
   "cell_type": "code",
   "execution_count": null,
   "metadata": {
    "collapsed": true
   },
   "outputs": [],
   "source": []
  },
  {
   "cell_type": "code",
   "execution_count": 226,
   "metadata": {
    "collapsed": false
   },
   "outputs": [
    {
     "name": "stdout",
     "output_type": "stream",
     "text": [
      "PROGRESS: Creating a validation set from 5 percent of training data. This may take a while.\n",
      "          You can set ``validation_set=None`` to disable validation tracking.\n",
      "\n"
     ]
    },
    {
     "data": {
      "text/html": [
       "<pre>WARNING: The number of feature dimensions in this problem is very large in comparison with the number of examples. Unless an appropriate regularization value is set, this model may not provide accurate predictions for a validation/test set.</pre>"
      ],
      "text/plain": [
       "WARNING: The number of feature dimensions in this problem is very large in comparison with the number of examples. Unless an appropriate regularization value is set, this model may not provide accurate predictions for a validation/test set."
      ]
     },
     "metadata": {},
     "output_type": "display_data"
    },
    {
     "data": {
      "text/html": [
       "<pre>Logistic regression:</pre>"
      ],
      "text/plain": [
       "Logistic regression:"
      ]
     },
     "metadata": {},
     "output_type": "display_data"
    },
    {
     "data": {
      "text/html": [
       "<pre>--------------------------------------------------------</pre>"
      ],
      "text/plain": [
       "--------------------------------------------------------"
      ]
     },
     "metadata": {},
     "output_type": "display_data"
    },
    {
     "data": {
      "text/html": [
       "<pre>Number of examples          : 53909</pre>"
      ],
      "text/plain": [
       "Number of examples          : 53909"
      ]
     },
     "metadata": {},
     "output_type": "display_data"
    },
    {
     "data": {
      "text/html": [
       "<pre>Number of classes           : 2</pre>"
      ],
      "text/plain": [
       "Number of classes           : 2"
      ]
     },
     "metadata": {},
     "output_type": "display_data"
    },
    {
     "data": {
      "text/html": [
       "<pre>Number of feature columns   : 9</pre>"
      ],
      "text/plain": [
       "Number of feature columns   : 9"
      ]
     },
     "metadata": {},
     "output_type": "display_data"
    },
    {
     "data": {
      "text/html": [
       "<pre>Number of unpacked features : 9</pre>"
      ],
      "text/plain": [
       "Number of unpacked features : 9"
      ]
     },
     "metadata": {},
     "output_type": "display_data"
    },
    {
     "data": {
      "text/html": [
       "<pre>Number of coefficients    : 80594</pre>"
      ],
      "text/plain": [
       "Number of coefficients    : 80594"
      ]
     },
     "metadata": {},
     "output_type": "display_data"
    },
    {
     "data": {
      "text/html": [
       "<pre>Starting L-BFGS</pre>"
      ],
      "text/plain": [
       "Starting L-BFGS"
      ]
     },
     "metadata": {},
     "output_type": "display_data"
    },
    {
     "data": {
      "text/html": [
       "<pre>--------------------------------------------------------</pre>"
      ],
      "text/plain": [
       "--------------------------------------------------------"
      ]
     },
     "metadata": {},
     "output_type": "display_data"
    },
    {
     "data": {
      "text/html": [
       "<pre>+-----------+----------+-----------+--------------+-------------------+---------------------+</pre>"
      ],
      "text/plain": [
       "+-----------+----------+-----------+--------------+-------------------+---------------------+"
      ]
     },
     "metadata": {},
     "output_type": "display_data"
    },
    {
     "data": {
      "text/html": [
       "<pre>| Iteration | Passes   | Step size | Elapsed Time | Training-accuracy | Validation-accuracy |</pre>"
      ],
      "text/plain": [
       "| Iteration | Passes   | Step size | Elapsed Time | Training-accuracy | Validation-accuracy |"
      ]
     },
     "metadata": {},
     "output_type": "display_data"
    },
    {
     "data": {
      "text/html": [
       "<pre>+-----------+----------+-----------+--------------+-------------------+---------------------+</pre>"
      ],
      "text/plain": [
       "+-----------+----------+-----------+--------------+-------------------+---------------------+"
      ]
     },
     "metadata": {},
     "output_type": "display_data"
    },
    {
     "data": {
      "text/html": [
       "<pre>| 1         | 3        | 0.000019  | 0.069049     | 0.921052          | 0.906100            |</pre>"
      ],
      "text/plain": [
       "| 1         | 3        | 0.000019  | 0.069049     | 0.921052          | 0.906100            |"
      ]
     },
     "metadata": {},
     "output_type": "display_data"
    },
    {
     "data": {
      "text/html": [
       "<pre>| 2         | 5        | 1.000000  | 0.114082     | 0.934427          | 0.913639            |</pre>"
      ],
      "text/plain": [
       "| 2         | 5        | 1.000000  | 0.114082     | 0.934427          | 0.913639            |"
      ]
     },
     "metadata": {},
     "output_type": "display_data"
    },
    {
     "data": {
      "text/html": [
       "<pre>| 3         | 6        | 1.000000  | 0.145103     | 0.970524          | 0.921179            |</pre>"
      ],
      "text/plain": [
       "| 3         | 6        | 1.000000  | 0.145103     | 0.970524          | 0.921179            |"
      ]
     },
     "metadata": {},
     "output_type": "display_data"
    },
    {
     "data": {
      "text/html": [
       "<pre>| 4         | 7        | 1.000000  | 0.175625     | 0.953162          | 0.918095            |</pre>"
      ],
      "text/plain": [
       "| 4         | 7        | 1.000000  | 0.175625     | 0.953162          | 0.918095            |"
      ]
     },
     "metadata": {},
     "output_type": "display_data"
    },
    {
     "data": {
      "text/html": [
       "<pre>| 5         | 8        | 1.000000  | 0.205646     | 0.999889          | 0.918780            |</pre>"
      ],
      "text/plain": [
       "| 5         | 8        | 1.000000  | 0.205646     | 0.999889          | 0.918780            |"
      ]
     },
     "metadata": {},
     "output_type": "display_data"
    },
    {
     "data": {
      "text/html": [
       "<pre>| 6         | 9        | 1.000000  | 0.237668     | 0.999981          | 0.922550            |</pre>"
      ],
      "text/plain": [
       "| 6         | 9        | 1.000000  | 0.237668     | 0.999981          | 0.922550            |"
      ]
     },
     "metadata": {},
     "output_type": "display_data"
    },
    {
     "data": {
      "text/html": [
       "<pre>| 11        | 14       | 1.000000  | 0.399283     | 1.000000          | 0.924606            |</pre>"
      ],
      "text/plain": [
       "| 11        | 14       | 1.000000  | 0.399283     | 1.000000          | 0.924606            |"
      ]
     },
     "metadata": {},
     "output_type": "display_data"
    },
    {
     "data": {
      "text/html": [
       "<pre>| 50        | 70       | 1.000000  | 1.632654     | 1.000000          | 0.929061            |</pre>"
      ],
      "text/plain": [
       "| 50        | 70       | 1.000000  | 1.632654     | 1.000000          | 0.929061            |"
      ]
     },
     "metadata": {},
     "output_type": "display_data"
    },
    {
     "data": {
      "text/html": [
       "<pre>| 51        | 72       | 1.000000  | 1.677187     | 1.000000          | 0.929061            |</pre>"
      ],
      "text/plain": [
       "| 51        | 72       | 1.000000  | 1.677187     | 1.000000          | 0.929061            |"
      ]
     },
     "metadata": {},
     "output_type": "display_data"
    },
    {
     "data": {
      "text/html": [
       "<pre>+-----------+----------+-----------+--------------+-------------------+---------------------+</pre>"
      ],
      "text/plain": [
       "+-----------+----------+-----------+--------------+-------------------+---------------------+"
      ]
     },
     "metadata": {},
     "output_type": "display_data"
    },
    {
     "data": {
      "text/html": [
       "<pre>SUCCESS: Optimal solution found.</pre>"
      ],
      "text/plain": [
       "SUCCESS: Optimal solution found."
      ]
     },
     "metadata": {},
     "output_type": "display_data"
    },
    {
     "data": {
      "text/html": [
       "<pre></pre>"
      ],
      "text/plain": []
     },
     "metadata": {},
     "output_type": "display_data"
    },
    {
     "name": "stdout",
     "output_type": "stream",
     "text": [
      "PROGRESS: Creating a validation set from 5 percent of training data. This may take a while.\n",
      "          You can set ``validation_set=None`` to disable validation tracking.\n",
      "\n"
     ]
    },
    {
     "data": {
      "text/html": [
       "<pre>WARNING: The number of feature dimensions in this problem is very large in comparison with the number of examples. Unless an appropriate regularization value is set, this model may not provide accurate predictions for a validation/test set.</pre>"
      ],
      "text/plain": [
       "WARNING: The number of feature dimensions in this problem is very large in comparison with the number of examples. Unless an appropriate regularization value is set, this model may not provide accurate predictions for a validation/test set."
      ]
     },
     "metadata": {},
     "output_type": "display_data"
    },
    {
     "data": {
      "text/html": [
       "<pre>Logistic regression:</pre>"
      ],
      "text/plain": [
       "Logistic regression:"
      ]
     },
     "metadata": {},
     "output_type": "display_data"
    },
    {
     "data": {
      "text/html": [
       "<pre>--------------------------------------------------------</pre>"
      ],
      "text/plain": [
       "--------------------------------------------------------"
      ]
     },
     "metadata": {},
     "output_type": "display_data"
    },
    {
     "data": {
      "text/html": [
       "<pre>Number of examples          : 54024</pre>"
      ],
      "text/plain": [
       "Number of examples          : 54024"
      ]
     },
     "metadata": {},
     "output_type": "display_data"
    },
    {
     "data": {
      "text/html": [
       "<pre>Number of classes           : 2</pre>"
      ],
      "text/plain": [
       "Number of classes           : 2"
      ]
     },
     "metadata": {},
     "output_type": "display_data"
    },
    {
     "data": {
      "text/html": [
       "<pre>Number of feature columns   : 9</pre>"
      ],
      "text/plain": [
       "Number of feature columns   : 9"
      ]
     },
     "metadata": {},
     "output_type": "display_data"
    },
    {
     "data": {
      "text/html": [
       "<pre>Number of unpacked features : 9</pre>"
      ],
      "text/plain": [
       "Number of unpacked features : 9"
      ]
     },
     "metadata": {},
     "output_type": "display_data"
    },
    {
     "data": {
      "text/html": [
       "<pre>Number of coefficients    : 80737</pre>"
      ],
      "text/plain": [
       "Number of coefficients    : 80737"
      ]
     },
     "metadata": {},
     "output_type": "display_data"
    },
    {
     "data": {
      "text/html": [
       "<pre>Starting L-BFGS</pre>"
      ],
      "text/plain": [
       "Starting L-BFGS"
      ]
     },
     "metadata": {},
     "output_type": "display_data"
    },
    {
     "data": {
      "text/html": [
       "<pre>--------------------------------------------------------</pre>"
      ],
      "text/plain": [
       "--------------------------------------------------------"
      ]
     },
     "metadata": {},
     "output_type": "display_data"
    },
    {
     "data": {
      "text/html": [
       "<pre>+-----------+----------+-----------+--------------+-------------------+---------------------+</pre>"
      ],
      "text/plain": [
       "+-----------+----------+-----------+--------------+-------------------+---------------------+"
      ]
     },
     "metadata": {},
     "output_type": "display_data"
    },
    {
     "data": {
      "text/html": [
       "<pre>| Iteration | Passes   | Step size | Elapsed Time | Training-accuracy | Validation-accuracy |</pre>"
      ],
      "text/plain": [
       "| Iteration | Passes   | Step size | Elapsed Time | Training-accuracy | Validation-accuracy |"
      ]
     },
     "metadata": {},
     "output_type": "display_data"
    },
    {
     "data": {
      "text/html": [
       "<pre>+-----------+----------+-----------+--------------+-------------------+---------------------+</pre>"
      ],
      "text/plain": [
       "+-----------+----------+-----------+--------------+-------------------+---------------------+"
      ]
     },
     "metadata": {},
     "output_type": "display_data"
    },
    {
     "data": {
      "text/html": [
       "<pre>| 1         | 3        | 0.000019  | 0.060543     | 0.920276          | 0.914734            |</pre>"
      ],
      "text/plain": [
       "| 1         | 3        | 0.000019  | 0.060543     | 0.920276          | 0.914734            |"
      ]
     },
     "metadata": {},
     "output_type": "display_data"
    },
    {
     "data": {
      "text/html": [
       "<pre>| 2         | 5        | 1.000000  | 0.097070     | 0.933437          | 0.925794            |</pre>"
      ],
      "text/plain": [
       "| 2         | 5        | 1.000000  | 0.097070     | 0.933437          | 0.925794            |"
      ]
     },
     "metadata": {},
     "output_type": "display_data"
    },
    {
     "data": {
      "text/html": [
       "<pre>| 3         | 6        | 1.000000  | 0.120086     | 0.969791          | 0.931502            |</pre>"
      ],
      "text/plain": [
       "| 3         | 6        | 1.000000  | 0.120086     | 0.969791          | 0.931502            |"
      ]
     },
     "metadata": {},
     "output_type": "display_data"
    },
    {
     "data": {
      "text/html": [
       "<pre>| 4         | 7        | 1.000000  | 0.144102     | 0.951133          | 0.931145            |</pre>"
      ],
      "text/plain": [
       "| 4         | 7        | 1.000000  | 0.144102     | 0.951133          | 0.931145            |"
      ]
     },
     "metadata": {},
     "output_type": "display_data"
    },
    {
     "data": {
      "text/html": [
       "<pre>| 5         | 8        | 1.000000  | 0.167119     | 0.999778          | 0.932929            |</pre>"
      ],
      "text/plain": [
       "| 5         | 8        | 1.000000  | 0.167119     | 0.999778          | 0.932929            |"
      ]
     },
     "metadata": {},
     "output_type": "display_data"
    },
    {
     "data": {
      "text/html": [
       "<pre>| 6         | 9        | 1.000000  | 0.192636     | 0.999907          | 0.934356            |</pre>"
      ],
      "text/plain": [
       "| 6         | 9        | 1.000000  | 0.192636     | 0.999907          | 0.934356            |"
      ]
     },
     "metadata": {},
     "output_type": "display_data"
    },
    {
     "data": {
      "text/html": [
       "<pre>| 11        | 14       | 1.000000  | 0.314575     | 1.000000          | 0.934356            |</pre>"
      ],
      "text/plain": [
       "| 11        | 14       | 1.000000  | 0.314575     | 1.000000          | 0.934356            |"
      ]
     },
     "metadata": {},
     "output_type": "display_data"
    },
    {
     "data": {
      "text/html": [
       "<pre>+-----------+----------+-----------+--------------+-------------------+---------------------+</pre>"
      ],
      "text/plain": [
       "+-----------+----------+-----------+--------------+-------------------+---------------------+"
      ]
     },
     "metadata": {},
     "output_type": "display_data"
    },
    {
     "data": {
      "text/html": [
       "<pre>SUCCESS: Optimal solution found.</pre>"
      ],
      "text/plain": [
       "SUCCESS: Optimal solution found."
      ]
     },
     "metadata": {},
     "output_type": "display_data"
    },
    {
     "data": {
      "text/html": [
       "<pre></pre>"
      ],
      "text/plain": []
     },
     "metadata": {},
     "output_type": "display_data"
    }
   ],
   "source": [
    "#Training our classification Model and Fetaure Engineering\n",
    "featureset1 = ['1gram features']\n",
    "featureset2 = ['1gram features','2gram features']\n",
    "featureset3 = ['1gram features','2gram features','3gram features']\n",
    "featureset4 = ['1gram features','2gram features','3gram features','city']\n",
    "featureset5 = ['1gram features','2gram features','3gram features','city','job_tfidf']\n",
    "featureset6 = ['1gram features','2gram features','3gram features','city','job_tfidf','location']\n",
    "featureset7 = ['1gram features','2gram features','3gram features','city','job_tfidf','location','company_name']\n",
    "featureset8 = ['1gram features','2gram features','3gram features','city','job_tfidf','location','company_name','AvgFTVector']\n",
    "featureset9 = ['1gram features','2gram features','3gram features','city','job_tfidf','location','company_name','AvgFTVector','job_title']\n",
    "featureset10 = ['1gram features','2gram features','3gram features','city','job_tfidf','location','company_name','AvgFTVector','job_title','D2Vector']\n",
    "featureset11 = ['1gram features','2gram features','3gram features','city','location','company_name','AvgFTVector','job_title','D2Vector']\n",
    "\n",
    "featureset12 = ['1gram features','2gram features','3gram features','city','location','company_name','job_tfidf','AvgFTVector','job_title']\n",
    "featureset13 = ['1gram features','2gram features','3gram features','city','location','company_name','job_tfidf','D2Vector','job_title']\n",
    "\n",
    "model_65_90_FeatureSet11_l2_10 = graphlab.logistic_classifier.create(indeed65k_90k_dssf_train, target='IndeedSalaryEstimate', features=featureset11,max_iterations=1000,class_weights = 'auto',\n",
    "                                                          l2_penalty=10)\n",
    "model_65_90_FeatureSet11_l2_100 = graphlab.logistic_classifier.create(indeed65k_90k_dssf_train, target='IndeedSalaryEstimate', features=featureset11,max_iterations=1000,class_weights = 'auto',\n",
    "                                                          l2_penalty=100)"
   ]
  },
  {
   "cell_type": "code",
   "execution_count": 229,
   "metadata": {
    "collapsed": false
   },
   "outputs": [
    {
     "name": "stdout",
     "output_type": "stream",
     "text": [
      "fscore\n",
      "0.736842105263\n",
      "testacc\n",
      "0.939024390244\n",
      "precision\n",
      "0.7\n",
      "recall\n",
      "0.777777777778\n"
     ]
    }
   ],
   "source": [
    "#Fscore, Accuracy, Precision, Recall when L2_Penalty = 10 and Featureset 11 was used.\n",
    "indeed65k_90k_dssf_test['predictions'] = model_65_90_FeatureSet11_l2_10.predict(indeed65k_90k_dssf_test)\n",
    "\n",
    "finaltestfscore = graphlab.evaluation.f1_score(indeed65k_90k_dssf_test['IndeedSalaryEstimate'], indeed65k_90k_dssf_test['predictions'],average = 'macro')\n",
    "finaltestaccuracy = graphlab.evaluation.accuracy(indeed65k_90k_dssf_test['IndeedSalaryEstimate'], indeed65k_90k_dssf_test['predictions'],average = 'macro')\n",
    "finaltestprecision = graphlab.evaluation.precision(indeed65k_90k_dssf_test['IndeedSalaryEstimate'], indeed65k_90k_dssf_test['predictions'],average = 'macro')\n",
    "finaltestrecall = graphlab.evaluation.recall(indeed65k_90k_dssf_test['IndeedSalaryEstimate'], indeed65k_90k_dssf_test['predictions'],average = 'macro')\n",
    "\n",
    "print \"fscore\"\n",
    "print finaltestfscore\n",
    "print \"testacc\"\n",
    "print finaltestaccuracy\n",
    "\n",
    "print \"precision\"\n",
    "print finaltestprecision\n",
    "\n",
    "print \"recall\"\n",
    "print finaltestrecall"
   ]
  },
  {
   "cell_type": "code",
   "execution_count": 228,
   "metadata": {
    "collapsed": false
   },
   "outputs": [
    {
     "name": "stdout",
     "output_type": "stream",
     "text": [
      "fscore\n",
      "0.725925925926\n",
      "testacc\n",
      "0.935540069686\n",
      "precision\n",
      "0.680555555556\n",
      "recall\n",
      "0.777777777778\n"
     ]
    }
   ],
   "source": [
    "#Fscore, Accuracy, Precision, Recall when L2_Penalty = 100 and Featureset 11 was used.\n",
    "indeed65k_90k_dssf_test['predictions'] = model_65_90_FeatureSet11_l2_100.predict(indeed65k_90k_dssf_test)\n",
    "\n",
    "finaltestfscore = graphlab.evaluation.f1_score(indeed65k_90k_dssf_test['IndeedSalaryEstimate'], indeed65k_90k_dssf_test['predictions'],average = 'macro')\n",
    "finaltestaccuracy = graphlab.evaluation.accuracy(indeed65k_90k_dssf_test['IndeedSalaryEstimate'], indeed65k_90k_dssf_test['predictions'],average = 'macro')\n",
    "finaltestprecision = graphlab.evaluation.precision(indeed65k_90k_dssf_test['IndeedSalaryEstimate'], indeed65k_90k_dssf_test['predictions'],average = 'macro')\n",
    "finaltestrecall = graphlab.evaluation.recall(indeed65k_90k_dssf_test['IndeedSalaryEstimate'], indeed65k_90k_dssf_test['predictions'],average = 'macro')\n",
    "\n",
    "print \"fscore\"\n",
    "print finaltestfscore\n",
    "print \"testacc\"\n",
    "print finaltestaccuracy\n",
    "\n",
    "print \"precision\"\n",
    "print finaltestprecision\n",
    "\n",
    "print \"recall\"\n",
    "print finaltestrecall"
   ]
  },
  {
   "cell_type": "code",
   "execution_count": 130,
   "metadata": {
    "collapsed": false
   },
   "outputs": [
    {
     "name": "stdout",
     "output_type": "stream",
     "text": [
      "PROGRESS: Creating a validation set from 5 percent of training data. This may take a while.\n",
      "          You can set ``validation_set=None`` to disable validation tracking.\n",
      "\n"
     ]
    },
    {
     "data": {
      "text/html": [
       "<pre>Logistic regression:</pre>"
      ],
      "text/plain": [
       "Logistic regression:"
      ]
     },
     "metadata": {},
     "output_type": "display_data"
    },
    {
     "data": {
      "text/html": [
       "<pre>--------------------------------------------------------</pre>"
      ],
      "text/plain": [
       "--------------------------------------------------------"
      ]
     },
     "metadata": {},
     "output_type": "display_data"
    },
    {
     "data": {
      "text/html": [
       "<pre>Number of examples          : 53995</pre>"
      ],
      "text/plain": [
       "Number of examples          : 53995"
      ]
     },
     "metadata": {},
     "output_type": "display_data"
    },
    {
     "data": {
      "text/html": [
       "<pre>Number of classes           : 2</pre>"
      ],
      "text/plain": [
       "Number of classes           : 2"
      ]
     },
     "metadata": {},
     "output_type": "display_data"
    },
    {
     "data": {
      "text/html": [
       "<pre>Number of feature columns   : 9</pre>"
      ],
      "text/plain": [
       "Number of feature columns   : 9"
      ]
     },
     "metadata": {},
     "output_type": "display_data"
    },
    {
     "data": {
      "text/html": [
       "<pre>Number of unpacked features : 9</pre>"
      ],
      "text/plain": [
       "Number of unpacked features : 9"
      ]
     },
     "metadata": {},
     "output_type": "display_data"
    },
    {
     "data": {
      "text/html": [
       "<pre>Number of coefficients    : 31336</pre>"
      ],
      "text/plain": [
       "Number of coefficients    : 31336"
      ]
     },
     "metadata": {},
     "output_type": "display_data"
    },
    {
     "data": {
      "text/html": [
       "<pre>Starting L-BFGS</pre>"
      ],
      "text/plain": [
       "Starting L-BFGS"
      ]
     },
     "metadata": {},
     "output_type": "display_data"
    },
    {
     "data": {
      "text/html": [
       "<pre>--------------------------------------------------------</pre>"
      ],
      "text/plain": [
       "--------------------------------------------------------"
      ]
     },
     "metadata": {},
     "output_type": "display_data"
    },
    {
     "data": {
      "text/html": [
       "<pre>+-----------+----------+-----------+--------------+-------------------+---------------------+</pre>"
      ],
      "text/plain": [
       "+-----------+----------+-----------+--------------+-------------------+---------------------+"
      ]
     },
     "metadata": {},
     "output_type": "display_data"
    },
    {
     "data": {
      "text/html": [
       "<pre>| Iteration | Passes   | Step size | Elapsed Time | Training-accuracy | Validation-accuracy |</pre>"
      ],
      "text/plain": [
       "| Iteration | Passes   | Step size | Elapsed Time | Training-accuracy | Validation-accuracy |"
      ]
     },
     "metadata": {},
     "output_type": "display_data"
    },
    {
     "data": {
      "text/html": [
       "<pre>+-----------+----------+-----------+--------------+-------------------+---------------------+</pre>"
      ],
      "text/plain": [
       "+-----------+----------+-----------+--------------+-------------------+---------------------+"
      ]
     },
     "metadata": {},
     "output_type": "display_data"
    },
    {
     "data": {
      "text/html": [
       "<pre>| 1         | 3        | 0.000019  | 0.055012     | 0.899083          | 0.899718            |</pre>"
      ],
      "text/plain": [
       "| 1         | 3        | 0.000019  | 0.055012     | 0.899083          | 0.899718            |"
      ]
     },
     "metadata": {},
     "output_type": "display_data"
    },
    {
     "data": {
      "text/html": [
       "<pre>| 2         | 5        | 1.000000  | 0.091015     | 0.933253          | 0.927260            |</pre>"
      ],
      "text/plain": [
       "| 2         | 5        | 1.000000  | 0.091015     | 0.933253          | 0.927260            |"
      ]
     },
     "metadata": {},
     "output_type": "display_data"
    },
    {
     "data": {
      "text/html": [
       "<pre>| 3         | 6        | 1.000000  | 0.131018     | 0.969979          | 0.956215            |</pre>"
      ],
      "text/plain": [
       "| 3         | 6        | 1.000000  | 0.131018     | 0.969979          | 0.956215            |"
      ]
     },
     "metadata": {},
     "output_type": "display_data"
    },
    {
     "data": {
      "text/html": [
       "<pre>| 4         | 7        | 1.000000  | 0.156360     | 0.948606          | 0.939266            |</pre>"
      ],
      "text/plain": [
       "| 4         | 7        | 1.000000  | 0.156360     | 0.948606          | 0.939266            |"
      ]
     },
     "metadata": {},
     "output_type": "display_data"
    },
    {
     "data": {
      "text/html": [
       "<pre>| 5         | 8        | 1.000000  | 0.192209     | 0.991036          | 0.972458            |</pre>"
      ],
      "text/plain": [
       "| 5         | 8        | 1.000000  | 0.192209     | 0.991036          | 0.972458            |"
      ]
     },
     "metadata": {},
     "output_type": "display_data"
    },
    {
     "data": {
      "text/html": [
       "<pre>| 6         | 9        | 1.000000  | 0.262569     | 0.999944          | 0.980226            |</pre>"
      ],
      "text/plain": [
       "| 6         | 9        | 1.000000  | 0.262569     | 0.999944          | 0.980226            |"
      ]
     },
     "metadata": {},
     "output_type": "display_data"
    },
    {
     "data": {
      "text/html": [
       "<pre>| 11        | 14       | 1.000000  | 0.390192     | 1.000000          | 0.982345            |</pre>"
      ],
      "text/plain": [
       "| 11        | 14       | 1.000000  | 0.390192     | 1.000000          | 0.982345            |"
      ]
     },
     "metadata": {},
     "output_type": "display_data"
    },
    {
     "data": {
      "text/html": [
       "<pre>| 25        | 33       | 1.000000  | 0.724493     | 1.000000          | 0.985169            |</pre>"
      ],
      "text/plain": [
       "| 25        | 33       | 1.000000  | 0.724493     | 1.000000          | 0.985169            |"
      ]
     },
     "metadata": {},
     "output_type": "display_data"
    },
    {
     "data": {
      "text/html": [
       "<pre>| 50        | 65       | 1.000000  | 1.264380     | 1.000000          | 0.984110            |</pre>"
      ],
      "text/plain": [
       "| 50        | 65       | 1.000000  | 1.264380     | 1.000000          | 0.984110            |"
      ]
     },
     "metadata": {},
     "output_type": "display_data"
    },
    {
     "data": {
      "text/html": [
       "<pre>| 51        | 66       | 1.000000  | 1.287276     | 1.000000          | 0.984110            |</pre>"
      ],
      "text/plain": [
       "| 51        | 66       | 1.000000  | 1.287276     | 1.000000          | 0.984110            |"
      ]
     },
     "metadata": {},
     "output_type": "display_data"
    },
    {
     "data": {
      "text/html": [
       "<pre>+-----------+----------+-----------+--------------+-------------------+---------------------+</pre>"
      ],
      "text/plain": [
       "+-----------+----------+-----------+--------------+-------------------+---------------------+"
      ]
     },
     "metadata": {},
     "output_type": "display_data"
    },
    {
     "data": {
      "text/html": [
       "<pre>SUCCESS: Optimal solution found.</pre>"
      ],
      "text/plain": [
       "SUCCESS: Optimal solution found."
      ]
     },
     "metadata": {},
     "output_type": "display_data"
    },
    {
     "data": {
      "text/html": [
       "<pre></pre>"
      ],
      "text/plain": []
     },
     "metadata": {},
     "output_type": "display_data"
    },
    {
     "name": "stdout",
     "output_type": "stream",
     "text": [
      "PROGRESS: Creating a validation set from 5 percent of training data. This may take a while.\n",
      "          You can set ``validation_set=None`` to disable validation tracking.\n",
      "\n"
     ]
    },
    {
     "data": {
      "text/html": [
       "<pre>Logistic regression:</pre>"
      ],
      "text/plain": [
       "Logistic regression:"
      ]
     },
     "metadata": {},
     "output_type": "display_data"
    },
    {
     "data": {
      "text/html": [
       "<pre>--------------------------------------------------------</pre>"
      ],
      "text/plain": [
       "--------------------------------------------------------"
      ]
     },
     "metadata": {},
     "output_type": "display_data"
    },
    {
     "data": {
      "text/html": [
       "<pre>Number of examples          : 54006</pre>"
      ],
      "text/plain": [
       "Number of examples          : 54006"
      ]
     },
     "metadata": {},
     "output_type": "display_data"
    },
    {
     "data": {
      "text/html": [
       "<pre>Number of classes           : 2</pre>"
      ],
      "text/plain": [
       "Number of classes           : 2"
      ]
     },
     "metadata": {},
     "output_type": "display_data"
    },
    {
     "data": {
      "text/html": [
       "<pre>Number of feature columns   : 9</pre>"
      ],
      "text/plain": [
       "Number of feature columns   : 9"
      ]
     },
     "metadata": {},
     "output_type": "display_data"
    },
    {
     "data": {
      "text/html": [
       "<pre>Number of unpacked features : 9</pre>"
      ],
      "text/plain": [
       "Number of unpacked features : 9"
      ]
     },
     "metadata": {},
     "output_type": "display_data"
    },
    {
     "data": {
      "text/html": [
       "<pre>Number of coefficients    : 31498</pre>"
      ],
      "text/plain": [
       "Number of coefficients    : 31498"
      ]
     },
     "metadata": {},
     "output_type": "display_data"
    },
    {
     "data": {
      "text/html": [
       "<pre>Starting L-BFGS</pre>"
      ],
      "text/plain": [
       "Starting L-BFGS"
      ]
     },
     "metadata": {},
     "output_type": "display_data"
    },
    {
     "data": {
      "text/html": [
       "<pre>--------------------------------------------------------</pre>"
      ],
      "text/plain": [
       "--------------------------------------------------------"
      ]
     },
     "metadata": {},
     "output_type": "display_data"
    },
    {
     "data": {
      "text/html": [
       "<pre>+-----------+----------+-----------+--------------+-------------------+---------------------+</pre>"
      ],
      "text/plain": [
       "+-----------+----------+-----------+--------------+-------------------+---------------------+"
      ]
     },
     "metadata": {},
     "output_type": "display_data"
    },
    {
     "data": {
      "text/html": [
       "<pre>| Iteration | Passes   | Step size | Elapsed Time | Training-accuracy | Validation-accuracy |</pre>"
      ],
      "text/plain": [
       "| Iteration | Passes   | Step size | Elapsed Time | Training-accuracy | Validation-accuracy |"
      ]
     },
     "metadata": {},
     "output_type": "display_data"
    },
    {
     "data": {
      "text/html": [
       "<pre>+-----------+----------+-----------+--------------+-------------------+---------------------+</pre>"
      ],
      "text/plain": [
       "+-----------+----------+-----------+--------------+-------------------+---------------------+"
      ]
     },
     "metadata": {},
     "output_type": "display_data"
    },
    {
     "data": {
      "text/html": [
       "<pre>| 1         | 3        | 0.000019  | 0.045371     | 0.899770          | 0.898263            |</pre>"
      ],
      "text/plain": [
       "| 1         | 3        | 0.000019  | 0.045371     | 0.899770          | 0.898263            |"
      ]
     },
     "metadata": {},
     "output_type": "display_data"
    },
    {
     "data": {
      "text/html": [
       "<pre>| 2         | 5        | 1.000000  | 0.081367     | 0.932841          | 0.926976            |</pre>"
      ],
      "text/plain": [
       "| 2         | 5        | 1.000000  | 0.081367     | 0.932841          | 0.926976            |"
      ]
     },
     "metadata": {},
     "output_type": "display_data"
    },
    {
     "data": {
      "text/html": [
       "<pre>| 3         | 6        | 1.000000  | 0.129372     | 0.966263          | 0.949309            |</pre>"
      ],
      "text/plain": [
       "| 3         | 6        | 1.000000  | 0.129372     | 0.966263          | 0.949309            |"
      ]
     },
     "metadata": {},
     "output_type": "display_data"
    },
    {
     "data": {
      "text/html": [
       "<pre>| 4         | 7        | 1.000000  | 0.158159     | 0.946673          | 0.935838            |</pre>"
      ],
      "text/plain": [
       "| 4         | 7        | 1.000000  | 0.158159     | 0.946673          | 0.935838            |"
      ]
     },
     "metadata": {},
     "output_type": "display_data"
    },
    {
     "data": {
      "text/html": [
       "<pre>| 5         | 8        | 1.000000  | 0.182162     | 0.986316          | 0.969514            |</pre>"
      ],
      "text/plain": [
       "| 5         | 8        | 1.000000  | 0.182162     | 0.986316          | 0.969514            |"
      ]
     },
     "metadata": {},
     "output_type": "display_data"
    },
    {
     "data": {
      "text/html": [
       "<pre>| 6         | 9        | 1.000000  | 0.237610     | 0.999778          | 0.978731            |</pre>"
      ],
      "text/plain": [
       "| 6         | 9        | 1.000000  | 0.237610     | 0.999778          | 0.978731            |"
      ]
     },
     "metadata": {},
     "output_type": "display_data"
    },
    {
     "data": {
      "text/html": [
       "<pre>| 11        | 15       | 1.000000  | 0.411777     | 1.000000          | 0.982985            |</pre>"
      ],
      "text/plain": [
       "| 11        | 15       | 1.000000  | 0.411777     | 1.000000          | 0.982985            |"
      ]
     },
     "metadata": {},
     "output_type": "display_data"
    },
    {
     "data": {
      "text/html": [
       "<pre>| 25        | 35       | 1.000000  | 0.735742     | 1.000000          | 0.981921            |</pre>"
      ],
      "text/plain": [
       "| 25        | 35       | 1.000000  | 0.735742     | 1.000000          | 0.981921            |"
      ]
     },
     "metadata": {},
     "output_type": "display_data"
    },
    {
     "data": {
      "text/html": [
       "<pre>+-----------+----------+-----------+--------------+-------------------+---------------------+</pre>"
      ],
      "text/plain": [
       "+-----------+----------+-----------+--------------+-------------------+---------------------+"
      ]
     },
     "metadata": {},
     "output_type": "display_data"
    },
    {
     "data": {
      "text/html": [
       "<pre>SUCCESS: Optimal solution found.</pre>"
      ],
      "text/plain": [
       "SUCCESS: Optimal solution found."
      ]
     },
     "metadata": {},
     "output_type": "display_data"
    },
    {
     "data": {
      "text/html": [
       "<pre></pre>"
      ],
      "text/plain": []
     },
     "metadata": {},
     "output_type": "display_data"
    }
   ],
   "source": [
    "#Training our classification Model and Fetaure Engineering\n",
    "featureset1 = ['1gram features']\n",
    "featureset2 = ['1gram features','2gram features']\n",
    "featureset3 = ['1gram features','2gram features','3gram features']\n",
    "featureset4 = ['1gram features','2gram features','3gram features','city']\n",
    "featureset5 = ['1gram features','2gram features','3gram features','city','job_tfidf']\n",
    "featureset6 = ['1gram features','2gram features','3gram features','city','job_tfidf','location']\n",
    "featureset7 = ['1gram features','2gram features','3gram features','city','job_tfidf','location','company_name']\n",
    "featureset8 = ['1gram features','2gram features','3gram features','city','job_tfidf','location','company_name','AvgFTVector']\n",
    "featureset9 = ['1gram features','2gram features','3gram features','city','job_tfidf','location','company_name','AvgFTVector','job_title']\n",
    "featureset10 = ['1gram features','2gram features','3gram features','city','job_tfidf','location','company_name','AvgFTVector','job_title','D2Vector']\n",
    "featureset11 = ['1gram features','2gram features','3gram features','city','location','company_name','AvgFTVector','job_title','D2Vector']\n",
    "\n",
    "featureset12 = ['1gram features','2gram features','3gram features','city','location','company_name','job_tfidf','AvgFTVector','job_title']\n",
    "featureset13 = ['1gram features','2gram features','3gram features','city','location','company_name','job_tfidf','D2Vector','job_title']\n",
    "model_65_90_FeatureSet12_l2_10 = graphlab.logistic_classifier.create(indeed65k_90k_dssf_train, target='IndeedSalaryEstimate', features=featureset12,max_iterations=1000,class_weights = 'auto',\n",
    "                                                          l2_penalty=10)\n",
    "model_65_90_FeatureSet12_l2_100 = graphlab.logistic_classifier.create(indeed65k_90k_dssf_train, target='IndeedSalaryEstimate', features=featureset12,max_iterations=1000,class_weights = 'auto',\n",
    "                                                          l2_penalty=100)"
   ]
  },
  {
   "cell_type": "code",
   "execution_count": 131,
   "metadata": {
    "collapsed": false
   },
   "outputs": [
    {
     "name": "stdout",
     "output_type": "stream",
     "text": [
      "fscore\n",
      "0.934426229508\n",
      "testacc\n",
      "0.98606271777\n",
      "precision\n",
      "0.966101694915\n",
      "recall\n",
      "0.904761904762\n"
     ]
    }
   ],
   "source": [
    "#Fscore, Accuracy, Precision, Recall when L2_Penalty = 10 and Featureset 12 was used.\n",
    "indeed65k_90k_dssf_test['predictions'] = model_65_90_FeatureSet12_l2_10.predict(indeed65k_90k_dssf_test)\n",
    "\n",
    "finaltestfscore = graphlab.evaluation.f1_score(indeed65k_90k_dssf_test['IndeedSalaryEstimate'], indeed65k_90k_dssf_test['predictions'],average = 'macro')\n",
    "finaltestaccuracy = graphlab.evaluation.accuracy(indeed65k_90k_dssf_test['IndeedSalaryEstimate'], indeed65k_90k_dssf_test['predictions'],average = 'macro')\n",
    "finaltestprecision = graphlab.evaluation.precision(indeed65k_90k_dssf_test['IndeedSalaryEstimate'], indeed65k_90k_dssf_test['predictions'],average = 'macro')\n",
    "finaltestrecall = graphlab.evaluation.recall(indeed65k_90k_dssf_test['IndeedSalaryEstimate'], indeed65k_90k_dssf_test['predictions'],average = 'macro')\n",
    "\n",
    "print \"fscore\"\n",
    "print finaltestfscore\n",
    "print \"testacc\"\n",
    "print finaltestaccuracy\n",
    "\n",
    "print \"precision\"\n",
    "print finaltestprecision\n",
    "\n",
    "print \"recall\"\n",
    "print finaltestrecall"
   ]
  },
  {
   "cell_type": "code",
   "execution_count": 132,
   "metadata": {
    "collapsed": false
   },
   "outputs": [
    {
     "name": "stdout",
     "output_type": "stream",
     "text": [
      "fscore\n",
      "0.934426229508\n",
      "testacc\n",
      "0.98606271777\n",
      "precision\n",
      "0.966101694915\n",
      "recall\n",
      "0.904761904762\n"
     ]
    }
   ],
   "source": [
    "#Fscore, Accuracy, Precision, Recall when L2_Penalty = 100 and Featureset 12 was used.\n",
    "indeed65k_90k_dssf_test['predictions'] = model_65_90_FeatureSet12_l2_100.predict(indeed65k_90k_dssf_test)\n",
    "\n",
    "finaltestfscore = graphlab.evaluation.f1_score(indeed65k_90k_dssf_test['IndeedSalaryEstimate'], indeed65k_90k_dssf_test['predictions'],average = 'macro')\n",
    "finaltestaccuracy = graphlab.evaluation.accuracy(indeed65k_90k_dssf_test['IndeedSalaryEstimate'], indeed65k_90k_dssf_test['predictions'],average = 'macro')\n",
    "finaltestprecision = graphlab.evaluation.precision(indeed65k_90k_dssf_test['IndeedSalaryEstimate'], indeed65k_90k_dssf_test['predictions'],average = 'macro')\n",
    "finaltestrecall = graphlab.evaluation.recall(indeed65k_90k_dssf_test['IndeedSalaryEstimate'], indeed65k_90k_dssf_test['predictions'],average = 'macro')\n",
    "\n",
    "print \"fscore\"\n",
    "print finaltestfscore\n",
    "print \"testacc\"\n",
    "print finaltestaccuracy\n",
    "\n",
    "print \"precision\"\n",
    "print finaltestprecision\n",
    "\n",
    "print \"recall\"\n",
    "print finaltestrecall"
   ]
  },
  {
   "cell_type": "code",
   "execution_count": 139,
   "metadata": {
    "collapsed": false
   },
   "outputs": [
    {
     "name": "stdout",
     "output_type": "stream",
     "text": [
      "PROGRESS: Creating a validation set from 5 percent of training data. This may take a while.\n",
      "          You can set ``validation_set=None`` to disable validation tracking.\n",
      "\n"
     ]
    },
    {
     "data": {
      "text/html": [
       "<pre>WARNING: The number of feature dimensions in this problem is very large in comparison with the number of examples. Unless an appropriate regularization value is set, this model may not provide accurate predictions for a validation/test set.</pre>"
      ],
      "text/plain": [
       "WARNING: The number of feature dimensions in this problem is very large in comparison with the number of examples. Unless an appropriate regularization value is set, this model may not provide accurate predictions for a validation/test set."
      ]
     },
     "metadata": {},
     "output_type": "display_data"
    },
    {
     "data": {
      "text/html": [
       "<pre>Logistic regression:</pre>"
      ],
      "text/plain": [
       "Logistic regression:"
      ]
     },
     "metadata": {},
     "output_type": "display_data"
    },
    {
     "data": {
      "text/html": [
       "<pre>--------------------------------------------------------</pre>"
      ],
      "text/plain": [
       "--------------------------------------------------------"
      ]
     },
     "metadata": {},
     "output_type": "display_data"
    },
    {
     "data": {
      "text/html": [
       "<pre>Number of examples          : 54030</pre>"
      ],
      "text/plain": [
       "Number of examples          : 54030"
      ]
     },
     "metadata": {},
     "output_type": "display_data"
    },
    {
     "data": {
      "text/html": [
       "<pre>Number of classes           : 2</pre>"
      ],
      "text/plain": [
       "Number of classes           : 2"
      ]
     },
     "metadata": {},
     "output_type": "display_data"
    },
    {
     "data": {
      "text/html": [
       "<pre>Number of feature columns   : 9</pre>"
      ],
      "text/plain": [
       "Number of feature columns   : 9"
      ]
     },
     "metadata": {},
     "output_type": "display_data"
    },
    {
     "data": {
      "text/html": [
       "<pre>Number of unpacked features : 9</pre>"
      ],
      "text/plain": [
       "Number of unpacked features : 9"
      ]
     },
     "metadata": {},
     "output_type": "display_data"
    },
    {
     "data": {
      "text/html": [
       "<pre>Number of coefficients    : 80650</pre>"
      ],
      "text/plain": [
       "Number of coefficients    : 80650"
      ]
     },
     "metadata": {},
     "output_type": "display_data"
    },
    {
     "data": {
      "text/html": [
       "<pre>Starting L-BFGS</pre>"
      ],
      "text/plain": [
       "Starting L-BFGS"
      ]
     },
     "metadata": {},
     "output_type": "display_data"
    },
    {
     "data": {
      "text/html": [
       "<pre>--------------------------------------------------------</pre>"
      ],
      "text/plain": [
       "--------------------------------------------------------"
      ]
     },
     "metadata": {},
     "output_type": "display_data"
    },
    {
     "data": {
      "text/html": [
       "<pre>+-----------+----------+-----------+--------------+-------------------+---------------------+</pre>"
      ],
      "text/plain": [
       "+-----------+----------+-----------+--------------+-------------------+---------------------+"
      ]
     },
     "metadata": {},
     "output_type": "display_data"
    },
    {
     "data": {
      "text/html": [
       "<pre>| Iteration | Passes   | Step size | Elapsed Time | Training-accuracy | Validation-accuracy |</pre>"
      ],
      "text/plain": [
       "| Iteration | Passes   | Step size | Elapsed Time | Training-accuracy | Validation-accuracy |"
      ]
     },
     "metadata": {},
     "output_type": "display_data"
    },
    {
     "data": {
      "text/html": [
       "<pre>+-----------+----------+-----------+--------------+-------------------+---------------------+</pre>"
      ],
      "text/plain": [
       "+-----------+----------+-----------+--------------+-------------------+---------------------+"
      ]
     },
     "metadata": {},
     "output_type": "display_data"
    },
    {
     "data": {
      "text/html": [
       "<pre>| 1         | 3        | 0.000019  | 0.068533     | 0.900093          | 0.896317            |</pre>"
      ],
      "text/plain": [
       "| 1         | 3        | 0.000019  | 0.068533     | 0.900093          | 0.896317            |"
      ]
     },
     "metadata": {},
     "output_type": "display_data"
    },
    {
     "data": {
      "text/html": [
       "<pre>| 2         | 5        | 1.000000  | 0.117350     | 0.935388          | 0.925992            |</pre>"
      ],
      "text/plain": [
       "| 2         | 5        | 1.000000  | 0.117350     | 0.935388          | 0.925992            |"
      ]
     },
     "metadata": {},
     "output_type": "display_data"
    },
    {
     "data": {
      "text/html": [
       "<pre>| 3         | 6        | 1.000000  | 0.153358     | 0.999389          | 0.965320            |</pre>"
      ],
      "text/plain": [
       "| 3         | 6        | 1.000000  | 0.153358     | 0.999389          | 0.965320            |"
      ]
     },
     "metadata": {},
     "output_type": "display_data"
    },
    {
     "data": {
      "text/html": [
       "<pre>| 4         | 7        | 1.000000  | 0.181356     | 0.999981          | 0.944583            |</pre>"
      ],
      "text/plain": [
       "| 4         | 7        | 1.000000  | 0.181356     | 0.999981          | 0.944583            |"
      ]
     },
     "metadata": {},
     "output_type": "display_data"
    },
    {
     "data": {
      "text/html": [
       "<pre>| 5         | 8        | 1.000000  | 0.213358     | 1.000000          | 0.975688            |</pre>"
      ],
      "text/plain": [
       "| 5         | 8        | 1.000000  | 0.213358     | 1.000000          | 0.975688            |"
      ]
     },
     "metadata": {},
     "output_type": "display_data"
    },
    {
     "data": {
      "text/html": [
       "<pre>| 6         | 9        | 1.000000  | 0.244352     | 1.000000          | 0.975331            |</pre>"
      ],
      "text/plain": [
       "| 6         | 9        | 1.000000  | 0.244352     | 1.000000          | 0.975331            |"
      ]
     },
     "metadata": {},
     "output_type": "display_data"
    },
    {
     "data": {
      "text/html": [
       "<pre>| 11        | 14       | 1.000000  | 0.404726     | 1.000000          | 0.979263            |</pre>"
      ],
      "text/plain": [
       "| 11        | 14       | 1.000000  | 0.404726     | 1.000000          | 0.979263            |"
      ]
     },
     "metadata": {},
     "output_type": "display_data"
    },
    {
     "data": {
      "text/html": [
       "<pre>| 50        | 69       | 1.000000  | 1.528624     | 1.000000          | 0.979979            |</pre>"
      ],
      "text/plain": [
       "| 50        | 69       | 1.000000  | 1.528624     | 1.000000          | 0.979979            |"
      ]
     },
     "metadata": {},
     "output_type": "display_data"
    },
    {
     "data": {
      "text/html": [
       "<pre>+-----------+----------+-----------+--------------+-------------------+---------------------+</pre>"
      ],
      "text/plain": [
       "+-----------+----------+-----------+--------------+-------------------+---------------------+"
      ]
     },
     "metadata": {},
     "output_type": "display_data"
    },
    {
     "data": {
      "text/html": [
       "<pre>SUCCESS: Optimal solution found.</pre>"
      ],
      "text/plain": [
       "SUCCESS: Optimal solution found."
      ]
     },
     "metadata": {},
     "output_type": "display_data"
    },
    {
     "data": {
      "text/html": [
       "<pre></pre>"
      ],
      "text/plain": []
     },
     "metadata": {},
     "output_type": "display_data"
    },
    {
     "name": "stdout",
     "output_type": "stream",
     "text": [
      "PROGRESS: Creating a validation set from 5 percent of training data. This may take a while.\n",
      "          You can set ``validation_set=None`` to disable validation tracking.\n",
      "\n"
     ]
    },
    {
     "data": {
      "text/html": [
       "<pre>WARNING: The number of feature dimensions in this problem is very large in comparison with the number of examples. Unless an appropriate regularization value is set, this model may not provide accurate predictions for a validation/test set.</pre>"
      ],
      "text/plain": [
       "WARNING: The number of feature dimensions in this problem is very large in comparison with the number of examples. Unless an appropriate regularization value is set, this model may not provide accurate predictions for a validation/test set."
      ]
     },
     "metadata": {},
     "output_type": "display_data"
    },
    {
     "data": {
      "text/html": [
       "<pre>Logistic regression:</pre>"
      ],
      "text/plain": [
       "Logistic regression:"
      ]
     },
     "metadata": {},
     "output_type": "display_data"
    },
    {
     "data": {
      "text/html": [
       "<pre>--------------------------------------------------------</pre>"
      ],
      "text/plain": [
       "--------------------------------------------------------"
      ]
     },
     "metadata": {},
     "output_type": "display_data"
    },
    {
     "data": {
      "text/html": [
       "<pre>Number of examples          : 53947</pre>"
      ],
      "text/plain": [
       "Number of examples          : 53947"
      ]
     },
     "metadata": {},
     "output_type": "display_data"
    },
    {
     "data": {
      "text/html": [
       "<pre>Number of classes           : 2</pre>"
      ],
      "text/plain": [
       "Number of classes           : 2"
      ]
     },
     "metadata": {},
     "output_type": "display_data"
    },
    {
     "data": {
      "text/html": [
       "<pre>Number of feature columns   : 9</pre>"
      ],
      "text/plain": [
       "Number of feature columns   : 9"
      ]
     },
     "metadata": {},
     "output_type": "display_data"
    },
    {
     "data": {
      "text/html": [
       "<pre>Number of unpacked features : 9</pre>"
      ],
      "text/plain": [
       "Number of unpacked features : 9"
      ]
     },
     "metadata": {},
     "output_type": "display_data"
    },
    {
     "data": {
      "text/html": [
       "<pre>Number of coefficients    : 80456</pre>"
      ],
      "text/plain": [
       "Number of coefficients    : 80456"
      ]
     },
     "metadata": {},
     "output_type": "display_data"
    },
    {
     "data": {
      "text/html": [
       "<pre>Starting L-BFGS</pre>"
      ],
      "text/plain": [
       "Starting L-BFGS"
      ]
     },
     "metadata": {},
     "output_type": "display_data"
    },
    {
     "data": {
      "text/html": [
       "<pre>--------------------------------------------------------</pre>"
      ],
      "text/plain": [
       "--------------------------------------------------------"
      ]
     },
     "metadata": {},
     "output_type": "display_data"
    },
    {
     "data": {
      "text/html": [
       "<pre>+-----------+----------+-----------+--------------+-------------------+---------------------+</pre>"
      ],
      "text/plain": [
       "+-----------+----------+-----------+--------------+-------------------+---------------------+"
      ]
     },
     "metadata": {},
     "output_type": "display_data"
    },
    {
     "data": {
      "text/html": [
       "<pre>| Iteration | Passes   | Step size | Elapsed Time | Training-accuracy | Validation-accuracy |</pre>"
      ],
      "text/plain": [
       "| Iteration | Passes   | Step size | Elapsed Time | Training-accuracy | Validation-accuracy |"
      ]
     },
     "metadata": {},
     "output_type": "display_data"
    },
    {
     "data": {
      "text/html": [
       "<pre>+-----------+----------+-----------+--------------+-------------------+---------------------+</pre>"
      ],
      "text/plain": [
       "+-----------+----------+-----------+--------------+-------------------+---------------------+"
      ]
     },
     "metadata": {},
     "output_type": "display_data"
    },
    {
     "data": {
      "text/html": [
       "<pre>| 1         | 3        | 0.000019  | 0.069978     | 0.903665          | 0.896875            |</pre>"
      ],
      "text/plain": [
       "| 1         | 3        | 0.000019  | 0.069978     | 0.903665          | 0.896875            |"
      ]
     },
     "metadata": {},
     "output_type": "display_data"
    },
    {
     "data": {
      "text/html": [
       "<pre>| 2         | 5        | 1.000000  | 0.117983     | 0.935307          | 0.924653            |</pre>"
      ],
      "text/plain": [
       "| 2         | 5        | 1.000000  | 0.117983     | 0.935307          | 0.924653            |"
      ]
     },
     "metadata": {},
     "output_type": "display_data"
    },
    {
     "data": {
      "text/html": [
       "<pre>| 3         | 6        | 1.000000  | 0.149983     | 0.999055          | 0.964931            |</pre>"
      ],
      "text/plain": [
       "| 3         | 6        | 1.000000  | 0.149983     | 0.999055          | 0.964931            |"
      ]
     },
     "metadata": {},
     "output_type": "display_data"
    },
    {
     "data": {
      "text/html": [
       "<pre>| 4         | 7        | 1.000000  | 0.211006     | 0.999981          | 0.938194            |</pre>"
      ],
      "text/plain": [
       "| 4         | 7        | 1.000000  | 0.211006     | 0.999981          | 0.938194            |"
      ]
     },
     "metadata": {},
     "output_type": "display_data"
    },
    {
     "data": {
      "text/html": [
       "<pre>| 5         | 8        | 1.000000  | 0.243026     | 1.000000          | 0.974306            |</pre>"
      ],
      "text/plain": [
       "| 5         | 8        | 1.000000  | 0.243026     | 1.000000          | 0.974306            |"
      ]
     },
     "metadata": {},
     "output_type": "display_data"
    },
    {
     "data": {
      "text/html": [
       "<pre>| 6         | 9        | 1.000000  | 0.272216     | 1.000000          | 0.974653            |</pre>"
      ],
      "text/plain": [
       "| 6         | 9        | 1.000000  | 0.272216     | 1.000000          | 0.974653            |"
      ]
     },
     "metadata": {},
     "output_type": "display_data"
    },
    {
     "data": {
      "text/html": [
       "<pre>| 11        | 14       | 1.000000  | 0.422100     | 1.000000          | 0.973611            |</pre>"
      ],
      "text/plain": [
       "| 11        | 14       | 1.000000  | 0.422100     | 1.000000          | 0.973611            |"
      ]
     },
     "metadata": {},
     "output_type": "display_data"
    },
    {
     "data": {
      "text/html": [
       "<pre>| 25        | 37       | 1.000000  | 0.861229     | 1.000000          | 0.976042            |</pre>"
      ],
      "text/plain": [
       "| 25        | 37       | 1.000000  | 0.861229     | 1.000000          | 0.976042            |"
      ]
     },
     "metadata": {},
     "output_type": "display_data"
    },
    {
     "data": {
      "text/html": [
       "<pre>+-----------+----------+-----------+--------------+-------------------+---------------------+</pre>"
      ],
      "text/plain": [
       "+-----------+----------+-----------+--------------+-------------------+---------------------+"
      ]
     },
     "metadata": {},
     "output_type": "display_data"
    },
    {
     "data": {
      "text/html": [
       "<pre>SUCCESS: Optimal solution found.</pre>"
      ],
      "text/plain": [
       "SUCCESS: Optimal solution found."
      ]
     },
     "metadata": {},
     "output_type": "display_data"
    },
    {
     "data": {
      "text/html": [
       "<pre></pre>"
      ],
      "text/plain": []
     },
     "metadata": {},
     "output_type": "display_data"
    }
   ],
   "source": [
    "#Training our classification Model and Fetaure Engineering\n",
    "featureset1 = ['1gram features']\n",
    "featureset2 = ['1gram features','2gram features']\n",
    "featureset3 = ['1gram features','2gram features','3gram features']\n",
    "featureset4 = ['1gram features','2gram features','3gram features','city']\n",
    "featureset5 = ['1gram features','2gram features','3gram features','city','job_tfidf']\n",
    "featureset6 = ['1gram features','2gram features','3gram features','city','job_tfidf','location']\n",
    "featureset7 = ['1gram features','2gram features','3gram features','city','job_tfidf','location','company_name']\n",
    "featureset8 = ['1gram features','2gram features','3gram features','city','job_tfidf','location','company_name','AvgFTVector']\n",
    "featureset9 = ['1gram features','2gram features','3gram features','city','job_tfidf','location','company_name','AvgFTVector','job_title']\n",
    "featureset10 = ['1gram features','2gram features','3gram features','city','job_tfidf','location','company_name','AvgFTVector','job_title','D2Vector']\n",
    "featureset11 = ['1gram features','2gram features','3gram features','city','location','company_name','AvgFTVector','job_title','D2Vector']\n",
    "\n",
    "featureset12 = ['1gram features','2gram features','3gram features','city','location','company_name','job_tfidf','AvgFTVector','job_title']\n",
    "featureset13 = ['1gram features','2gram features','3gram features','city','location','company_name','job_tfidf','D2Vector','job_title']\n",
    "model_65_90_FeatureSet13_l2_10 = graphlab.logistic_classifier.create(indeed65k_90k_dssf_train, target='IndeedSalaryEstimate', features=featureset13,max_iterations=1000,class_weights = 'auto',\n",
    "                                                          l2_penalty=10)\n",
    "model_65_90_FeatureSet13_l2_100 = graphlab.logistic_classifier.create(indeed65k_90k_dssf_train, target='IndeedSalaryEstimate', features=featureset13,max_iterations=1000,class_weights = 'auto',\n",
    "                                                          l2_penalty=100)"
   ]
  },
  {
   "cell_type": "code",
   "execution_count": 140,
   "metadata": {
    "collapsed": false
   },
   "outputs": [
    {
     "name": "stdout",
     "output_type": "stream",
     "text": [
      "fscore\n",
      "0.916666666667\n",
      "testacc\n",
      "0.982578397213\n",
      "precision\n",
      "0.964912280702\n",
      "recall\n",
      "0.873015873016\n"
     ]
    }
   ],
   "source": [
    "#Fscore, Accuracy, Precision, Recall when L2_Penalty = 10 and Featureset 12 was used.\n",
    "indeed65k_90k_dssf_test['predictions'] = model_65_90_FeatureSet13_l2_10.predict(indeed65k_90k_dssf_test)\n",
    "\n",
    "finaltestfscore = graphlab.evaluation.f1_score(indeed65k_90k_dssf_test['IndeedSalaryEstimate'], indeed65k_90k_dssf_test['predictions'],average = 'macro')\n",
    "finaltestaccuracy = graphlab.evaluation.accuracy(indeed65k_90k_dssf_test['IndeedSalaryEstimate'], indeed65k_90k_dssf_test['predictions'],average = 'macro')\n",
    "finaltestprecision = graphlab.evaluation.precision(indeed65k_90k_dssf_test['IndeedSalaryEstimate'], indeed65k_90k_dssf_test['predictions'],average = 'macro')\n",
    "finaltestrecall = graphlab.evaluation.recall(indeed65k_90k_dssf_test['IndeedSalaryEstimate'], indeed65k_90k_dssf_test['predictions'],average = 'macro')\n",
    "\n",
    "print \"fscore\"\n",
    "print finaltestfscore\n",
    "print \"testacc\"\n",
    "print finaltestaccuracy\n",
    "\n",
    "print \"precision\"\n",
    "print finaltestprecision\n",
    "\n",
    "print \"recall\"\n",
    "print finaltestrecall"
   ]
  },
  {
   "cell_type": "code",
   "execution_count": 141,
   "metadata": {
    "collapsed": false
   },
   "outputs": [
    {
     "name": "stdout",
     "output_type": "stream",
     "text": [
      "fscore\n",
      "0.90756302521\n",
      "testacc\n",
      "0.980836236934\n",
      "precision\n",
      "0.964285714286\n",
      "recall\n",
      "0.857142857143\n"
     ]
    }
   ],
   "source": [
    "#Fscore, Accuracy, Precision, Recall when L2_Penalty = 10 and Featureset 12 was used.\n",
    "indeed65k_90k_dssf_test['predictions'] = model_65_90_FeatureSet13_l2_100.predict(indeed65k_90k_dssf_test)\n",
    "\n",
    "finaltestfscore = graphlab.evaluation.f1_score(indeed65k_90k_dssf_test['IndeedSalaryEstimate'], indeed65k_90k_dssf_test['predictions'],average = 'macro')\n",
    "finaltestaccuracy = graphlab.evaluation.accuracy(indeed65k_90k_dssf_test['IndeedSalaryEstimate'], indeed65k_90k_dssf_test['predictions'],average = 'macro')\n",
    "finaltestprecision = graphlab.evaluation.precision(indeed65k_90k_dssf_test['IndeedSalaryEstimate'], indeed65k_90k_dssf_test['predictions'],average = 'macro')\n",
    "finaltestrecall = graphlab.evaluation.recall(indeed65k_90k_dssf_test['IndeedSalaryEstimate'], indeed65k_90k_dssf_test['predictions'],average = 'macro')\n",
    "\n",
    "print \"fscore\"\n",
    "print finaltestfscore\n",
    "print \"testacc\"\n",
    "print finaltestaccuracy\n",
    "\n",
    "print \"precision\"\n",
    "print finaltestprecision\n",
    "\n",
    "print \"recall\"\n",
    "print finaltestrecall"
   ]
  },
  {
   "cell_type": "markdown",
   "metadata": {},
   "source": [
    "## The best feautre sets that resulted in the best fscores are feature sets 5,6,7, and 8 when varying the L2 penalty.\n",
    "## The experiments above showed that the TFIDF of the Job title (Not just the job title column) column contributed immensely to the double digit improvement in the fscore. Therefore, I have decided to draw the ROC curve of the Fetaure set 4 that did not contain the job_tfidf feature and feature set 5, that contained the job_tfidf feature."
   ]
  },
  {
   "cell_type": "markdown",
   "metadata": {},
   "source": [
    "## Feature set 4 ['1gram features','2gram features','3gram features','city']\n",
    "## ROC Curve"
   ]
  },
  {
   "cell_type": "code",
   "execution_count": 217,
   "metadata": {
    "collapsed": false
   },
   "outputs": [
    {
     "data": {
      "image/png": "[encoded data removed]",
      "text/plain": [
       "<matplotlib.figure.Figure at 0xa6b7d048>"
      ]
     },
     "metadata": {},
     "output_type": "display_data"
    }
   ],
   "source": [
    "\n",
    "roc_curve =  graphlab.evaluation.roc_curve(indeed65k_90k_dssf_test['IndeedSalaryEstimate'], indeed65k_90k_dssf_test['predictions'])\n",
    "\n",
    "plt.plot(roc_curve['fpr'], roc_curve['tpr'])\n",
    "plt.xlabel('FPR')\n",
    "plt.ylabel('TPR')\n",
    "plt.title('Best ROC Curve when using Feature set 4')\n",
    "plt.grid(True)\n",
    "#plt.savefig(\"test.png\")\n",
    "plt.show()"
   ]
  },
  {
   "cell_type": "markdown",
   "metadata": {},
   "source": [
    "## ROC Curve after Adding the job_tfidf feature to feature set 4 (['1gram features','2gram features','3gram features','city']).\n",
    "## We see that the job_tfidf feature was really powerfull in boosting the fscore by double digits which increased the area under the ROC curve below.\n"
   ]
  },
  {
   "cell_type": "code",
   "execution_count": 218,
   "metadata": {
    "collapsed": false
   },
   "outputs": [
    {
     "data": {
      "image/png": "[encoded data removed]",
      "text/plain": [
       "<matplotlib.figure.Figure at 0x1364b1048>"
      ]
     },
     "metadata": {},
     "output_type": "display_data"
    }
   ],
   "source": [
    "\n",
    "roc_curve =  graphlab.evaluation.roc_curve(indeed65k_90k_dssf_test['IndeedSalaryEstimate'], indeed65k_90k_dssf_test['predictions'])\n",
    "\n",
    "plt.plot(roc_curve['fpr'], roc_curve['tpr'])\n",
    "plt.xlabel('FPR')\n",
    "plt.ylabel('TPR')\n",
    "plt.title('Best ROC Curve when using Feature set 5')\n",
    "plt.grid(True)\n",
    "#plt.savefig(\"test.png\")\n",
    "plt.show()"
   ]
  },
  {
   "cell_type": "markdown",
   "metadata": {},
   "source": [
    "## The following ROC curve shows the area under the ROC curve for the full feature set --> feature set 10\n",
    "## featureset10 = ['1gram features','2gram features','3gram features','city','job_tfidf','location','company_name','AvgFTVector','job_title','D2Vector']"
   ]
  },
  {
   "cell_type": "code",
   "execution_count": 262,
   "metadata": {
    "collapsed": false
   },
   "outputs": [
    {
     "data": {
      "image/png": "[encoded data removed]",
      "text/plain": [
       "<matplotlib.figure.Figure at 0xa6b6e940>"
      ]
     },
     "metadata": {},
     "output_type": "display_data"
    }
   ],
   "source": [
    "\n",
    "plt.plot(roc_curve['fpr'], roc_curve['tpr'])\n",
    "plt.xlabel('FPR')\n",
    "plt.ylabel('TPR')\n",
    "plt.title('Best ROC Curve when using Feature set 5')\n",
    "plt.grid(True)\n",
    "#plt.savefig(\"test.png\")\n",
    "plt.show()"
   ]
  },
  {
   "cell_type": "markdown",
   "metadata": {},
   "source": [
    "## The following ROC curve shows the drop in the area under the ROC curve when removing the Job title_tfidf feature from the full fetaure set --> Feature set 10 shown above.\n"
   ]
  },
  {
   "cell_type": "code",
   "execution_count": 230,
   "metadata": {
    "collapsed": false
   },
   "outputs": [
    {
     "data": {
      "image/png": "[encoded data removed]",
      "text/plain": [
       "<matplotlib.figure.Figure at 0x132982358>"
      ]
     },
     "metadata": {},
     "output_type": "display_data"
    }
   ],
   "source": [
    "\n",
    "roc_curve =  graphlab.evaluation.roc_curve(indeed65k_90k_dssf_test['IndeedSalaryEstimate'], indeed65k_90k_dssf_test['predictions'])\n",
    "\n",
    "plt.plot(roc_curve['fpr'], roc_curve['tpr'])\n",
    "plt.xlabel('FPR')\n",
    "plt.ylabel('TPR')\n",
    "plt.title('Best ROC Curve when using Feature set 11')\n",
    "plt.grid(True)\n",
    "#plt.savefig(\"test.png\")\n",
    "plt.show()"
   ]
  },
  {
   "cell_type": "markdown",
   "metadata": {},
   "source": [
    "## The followng ROC Curve shows the result of using feature set 12 that contains the full feature set (feature set 10) without the Doc2Vec feature"
   ]
  },
  {
   "cell_type": "code",
   "execution_count": 251,
   "metadata": {
    "collapsed": false
   },
   "outputs": [
    {
     "data": {
      "image/png": "[encoded data removed]",
      "text/plain": [
       "<matplotlib.figure.Figure at 0xa67505c0>"
      ]
     },
     "metadata": {},
     "output_type": "display_data"
    }
   ],
   "source": [
    "\n",
    "roc_curve =  graphlab.evaluation.roc_curve(indeed65k_90k_dssf_test['IndeedSalaryEstimate'], indeed65k_90k_dssf_test['predictions'])\n",
    "\n",
    "plt.plot(roc_curve['fpr'], roc_curve['tpr'])\n",
    "plt.xlabel('FPR')\n",
    "plt.ylabel('TPR')\n",
    "plt.title('Best ROC Curve when using Feature set 12')\n",
    "plt.grid(True)\n",
    "#plt.savefig(\"test.png\")\n",
    "plt.show()"
   ]
  },
  {
   "cell_type": "markdown",
   "metadata": {},
   "source": [
    "## The followng ROC Curve id the result of using feature set 12 that contains the full feature set (feature set 10) without the average fast text vector feature. It is clear that removing the average fast text vector feature resulted in more drop in area under the ROC compared to removing the doc2vec vector feature."
   ]
  },
  {
   "cell_type": "code",
   "execution_count": 241,
   "metadata": {
    "collapsed": false
   },
   "outputs": [
    {
     "data": {
      "image/png": "[encoded data removed]",
      "text/plain": [
       "<matplotlib.figure.Figure at 0x13656e390>"
      ]
     },
     "metadata": {},
     "output_type": "display_data"
    }
   ],
   "source": [
    "\n",
    "\n",
    "roc_curve =  graphlab.evaluation.roc_curve(indeed65k_90k_dssf_test['IndeedSalaryEstimate'], indeed65k_90k_dssf_test['predictions'])\n",
    "\n",
    "plt.plot(roc_curve['fpr'], roc_curve['tpr'])\n",
    "plt.xlabel('FPR')\n",
    "plt.ylabel('TPR')\n",
    "plt.title('Best ROC Curve when using Feature set 13')\n",
    "plt.grid(True)\n",
    "#plt.savefig(\"test.png\")\n",
    "plt.show()"
   ]
  }
 ],
 "metadata": {
  "kernelspec": {
   "display_name": "Python 2",
   "language": "python",
   "name": "python2"
  },
  "language_info": {
   "codemirror_mode": {
    "name": "ipython",
    "version": 2
   },
   "file_extension": ".py",
   "mimetype": "text/x-python",
   "name": "python",
   "nbconvert_exporter": "python",
   "pygments_lexer": "ipython2",
   "version": "2.7.11"
  }
 },
 "nbformat": 4,
 "nbformat_minor": 0
}
