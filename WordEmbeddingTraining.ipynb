{
 "cells": [
  {
   "cell_type": "markdown",
   "metadata": {},
   "source": [
    "## Word Embedding training for Fast Text and Doc2Vec vectors"
   ]
  },
  {
   "cell_type": "code",
   "execution_count": 4,
   "metadata": {},
   "outputs": [],
   "source": [
    "import pandas as pd\n",
    "indeed65k_90k_ds = pd.read_csv('indeed65k_90k_145k_dssf.csv')"
   ]
  },
  {
   "cell_type": "code",
   "execution_count": 5,
   "metadata": {},
   "outputs": [],
   "source": [
    "indeed65k_90k_ds_text = indeed65k_90k_ds['summary']"
   ]
  },
  {
   "cell_type": "code",
   "execution_count": 6,
   "metadata": {},
   "outputs": [],
   "source": [
    "import gensim, logging"
   ]
  },
  {
   "cell_type": "code",
   "execution_count": 7,
   "metadata": {},
   "outputs": [
    {
     "name": "stdout",
     "output_type": "stream",
     "text": [
      "['ability', 'to', 'face', 'client', 'technical', 'architects', 'and', 'data', 'scientists', 'to', 'explain', 'how', 'we', 'deliver', 'our', 'solutions', 'products', 'and', 'platform']\n"
     ]
    }
   ],
   "source": [
    "bookpossentences=[]\n",
    "allsentences=[]\n",
    "with open(\"indeed65k_90k_ds_text.txt\") as f:\n",
    "    File = f.readlines()\n",
    "    for l in File:\n",
    "        words = l.split(\" \")\n",
    "        for i in range(len(words)):\n",
    "            words[i] = words[i].lower()\n",
    "            if \",\" in words[i]:\n",
    "                words[i]=words[i].replace(\",\",\"\")\n",
    "            \n",
    "            if '\\\"' in words[i]:\n",
    "                words[i] = words[i].replace('\\\"','')\n",
    "            if \".\" in words[i]:\n",
    "                j = words[i].index(\".\")\n",
    "                words[i] = words[i][:j]\n",
    "            #words[-1] = words[-1].replace(\"\\n\",\"\")\n",
    "            elif \"\\n\" in words[i]:\n",
    "                j = words[i].index(\"\\n\")\n",
    "                words[i] = words[i][:j]\n",
    "        bookpossentences.append(words)\n",
    "        allsentences.append(words)\n",
    "    print words"
   ]
  },
  {
   "cell_type": "code",
   "execution_count": 8,
   "metadata": {},
   "outputs": [],
   "source": [
    "#from gensim.models.wrappers.fasttext import FastText\n",
    "from gensim.models.fasttext import FastText\n",
    "from gensim.models.doc2vec import Doc2Vec"
   ]
  },
  {
   "cell_type": "code",
   "execution_count": 9,
   "metadata": {},
   "outputs": [],
   "source": [
    "FastTextModel500 =FastText(min_count=1,size=500)\n",
    "#FastTextModel.build_vocab(allsentences)\n",
    "FastTextModel500.build_vocab(allsentences)\n",
    "FastTextModel500.train(allsentences)"
   ]
  },
  {
   "cell_type": "code",
   "execution_count": 10,
   "metadata": {},
   "outputs": [],
   "source": [
    "def FastVectorizer(text):\n",
    "    words = text.split()\n",
    "    for i in range(len(words)):\n",
    "            words[i] = words[i].lower()\n",
    "            if \",\" in words[i]:\n",
    "                words[i]=words[i].replace(\",\",\"\")\n",
    "            \n",
    "            if '\\\"' in words[i]:\n",
    "                words[i] = words[i].replace('\\\"','')\n",
    "            if \".\" in words[i]:\n",
    "                j = words[i].index(\".\")\n",
    "                words[i] = words[i][:j]\n",
    "            #words[-1] = words[-1].replace(\"\\n\",\"\")\n",
    "            elif \"\\n\" in words[i]:\n",
    "                j = words[i].index(\"\\n\")\n",
    "                words[i] = words[i][:j]\n",
    "    s = [0]*500\n",
    "    for t in range(0,len(words)):\n",
    "        s = FastTextModel500[words[t]] + s\n",
    "        #FastTextModel500\n",
    "    return np.divide(s, len(words))"
   ]
  },
  {
   "cell_type": "code",
   "execution_count": null,
   "metadata": {},
   "outputs": [],
   "source": [
    "import numpy as np\n",
    "indeed65k_90k_ds['AvgFTVector'] = indeed65k_90k_ds['summary'].apply(lambda x: FastVectorizer(x))"
   ]
  },
  {
   "cell_type": "code",
   "execution_count": null,
   "metadata": {},
   "outputs": [],
   "source": [
    "from gensim.models.doc2vec import TaggedLineDocument\n",
    "sentences = TaggedLineDocument(\"indeed65k_90k_ds_text.txt\")"
   ]
  },
  {
   "cell_type": "code",
   "execution_count": null,
   "metadata": {},
   "outputs": [],
   "source": [
    "d2vmodel = Doc2Vec(alpha=0.025, min_alpha=0.025)\n",
    "d2vmodel.build_vocab(sentences)\n",
    "\n",
    "for epoch in range(10):\n",
    "    d2vmodel.train(sentences,total_examples=d2vmodel.corpus_count,epochs=d2vmodel.iter)\n",
    "    d2vmodel.alpha -= 0.002\n",
    "    d2vmodel.min_alpha = d2vmodel.alpha\n",
    "    print epoch"
   ]
  },
  {
   "cell_type": "code",
   "execution_count": null,
   "metadata": {},
   "outputs": [],
   "source": [
    "indeed65k_90k_ds['D2Vector'] = indeed65k_90k_ds['summary'].apply(lambda x: d2vmodel.infer_vector(x))"
   ]
  },
  {
   "cell_type": "code",
   "execution_count": null,
   "metadata": {},
   "outputs": [],
   "source": [
    "indeed65k_90k_ds.to_csv('indeed65k_90k_145k_ds_w2v_d2v.txt',index=False)"
   ]
  }
 ],
 "metadata": {
  "kernelspec": {
   "display_name": "Python 2",
   "language": "python",
   "name": "python2"
  },
  "language_info": {
   "codemirror_mode": {
    "name": "ipython",
    "version": 2
   },
   "file_extension": ".py",
   "mimetype": "text/x-python",
   "name": "python",
   "nbconvert_exporter": "python",
   "pygments_lexer": "ipython2",
   "version": "2.7.6"
  }
 },
 "nbformat": 4,
 "nbformat_minor": 2
}
